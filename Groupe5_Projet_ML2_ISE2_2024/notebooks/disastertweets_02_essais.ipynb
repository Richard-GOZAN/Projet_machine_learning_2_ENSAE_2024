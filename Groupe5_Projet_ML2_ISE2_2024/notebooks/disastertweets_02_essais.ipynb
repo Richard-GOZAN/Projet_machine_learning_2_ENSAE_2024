{
 "cells": [
  {
   "cell_type": "markdown",
   "id": "5a476018-1d52-4def-8fc2-19e012977bc5",
   "metadata": {},
   "source": [
    "<CENTER><div style=\"display: flex; background-color: RGB(255,204,50);\" >\n",
    "<h1 style=\"margin: auto; padding: 30px; \">NATURAL LANGUAGE PROCESSING WITH DISASTER TWEETS<br><br>MODELISATION</h1>\n",
    "</div>"
   ]
  },
  {
   "cell_type": "markdown",
   "id": "d43b7d31-cc85-4884-aa28-8269ec3907f0",
   "metadata": {},
   "source": [
    "# Objectif du Notebook\n",
    "\n",
    "L'objectif de ce notebook est de réaliser une modélisation efficace pour notre jeu de données. Pour cela, plusieurs modèles de classification ont été testés afin de déterminer celui qui offre la meilleure performance. Les modèles testés incluent :\n",
    "\n",
    "- Régression Logistique (Logistic Regression)\n",
    "- Bernoulli Naive Bayes\n",
    "- Classificateur KNN (K-Nearest Neighbors)\n",
    "- Classificateur Perceptron\n",
    "- Arbre de Décision (Decision Tree)\n",
    "- Perceptron Multicouche (Multilayer Perceptron)\n",
    "\n",
    "Chaque modèle a été évalué à l'aide de différentes métriques, notamment le score F-beta, afin de sélectionner le modèle le plus performant. Le choix final du meilleur modèle repose sur les résultats obtenus sur les jeux de données d'entraînement et de test.\n"
   ]
  },
  {
   "cell_type": "markdown",
   "id": "bbad7020-b755-4633-8d6d-f6ccd23a4905",
   "metadata": {},
   "source": [
    "# Importation"
   ]
  },
  {
   "cell_type": "code",
   "execution_count": 1,
   "id": "3eecdb38-f399-49e1-8f26-e92e424e05fa",
   "metadata": {},
   "outputs": [
    {
     "name": "stderr",
     "output_type": "stream",
     "text": [
      "C:\\Users\\user\\AppData\\Local\\Temp\\ipykernel_21496\\1146071998.py:5: DeprecationWarning: `import pandas_profiling` is going to be deprecated by April 1st. Please use `import ydata_profiling` instead.\n",
      "  from pandas_profiling import ProfileReport\n"
     ]
    }
   ],
   "source": [
    "import os\n",
    "from pathlib import Path\n",
    "import matplotlib.pyplot as plt\n",
    "import pandas as pd\n",
    "from pandas_profiling import ProfileReport\n",
    "import seaborn as sns\n",
    "import re\n",
    "from collections import Counter\n",
    "from nltk.corpus import stopwords\n",
    "from nltk.stem import PorterStemmer, SnowballStemmer, LancasterStemmer, WordNetLemmatizer\n",
    "from nltk.tokenize import word_tokenize\n",
    "from wordcloud import WordCloud\n",
    "from sklearn.datasets import fetch_20newsgroups\n",
    "from sklearn.model_selection import train_test_split, cross_val_score, cross_val_predict\n",
    "from sklearn.metrics import confusion_matrix, classification_report, accuracy_score, make_scorer, fbeta_score \n",
    "from sklearn.base import BaseEstimator, TransformerMixin\n",
    "from sklearn.feature_extraction.text import CountVectorizer, TfidfVectorizer\n",
    "from sklearn.linear_model import LogisticRegression\n",
    "from sklearn.tree import DecisionTreeClassifier\n",
    "from sklearn.neural_network import MLPClassifier\n",
    "from xgboost import XGBClassifier\n",
    "from sklearn.tree import DecisionTreeClassifier\n",
    "from sklearn.neighbors import KNeighborsClassifier\n",
    "from sklearn.linear_model import Perceptron\n",
    "from sklearn.pipeline import Pipeline\n",
    "from sklearn.metrics import (accuracy_score,\n",
    "                             classification_report,\n",
    "                             roc_auc_score,\n",
    "                             confusion_matrix,\n",
    "                            )\n",
    "from sklearn.model_selection import GridSearchCV, cross_validate, StratifiedKFold\n",
    "import warnings\n",
    "import pyLDAvis.gensim_models\n",
    "import pyLDAvis\n",
    "# filter warnings\n",
    "warnings.filterwarnings('ignore')"
   ]
  },
  {
   "cell_type": "code",
   "execution_count": 2,
   "id": "f3a77116-b791-476c-b0bc-d0a26f5d71eb",
   "metadata": {},
   "outputs": [
    {
     "name": "stdout",
     "output_type": "stream",
     "text": [
      "Work directory: C:\\Users\\user\\Documents\\Jupyter\\ML2\\Projet\\drive-download-20240606T173343Z-001 \n",
      "Data directory: C:\\Users\\user\\Documents\\Jupyter\\ML2\\Projet\\drive-download-20240606T173343Z-001\\data\n"
     ]
    }
   ],
   "source": [
    "# Définition du répertoire de travail\n",
    "HOME_DIR = Path.cwd().parent\n",
    "DATA_DIR = Path(HOME_DIR, \"data\")\n",
    "print(f\"Work directory: {HOME_DIR} \\nData directory: {DATA_DIR}\")"
   ]
  },
  {
   "cell_type": "code",
   "execution_count": 3,
   "id": "1dc23267-2956-4235-bae0-e23ada9cf078",
   "metadata": {},
   "outputs": [],
   "source": [
    "# importation de la base\n",
    "train_data = pd.read_csv(Path(DATA_DIR, \"Usefuldata.csv\"), sep=\",\")\n",
    "test_data = pd.read_csv(Path(DATA_DIR, \"test.csv\"), sep=\",\")"
   ]
  },
  {
   "cell_type": "markdown",
   "id": "4e4047f5-5527-4e24-aa4d-3df36a8fbdbe",
   "metadata": {
    "id": "xIdgkzlDNKek"
   },
   "source": [
    "# **Modélisation**\n",
    "\n",
    "Elle peut se faire de 2 manières :\n",
    "- Dans le cas présent, étant donné que le prétraitement à déjà été effectué, on peut continuer ainsi, faire une vectorisation et une modélisation simultanément dans le pipeline\n",
    "- Dans un autre cas et dans une optique de déployement, il serait possible d'intégrer le prétraitement dans le pipeline"
   ]
  },
  {
   "cell_type": "markdown",
   "id": "66c339e0-11f1-43da-bf92-62ca5a477075",
   "metadata": {
    "id": "aDoEnzh6Om4w"
   },
   "source": [
    "### **Test de modélisation**"
   ]
  },
  {
   "cell_type": "code",
   "execution_count": 4,
   "id": "a2413887-6b7b-415b-9db4-61fac13a17d4",
   "metadata": {},
   "outputs": [
    {
     "name": "stderr",
     "output_type": "stream",
     "text": [
      "[nltk_data] Downloading package stopwords to\n",
      "[nltk_data]     C:\\Users\\user\\AppData\\Roaming\\nltk_data...\n",
      "[nltk_data]   Package stopwords is already up-to-date!\n",
      "[nltk_data] Downloading package punkt to\n",
      "[nltk_data]     C:\\Users\\user\\AppData\\Roaming\\nltk_data...\n",
      "[nltk_data]   Package punkt is already up-to-date!\n",
      "[nltk_data] Downloading package wordnet to\n",
      "[nltk_data]     C:\\Users\\user\\AppData\\Roaming\\nltk_data...\n",
      "[nltk_data]   Package wordnet is already up-to-date!\n",
      "[nltk_data] Downloading package omw-1.4 to\n",
      "[nltk_data]     C:\\Users\\user\\AppData\\Roaming\\nltk_data...\n",
      "[nltk_data]   Package omw-1.4 is already up-to-date!\n"
     ]
    }
   ],
   "source": [
    "import nltk\n",
    "nltk.download('stopwords')\n",
    "nltk.download('punkt')\n",
    "nltk.download('wordnet')\n",
    "nltk.download('omw-1.4')\n",
    "# stopwords of english language\n",
    "stopwords_nltk = set(stopwords.words('english'))"
   ]
  },
  {
   "cell_type": "markdown",
   "id": "41d777d9-ea81-4c8f-9dda-4bf4cf09cc95",
   "metadata": {
    "id": "nCXdmNPdmFnr"
   },
   "source": [
    "#### **Vectorisation**"
   ]
  },
  {
   "cell_type": "code",
   "execution_count": 5,
   "id": "3cc9b664-f218-4f30-b9b5-860679d07c98",
   "metadata": {
    "id": "HCgGNKczmd1c"
   },
   "outputs": [],
   "source": [
    "# get all tweets (corpus)\n",
    "target = train_data.target\n",
    "corpus_none = train_data.text_sanitize # corpus non normalisé\n",
    "corpus_stem = train_data.text_sanitize_stem # corpus normalisé par stemmatisation\n",
    "corpus_lemma = train_data.text_sanitize_lemma # corpus normalisé par lemmatisation\n",
    "corpus_lemma_stem = train_data.text_sanitize_lemma_stem # corpus normalisé par lemmatisation et ensuite par stemmatisation"
   ]
  },
  {
   "cell_type": "markdown",
   "id": "d9fd6480-aaab-49ed-af99-e70e7586c36b",
   "metadata": {
    "id": "8xEs02dTrXFL"
   },
   "source": [
    "**Vectoriser avec le Bag of Word**"
   ]
  },
  {
   "cell_type": "code",
   "execution_count": 6,
   "id": "e7b5a954-4845-4a37-b515-43e67b673b3f",
   "metadata": {
    "id": "Xz6NnDOfrfpN"
   },
   "outputs": [],
   "source": [
    "# vectorisation avec BoW en utilisant un corpus non normalisé et des token unigramme\n",
    "count_vect = CountVectorizer(binary=True, ngram_range = (1,1))\n",
    "X_train_none = count_vect.fit_transform(corpus_none)"
   ]
  },
  {
   "cell_type": "code",
   "execution_count": 7,
   "id": "ef29af0c-cc8c-446a-a767-d2bb88b7ec16",
   "metadata": {
    "id": "rV-ny_vcPUFy"
   },
   "outputs": [],
   "source": [
    "# vectorisation avec BoW en utilisant un corpus non normalisé et des token unigramme et bigramme\n",
    "count_vect = CountVectorizer(binary=True, ngram_range = (1,2))\n",
    "X_train_12none = count_vect.fit_transform(corpus_none)"
   ]
  },
  {
   "cell_type": "code",
   "execution_count": 8,
   "id": "4e1f4857-ba0c-4f1d-9221-48cb51ea47d5",
   "metadata": {
    "id": "x4et2eIz1B3p"
   },
   "outputs": [],
   "source": [
    "# vectorisation avec BoW en utilisant un corpus normalisé par stemmatisation et des token unigramme\n",
    "count_vect = CountVectorizer(binary=True, ngram_range = (1,1))\n",
    "X_train_strem = count_vect.fit_transform(corpus_stem)"
   ]
  },
  {
   "cell_type": "code",
   "execution_count": 9,
   "id": "72153819-76bf-434d-977c-67b00cbac65c",
   "metadata": {
    "id": "zSTOEMoT1KPz"
   },
   "outputs": [],
   "source": [
    "# vectorisation avec BoW en utilisant un corpus normalisé par lemmatisation et des token unigramme\n",
    "count_vect = CountVectorizer(binary=True, ngram_range = (1,1))\n",
    "X_train_lemma = count_vect.fit_transform(corpus_lemma)"
   ]
  },
  {
   "cell_type": "code",
   "execution_count": 10,
   "id": "8182e775-6515-463d-8495-946f4c03baca",
   "metadata": {
    "id": "wX-3sJZM1NYV"
   },
   "outputs": [],
   "source": [
    "# vectorisation avec BoW en utilisant un corpus normalisé par lemmatisation et par stemmatisation et des token unigramme\n",
    "count_vect = CountVectorizer(binary=True, ngram_range = (1,1))\n",
    "X_train_lemma_stem = count_vect.fit_transform(corpus_lemma_stem)"
   ]
  },
  {
   "cell_type": "markdown",
   "id": "f55ce93e-c82c-4d13-9cda-958198b7424b",
   "metadata": {
    "id": "Pj4KjwNouDW0"
   },
   "source": [
    "**Vectoriser avec Td-IDF**"
   ]
  },
  {
   "cell_type": "code",
   "execution_count": 11,
   "id": "104fbeac-a892-4857-b925-97eaeed698ba",
   "metadata": {
    "id": "DdCWN3tz1lvJ"
   },
   "outputs": [],
   "source": [
    "# vectorisation avec TF-IDF en utilisant un corpus non normalisé et des token unigramme\n",
    "tfidf_vectorizer = TfidfVectorizer(stop_words=list(stopwords_nltk), max_df=0.95,\n",
    "                                   min_df=0.025, ngram_range=(1, 1))\n",
    "X_train_TFnone = tfidf_vectorizer.fit_transform(corpus_none)"
   ]
  },
  {
   "cell_type": "code",
   "execution_count": 12,
   "id": "66bcbfdb-ae3d-4540-a6ba-bc39dbc8c2ad",
   "metadata": {
    "id": "RiUZtKpWWYW_"
   },
   "outputs": [],
   "source": [
    "# vectorisation avec TF-IDF en utilisant un corpus non normalisé et des token unigramme et bigramme\n",
    "tfidf_vectorizer = TfidfVectorizer(stop_words=list(stopwords_nltk), max_df=0.95,\n",
    "                                   min_df=0.025, ngram_range=(1, 2))\n",
    "X_train_TF12none = tfidf_vectorizer.fit_transform(corpus_none)"
   ]
  },
  {
   "cell_type": "code",
   "execution_count": 13,
   "id": "287ffa80-6c31-4199-b0b2-76da33d4a8cf",
   "metadata": {
    "id": "673bGZ921lvY"
   },
   "outputs": [],
   "source": [
    "# vectorisation avec TF-IDF en utilisant un corpus normalisé par stemmatisation et des token unigramme\n",
    "tfidf_vectorizer = TfidfVectorizer(stop_words=list(stopwords_nltk), max_df=0.95,\n",
    "                                   min_df=0.025, ngram_range=(1, 1))\n",
    "X_train_TFstrem = tfidf_vectorizer.fit_transform(corpus_stem)"
   ]
  },
  {
   "cell_type": "code",
   "execution_count": 14,
   "id": "5d8e84b3-7968-427a-9746-c9a516684356",
   "metadata": {
    "id": "zweQHm-A1lvY"
   },
   "outputs": [],
   "source": [
    "# vectorisation avec TF-IDF en utilisant un corpus normalisé par lemmatisation et des token unigramme\n",
    "tfidf_vectorizer = TfidfVectorizer(stop_words=list(stopwords_nltk), max_df=0.95,\n",
    "                                   min_df=0.025, ngram_range=(1, 1))\n",
    "X_train_TFlemma = tfidf_vectorizer.fit_transform(corpus_lemma)"
   ]
  },
  {
   "cell_type": "code",
   "execution_count": 15,
   "id": "4f93f4ef-e565-4b96-81d1-e5d4426672be",
   "metadata": {
    "id": "bOW8FLoZ1lvZ"
   },
   "outputs": [],
   "source": [
    "# vectorisation avec TF-IDF en utilisant un corpus normalisé par lemmatisation et par stemmatisation et des token unigramme\n",
    "tfidf_vectorizer = TfidfVectorizer(stop_words=list(stopwords_nltk), max_df=0.95,\n",
    "                                   min_df=0.025, ngram_range=(1, 1))\n",
    "X_train_TFlemma_stem = tfidf_vectorizer.fit_transform(corpus_lemma_stem)"
   ]
  },
  {
   "cell_type": "markdown",
   "id": "93387448-de06-486b-917d-12d9ae7f75ff",
   "metadata": {
    "id": "EYGuQIZAO6zB"
   },
   "source": [
    "#### **Modélisation**"
   ]
  },
  {
   "cell_type": "markdown",
   "id": "2c61a0a7-404d-4591-b9a7-61df842411ad",
   "metadata": {
    "id": "joGLYywxRXEG"
   },
   "source": [
    "***BoW***"
   ]
  },
  {
   "cell_type": "code",
   "execution_count": 16,
   "id": "8ea8d019-737d-4521-8580-5fd30d3a65ae",
   "metadata": {
    "colab": {
     "base_uri": "https://localhost:8080/"
    },
    "id": "-gYw_MjePIY5",
    "outputId": "7cd73c48-8e58-4b94-cb99-4d24ff56b87d"
   },
   "outputs": [
    {
     "name": "stdout",
     "output_type": "stream",
     "text": [
      "              precision    recall  f1-score   support\n",
      "\n",
      "           0       0.87      0.97      0.92      4305\n",
      "           1       0.95      0.81      0.87      3198\n",
      "\n",
      "    accuracy                           0.90      7503\n",
      "   macro avg       0.91      0.89      0.89      7503\n",
      "weighted avg       0.90      0.90      0.90      7503\n",
      "\n",
      "F-beta score (beta=1.75): 0.839172181134034\n"
     ]
    }
   ],
   "source": [
    "from sklearn.naive_bayes import BernoulliNB\n",
    "from sklearn.metrics import (accuracy_score, classification_report,\n",
    "                             roc_auc_score, confusion_matrix)\n",
    "\n",
    "# Création et entraînement du classifieur\n",
    "clf = BernoulliNB().fit(X_train_none, target)\n",
    "# train prediction\n",
    "y_train_pred = clf.predict(X_train_none)\n",
    "# train report\n",
    "print(classification_report(target, y_train_pred))\n",
    "\n",
    "fbeta = fbeta_score(target, y_train_pred, beta=1.75)\n",
    "print(f\"F-beta score (beta=1.75): {fbeta}\")"
   ]
  },
  {
   "cell_type": "code",
   "execution_count": 17,
   "id": "550dcd48-eef9-46be-8436-733609e10628",
   "metadata": {
    "colab": {
     "base_uri": "https://localhost:8080/"
    },
    "id": "uwNGZc0eRTgc",
    "outputId": "e681f939-19bc-46c9-a32e-4ddd064c1648"
   },
   "outputs": [
    {
     "name": "stdout",
     "output_type": "stream",
     "text": [
      "              precision    recall  f1-score   support\n",
      "\n",
      "           0       0.90      0.99      0.94      4305\n",
      "           1       0.99      0.85      0.91      3198\n",
      "\n",
      "    accuracy                           0.93      7503\n",
      "   macro avg       0.94      0.92      0.93      7503\n",
      "weighted avg       0.94      0.93      0.93      7503\n",
      "\n",
      "F-beta score (beta=1.75): 0.8791049982558428\n"
     ]
    }
   ],
   "source": [
    "# Création et entraînement du classifieur\n",
    "clf = BernoulliNB().fit(X_train_12none, target)\n",
    "# train prediction\n",
    "y_train_pred = clf.predict(X_train_12none)\n",
    "# train report\n",
    "print(classification_report(target, y_train_pred))\n",
    "\n",
    "fbeta = fbeta_score(target, y_train_pred, beta=1.75)\n",
    "print(f\"F-beta score (beta=1.75): {fbeta}\")"
   ]
  },
  {
   "cell_type": "code",
   "execution_count": 18,
   "id": "4ddd5f32-1161-4993-8e4b-464e44828a04",
   "metadata": {
    "colab": {
     "base_uri": "https://localhost:8080/"
    },
    "id": "DlxLnFsSRTxr",
    "outputId": "caed09cd-a96b-4d8f-8dc3-13f873f59a04"
   },
   "outputs": [
    {
     "name": "stdout",
     "output_type": "stream",
     "text": [
      "              precision    recall  f1-score   support\n",
      "\n",
      "           0       0.86      0.96      0.91      4305\n",
      "           1       0.93      0.80      0.86      3198\n",
      "\n",
      "    accuracy                           0.89      7503\n",
      "   macro avg       0.90      0.88      0.88      7503\n",
      "weighted avg       0.89      0.89      0.89      7503\n",
      "\n",
      "F-beta score (beta=1.75): 0.8264609271258698\n"
     ]
    }
   ],
   "source": [
    "# Création et entraînement du classifieur\n",
    "clf = BernoulliNB().fit(X_train_strem, target)\n",
    "# train prediction\n",
    "y_train_pred = clf.predict(X_train_strem)\n",
    "# train report\n",
    "print(classification_report(target, y_train_pred))\n",
    "\n",
    "fbeta = fbeta_score(target, y_train_pred, beta=1.75)\n",
    "print(f\"F-beta score (beta=1.75): {fbeta}\")"
   ]
  },
  {
   "cell_type": "code",
   "execution_count": 19,
   "id": "93dfc986-cf00-46aa-b615-610b18be2d0a",
   "metadata": {
    "colab": {
     "base_uri": "https://localhost:8080/"
    },
    "id": "16cmlqnFRUAA",
    "outputId": "59ec0512-5d19-45eb-dd99-7335b38a9d52"
   },
   "outputs": [
    {
     "name": "stdout",
     "output_type": "stream",
     "text": [
      "              precision    recall  f1-score   support\n",
      "\n",
      "           0       0.87      0.97      0.92      4305\n",
      "           1       0.95      0.80      0.87      3198\n",
      "\n",
      "    accuracy                           0.90      7503\n",
      "   macro avg       0.91      0.88      0.89      7503\n",
      "weighted avg       0.90      0.90      0.90      7503\n",
      "\n",
      "F-beta score (beta=1.75): 0.8342746328931717\n"
     ]
    }
   ],
   "source": [
    "# Création et entraînement du classifieur\n",
    "clf = BernoulliNB().fit(X_train_lemma, target)\n",
    "# train prediction\n",
    "y_train_pred = clf.predict(X_train_lemma)\n",
    "# train report\n",
    "print(classification_report(target, y_train_pred))\n",
    "\n",
    "fbeta = fbeta_score(target, y_train_pred, beta=1.75)\n",
    "print(f\"F-beta score (beta=1.75): {fbeta}\")"
   ]
  },
  {
   "cell_type": "code",
   "execution_count": 20,
   "id": "53f59e11-6b75-4c3d-9696-0cde72cc4864",
   "metadata": {
    "colab": {
     "base_uri": "https://localhost:8080/"
    },
    "id": "7Rv0g67YRUPk",
    "outputId": "3720bae4-8b17-4655-f1b9-e70e9cc0757c"
   },
   "outputs": [
    {
     "name": "stdout",
     "output_type": "stream",
     "text": [
      "              precision    recall  f1-score   support\n",
      "\n",
      "           0       0.86      0.96      0.91      4305\n",
      "           1       0.93      0.80      0.86      3198\n",
      "\n",
      "    accuracy                           0.89      7503\n",
      "   macro avg       0.90      0.88      0.88      7503\n",
      "weighted avg       0.89      0.89      0.89      7503\n",
      "\n",
      "F-beta score (beta=1.75): 0.8256853248115045\n"
     ]
    }
   ],
   "source": [
    "# Création et entraînement du classifieur\n",
    "clf = BernoulliNB().fit(X_train_lemma_stem, target)\n",
    "# train prediction\n",
    "y_train_pred = clf.predict(X_train_lemma_stem)\n",
    "# train report\n",
    "print(classification_report(target, y_train_pred))\n",
    "\n",
    "fbeta = fbeta_score(target, y_train_pred, beta=1.75)\n",
    "print(f\"F-beta score (beta=1.75): {fbeta}\")"
   ]
  },
  {
   "cell_type": "markdown",
   "id": "71588298-1c76-40db-b0e2-e1ae02fcecfe",
   "metadata": {
    "id": "EXJnJ5K-Yjza"
   },
   "source": [
    "***TF-IDF***"
   ]
  },
  {
   "cell_type": "code",
   "execution_count": 21,
   "id": "762d916b-cefe-4406-9a56-69c79c2510ad",
   "metadata": {
    "colab": {
     "base_uri": "https://localhost:8080/"
    },
    "id": "Q6XYyzEIYBNe",
    "outputId": "9c5a9075-288d-4fff-dbaa-58a8c58cfc8a"
   },
   "outputs": [
    {
     "name": "stdout",
     "output_type": "stream",
     "text": [
      "              precision    recall  f1-score   support\n",
      "\n",
      "           0       0.59      0.97      0.73      4305\n",
      "           1       0.64      0.08      0.15      3198\n",
      "\n",
      "    accuracy                           0.59      7503\n",
      "   macro avg       0.61      0.52      0.44      7503\n",
      "weighted avg       0.61      0.59      0.48      7503\n",
      "\n",
      "F-beta score (beta=1.75): 0.10508653104216933\n"
     ]
    }
   ],
   "source": [
    "# Création et entraînement du classifieur\n",
    "clf = BernoulliNB().fit(X_train_TFnone, target)\n",
    "# train prediction\n",
    "y_train_pred = clf.predict(X_train_TFnone)\n",
    "# train report\n",
    "print(classification_report(target, y_train_pred))\n",
    "\n",
    "fbeta = fbeta_score(target, y_train_pred, beta=1.75)\n",
    "print(f\"F-beta score (beta=1.75): {fbeta}\")"
   ]
  },
  {
   "cell_type": "code",
   "execution_count": 22,
   "id": "fe7764d6-b052-4b49-a059-92a3ac031d86",
   "metadata": {
    "colab": {
     "base_uri": "https://localhost:8080/"
    },
    "id": "uwVXFw_zYBNu",
    "outputId": "0ba8bcc6-e61e-4981-b72f-82c928846f69"
   },
   "outputs": [
    {
     "name": "stdout",
     "output_type": "stream",
     "text": [
      "              precision    recall  f1-score   support\n",
      "\n",
      "           0       0.59      0.97      0.73      4305\n",
      "           1       0.64      0.08      0.15      3198\n",
      "\n",
      "    accuracy                           0.59      7503\n",
      "   macro avg       0.61      0.52      0.44      7503\n",
      "weighted avg       0.61      0.59      0.48      7503\n",
      "\n",
      "F-beta score (beta=1.75): 0.10508653104216933\n"
     ]
    }
   ],
   "source": [
    "# Création et entraînement du classifieur\n",
    "clf = BernoulliNB().fit(X_train_TF12none, target)\n",
    "# train prediction\n",
    "y_train_pred = clf.predict(X_train_TF12none)\n",
    "# train report\n",
    "print(classification_report(target, y_train_pred))\n",
    "\n",
    "fbeta = fbeta_score(target, y_train_pred, beta=1.75)\n",
    "print(f\"F-beta score (beta=1.75): {fbeta}\")"
   ]
  },
  {
   "cell_type": "code",
   "execution_count": 23,
   "id": "67ed48f9-74ae-4819-8819-9dc0f2d5bfe2",
   "metadata": {
    "colab": {
     "base_uri": "https://localhost:8080/"
    },
    "id": "hV3XpJmZYBNv",
    "outputId": "77a0f035-0b45-451e-bce9-41b885419d62"
   },
   "outputs": [
    {
     "name": "stdout",
     "output_type": "stream",
     "text": [
      "              precision    recall  f1-score   support\n",
      "\n",
      "           0       0.61      0.94      0.74      4305\n",
      "           1       0.69      0.18      0.29      3198\n",
      "\n",
      "    accuracy                           0.62      7503\n",
      "   macro avg       0.65      0.56      0.51      7503\n",
      "weighted avg       0.64      0.62      0.55      7503\n",
      "\n",
      "F-beta score (beta=1.75): 0.22023788515158998\n"
     ]
    }
   ],
   "source": [
    "# Création et entraînement du classifieur\n",
    "clf = BernoulliNB().fit(X_train_TFstrem, target)\n",
    "# train prediction\n",
    "y_train_pred = clf.predict(X_train_TFstrem)\n",
    "# train report\n",
    "print(classification_report(target, y_train_pred))\n",
    "\n",
    "fbeta = fbeta_score(target, y_train_pred, beta=1.75)\n",
    "print(f\"F-beta score (beta=1.75): {fbeta}\")"
   ]
  },
  {
   "cell_type": "code",
   "execution_count": 24,
   "id": "8e772b01-2367-4391-b109-672348e9fcd6",
   "metadata": {
    "colab": {
     "base_uri": "https://localhost:8080/"
    },
    "id": "PAAxdqQXYBNv",
    "outputId": "d5438293-93fc-4112-fbfa-7900d5428dc1"
   },
   "outputs": [
    {
     "name": "stdout",
     "output_type": "stream",
     "text": [
      "              precision    recall  f1-score   support\n",
      "\n",
      "           0       0.60      0.95      0.73      4305\n",
      "           1       0.66      0.13      0.22      3198\n",
      "\n",
      "    accuracy                           0.60      7503\n",
      "   macro avg       0.63      0.54      0.47      7503\n",
      "weighted avg       0.62      0.60      0.51      7503\n",
      "\n",
      "F-beta score (beta=1.75): 0.16243962076446405\n"
     ]
    }
   ],
   "source": [
    "# Création et entraînement du classifieur\n",
    "clf = BernoulliNB().fit(X_train_TFlemma, target)\n",
    "# train prediction\n",
    "y_train_pred = clf.predict(X_train_TFlemma)\n",
    "# train report\n",
    "print(classification_report(target, y_train_pred))\n",
    "\n",
    "fbeta = fbeta_score(target, y_train_pred, beta=1.75)\n",
    "print(f\"F-beta score (beta=1.75): {fbeta}\")"
   ]
  },
  {
   "cell_type": "code",
   "execution_count": 25,
   "id": "892f53f8-8c3d-409c-b305-d9eb6496dcad",
   "metadata": {
    "colab": {
     "base_uri": "https://localhost:8080/"
    },
    "id": "WKPhjH3MYBNw",
    "outputId": "1e743a08-8044-40b4-fe47-f5834200605a"
   },
   "outputs": [
    {
     "name": "stdout",
     "output_type": "stream",
     "text": [
      "              precision    recall  f1-score   support\n",
      "\n",
      "           0       0.61      0.94      0.74      4305\n",
      "           1       0.69      0.18      0.29      3198\n",
      "\n",
      "    accuracy                           0.62      7503\n",
      "   macro avg       0.65      0.56      0.51      7503\n",
      "weighted avg       0.64      0.62      0.55      7503\n",
      "\n",
      "F-beta score (beta=1.75): 0.21991762283024416\n"
     ]
    }
   ],
   "source": [
    "# Création et entraînement du classifieur\n",
    "clf = BernoulliNB().fit(X_train_TFlemma_stem, target)\n",
    "# train prediction\n",
    "y_train_pred = clf.predict(X_train_TFlemma_stem)\n",
    "# train report\n",
    "print(classification_report(target, y_train_pred))\n",
    "\n",
    "fbeta = fbeta_score(target, y_train_pred, beta=1.75)\n",
    "print(f\"F-beta score (beta=1.75): {fbeta}\")"
   ]
  },
  {
   "cell_type": "markdown",
   "id": "377aeb11-e841-4176-a93f-fc3c37258795",
   "metadata": {
    "id": "fbaM3rkrathN"
   },
   "source": [
    "Voyant les résultats ci-dessus, on soupçonne que la vectorisation par TF-IDF est peu efficace dans notre contexte. De plus on a un meilleur score avec un mélange d'unigrammes et de bigrammes."
   ]
  },
  {
   "cell_type": "markdown",
   "id": "f5ee1b02-751a-4034-a658-a3ebf1951c34",
   "metadata": {
    "id": "rDpc-BtMuvBe"
   },
   "source": [
    "## **Définition d'un pipeline**\n",
    "\n",
    "Ledit pipeline intègrera le prétraitement d'un texte brute en sélectionnant les paramètres de prétraitement à utiliser. Il intègrera également le choix de la methode de vectorisation à utiliser ainsi que le modèle à entrainer."
   ]
  },
  {
   "cell_type": "markdown",
   "id": "d000917b-9849-421b-a3e6-93ab9a68d904",
   "metadata": {
    "id": "HDvfd4mUKX22"
   },
   "source": [
    "**Fonction de vectorisation à inclure dans le pipeline**"
   ]
  },
  {
   "cell_type": "code",
   "execution_count": 26,
   "id": "c15e64d2-ed30-4db7-b29d-54206e89a0c1",
   "metadata": {
    "id": "30BZ0TZ5WLwT"
   },
   "outputs": [],
   "source": [
    "from sklearn.feature_extraction.text import CountVectorizer, TfidfVectorizer\n",
    "from sklearn.base import BaseEstimator, TransformerMixin\n",
    "\n",
    "class VectorizerSelector_ok(BaseEstimator, TransformerMixin):\n",
    "    def __init__(self, vectorizer='tfidf', maxdf=0.95, mindf=0.01, stopwords=None, ngram_range=(1, 1)):\n",
    "        self.vectorizer = vectorizer\n",
    "        self.maxdf = maxdf\n",
    "        self.mindf = mindf\n",
    "        self.stopwords = stopwords\n",
    "        self.ngram_range = ngram_range\n",
    "\n",
    "    def fit(self, X, y=None):\n",
    "        if self.vectorizer == 'tfidf':\n",
    "            self.vectorizer_ = TfidfVectorizer(max_df=self.maxdf, min_df=self.mindf, stop_words=self.stopwords, ngram_range=self.ngram_range)\n",
    "        elif self.vectorizer == 'count':\n",
    "            self.vectorizer_ = CountVectorizer(ngram_range=self.ngram_range, binary=True, stop_words=self.stopwords)\n",
    "        self.vectorizer_.fit(X)\n",
    "        return self\n",
    "\n",
    "    def transform(self, X, y=None):\n",
    "        return self.vectorizer_.transform(X)\n"
   ]
  },
  {
   "cell_type": "markdown",
   "id": "ecd1c1d5-c021-487a-928f-a4a0022140b9",
   "metadata": {
    "id": "6_-3v6C6KpJJ"
   },
   "source": [
    "**Fonction de Text-Preprocessing à inclure dans le pipeline**"
   ]
  },
  {
   "cell_type": "code",
   "execution_count": 27,
   "id": "f74d98f6-84dc-49e8-8b67-3d548ade7f38",
   "metadata": {
    "id": "Lpe721T1AIxY"
   },
   "outputs": [],
   "source": [
    "from sklearn.base import BaseEstimator, TransformerMixin\n",
    "\n",
    "# fonction de préprocessing\n",
    "class TextPreprocessor(BaseEstimator, TransformerMixin):\n",
    "    def __init__(self, language=\"english\", stopwords_list=None, normalizer=\"stem\"):\n",
    "        self.language = language\n",
    "        self.stopwords_list = stopwords_list\n",
    "        self.normalizer = normalizer\n",
    "\n",
    "    def preprocess_text(self, text):\n",
    "        # Paramètres de prétraitement\n",
    "        language = self.language\n",
    "        stopwords_list = self.stopwords_list\n",
    "        normalizer = self.normalizer\n",
    "\n",
    "        # Votre fonction de prétraitement ici\n",
    "        valid_normalizer = (None, \"stem\", \"lemma\")\n",
    "        if not normalizer in valid_normalizer:\n",
    "            raise ValueError(f\"`normalizer` must be in `{valid_normalizer}`\")\n",
    "        # lower case\n",
    "        text = text.lower()\n",
    "\n",
    "        # delete html balise\n",
    "        # We can also use BeautifulSoup package to get the text from HTML document\n",
    "        text = re.sub(re.compile('<.*?>'), '', text)\n",
    "\n",
    "        # remove url\n",
    "        text = re.sub(r'(http|www)\\S*', '', text)\n",
    "\n",
    "        # delete email\n",
    "        text = re.sub(r\"\\S*@\\S*\\s*\", \"\", text)\n",
    "\n",
    "        # delete special character\n",
    "        text = re.sub(r'[^\\w\\s]', '', text)\n",
    "\n",
    "        # delete number\n",
    "        text = re.sub(r'[0-9]+','', text).strip()\n",
    "\n",
    "        # tokenizer\n",
    "        text_tokens = word_tokenize(text)\n",
    "\n",
    "        # remove stopword\n",
    "        if isinstance(stopwords_list, (set, list, tuple)):\n",
    "            # split sentence word by word\n",
    "            text_tokens = [word for word in text_tokens if word not in stopwords_list]\n",
    "\n",
    "        # stem string: snowball stemmer\n",
    "        if normalizer == \"stem\":\n",
    "            stemmer = SnowballStemmer(language, ignore_stopwords=True)\n",
    "            text_tokens = [stemmer.stem(wrd) for wrd in text_tokens]\n",
    "        elif normalizer == \"lemma\":\n",
    "            lemmatizer = WordNetLemmatizer()\n",
    "            text_tokens = [lemmatizer.lemmatize(wrd) for wrd in text_tokens]\n",
    "\n",
    "        return \" \".join(text_tokens)\n",
    "\n",
    "    def fit(self, X, y=None):\n",
    "        return self\n",
    "\n",
    "    def transform(self, X, y=None):\n",
    "        return [self.preprocess_text(text) for text in X]"
   ]
  },
  {
   "cell_type": "markdown",
   "id": "137bdc9c-b6a2-443f-a368-1bf76835a31a",
   "metadata": {
    "id": "hOAvMIfqMiQ1"
   },
   "source": [
    "## **Subdivision du dataset en `train` et `test`**"
   ]
  },
  {
   "cell_type": "code",
   "execution_count": 28,
   "id": "44b94f20-6272-4fca-b09b-ecd81ba2bcd6",
   "metadata": {
    "id": "5QyzJpb2MiQ2"
   },
   "outputs": [],
   "source": [
    "from sklearn.model_selection import train_test_split\n",
    "\n",
    "#array.reshape(-1, 1)\n",
    "#Splitting train_data as train, test, validation\n",
    "X_train, X_test, y_train, y_test = train_test_split(train_data['text'], train_data['target'], test_size=0.2, random_state=42)"
   ]
  },
  {
   "cell_type": "code",
   "execution_count": null,
   "id": "d7292169-4275-4dd8-a949-eb625a08beb2",
   "metadata": {},
   "outputs": [],
   "source": []
  },
  {
   "cell_type": "markdown",
   "id": "82c265d5-ce88-49a4-8cfb-23935bf5fc54",
   "metadata": {},
   "source": [
    "# Logistic regression"
   ]
  },
  {
   "cell_type": "markdown",
   "id": "393c7493-76bc-48f5-83d3-f7a31cfbde9c",
   "metadata": {},
   "source": [
    "### Construction d'un pipeline pour la régression logistique"
   ]
  },
  {
   "cell_type": "code",
   "execution_count": 29,
   "id": "f62b0610-9acf-4099-906f-56f27ace13cd",
   "metadata": {
    "colab": {
     "base_uri": "https://localhost:8080/",
     "height": 158
    },
    "id": "lWCsCrl2_VGO",
    "outputId": "6aa5ba63-4f2e-4a73-f928-e98362baedde"
   },
   "outputs": [
    {
     "data": {
      "text/html": [
       "<style>#sk-container-id-1 {color: black;}#sk-container-id-1 pre{padding: 0;}#sk-container-id-1 div.sk-toggleable {background-color: white;}#sk-container-id-1 label.sk-toggleable__label {cursor: pointer;display: block;width: 100%;margin-bottom: 0;padding: 0.3em;box-sizing: border-box;text-align: center;}#sk-container-id-1 label.sk-toggleable__label-arrow:before {content: \"▸\";float: left;margin-right: 0.25em;color: #696969;}#sk-container-id-1 label.sk-toggleable__label-arrow:hover:before {color: black;}#sk-container-id-1 div.sk-estimator:hover label.sk-toggleable__label-arrow:before {color: black;}#sk-container-id-1 div.sk-toggleable__content {max-height: 0;max-width: 0;overflow: hidden;text-align: left;background-color: #f0f8ff;}#sk-container-id-1 div.sk-toggleable__content pre {margin: 0.2em;color: black;border-radius: 0.25em;background-color: #f0f8ff;}#sk-container-id-1 input.sk-toggleable__control:checked~div.sk-toggleable__content {max-height: 200px;max-width: 100%;overflow: auto;}#sk-container-id-1 input.sk-toggleable__control:checked~label.sk-toggleable__label-arrow:before {content: \"▾\";}#sk-container-id-1 div.sk-estimator input.sk-toggleable__control:checked~label.sk-toggleable__label {background-color: #d4ebff;}#sk-container-id-1 div.sk-label input.sk-toggleable__control:checked~label.sk-toggleable__label {background-color: #d4ebff;}#sk-container-id-1 input.sk-hidden--visually {border: 0;clip: rect(1px 1px 1px 1px);clip: rect(1px, 1px, 1px, 1px);height: 1px;margin: -1px;overflow: hidden;padding: 0;position: absolute;width: 1px;}#sk-container-id-1 div.sk-estimator {font-family: monospace;background-color: #f0f8ff;border: 1px dotted black;border-radius: 0.25em;box-sizing: border-box;margin-bottom: 0.5em;}#sk-container-id-1 div.sk-estimator:hover {background-color: #d4ebff;}#sk-container-id-1 div.sk-parallel-item::after {content: \"\";width: 100%;border-bottom: 1px solid gray;flex-grow: 1;}#sk-container-id-1 div.sk-label:hover label.sk-toggleable__label {background-color: #d4ebff;}#sk-container-id-1 div.sk-serial::before {content: \"\";position: absolute;border-left: 1px solid gray;box-sizing: border-box;top: 0;bottom: 0;left: 50%;z-index: 0;}#sk-container-id-1 div.sk-serial {display: flex;flex-direction: column;align-items: center;background-color: white;padding-right: 0.2em;padding-left: 0.2em;position: relative;}#sk-container-id-1 div.sk-item {position: relative;z-index: 1;}#sk-container-id-1 div.sk-parallel {display: flex;align-items: stretch;justify-content: center;background-color: white;position: relative;}#sk-container-id-1 div.sk-item::before, #sk-container-id-1 div.sk-parallel-item::before {content: \"\";position: absolute;border-left: 1px solid gray;box-sizing: border-box;top: 0;bottom: 0;left: 50%;z-index: -1;}#sk-container-id-1 div.sk-parallel-item {display: flex;flex-direction: column;z-index: 1;position: relative;background-color: white;}#sk-container-id-1 div.sk-parallel-item:first-child::after {align-self: flex-end;width: 50%;}#sk-container-id-1 div.sk-parallel-item:last-child::after {align-self: flex-start;width: 50%;}#sk-container-id-1 div.sk-parallel-item:only-child::after {width: 0;}#sk-container-id-1 div.sk-dashed-wrapped {border: 1px dashed gray;margin: 0 0.4em 0.5em 0.4em;box-sizing: border-box;padding-bottom: 0.4em;background-color: white;}#sk-container-id-1 div.sk-label label {font-family: monospace;font-weight: bold;display: inline-block;line-height: 1.2em;}#sk-container-id-1 div.sk-label-container {text-align: center;}#sk-container-id-1 div.sk-container {/* jupyter's `normalize.less` sets `[hidden] { display: none; }` but bootstrap.min.css set `[hidden] { display: none !important; }` so we also need the `!important` here to be able to override the default hidden behavior on the sphinx rendered scikit-learn.org. See: https://github.com/scikit-learn/scikit-learn/issues/21755 */display: inline-block !important;position: relative;}#sk-container-id-1 div.sk-text-repr-fallback {display: none;}</style><div id=\"sk-container-id-1\" class=\"sk-top-container\"><div class=\"sk-text-repr-fallback\"><pre>Pipeline(steps=[(&#x27;preprocessor&#x27;, TextPreprocessor()),\n",
       "                (&#x27;vectorizer&#x27;, VectorizerSelector_ok()),\n",
       "                (&#x27;classifier&#x27;, LogisticRegression(random_state=42))])</pre><b>In a Jupyter environment, please rerun this cell to show the HTML representation or trust the notebook. <br />On GitHub, the HTML representation is unable to render, please try loading this page with nbviewer.org.</b></div><div class=\"sk-container\" hidden><div class=\"sk-item sk-dashed-wrapped\"><div class=\"sk-label-container\"><div class=\"sk-label sk-toggleable\"><input class=\"sk-toggleable__control sk-hidden--visually\" id=\"sk-estimator-id-1\" type=\"checkbox\" ><label for=\"sk-estimator-id-1\" class=\"sk-toggleable__label sk-toggleable__label-arrow\">Pipeline</label><div class=\"sk-toggleable__content\"><pre>Pipeline(steps=[(&#x27;preprocessor&#x27;, TextPreprocessor()),\n",
       "                (&#x27;vectorizer&#x27;, VectorizerSelector_ok()),\n",
       "                (&#x27;classifier&#x27;, LogisticRegression(random_state=42))])</pre></div></div></div><div class=\"sk-serial\"><div class=\"sk-item\"><div class=\"sk-estimator sk-toggleable\"><input class=\"sk-toggleable__control sk-hidden--visually\" id=\"sk-estimator-id-2\" type=\"checkbox\" ><label for=\"sk-estimator-id-2\" class=\"sk-toggleable__label sk-toggleable__label-arrow\">TextPreprocessor</label><div class=\"sk-toggleable__content\"><pre>TextPreprocessor()</pre></div></div></div><div class=\"sk-item\"><div class=\"sk-estimator sk-toggleable\"><input class=\"sk-toggleable__control sk-hidden--visually\" id=\"sk-estimator-id-3\" type=\"checkbox\" ><label for=\"sk-estimator-id-3\" class=\"sk-toggleable__label sk-toggleable__label-arrow\">VectorizerSelector_ok</label><div class=\"sk-toggleable__content\"><pre>VectorizerSelector_ok()</pre></div></div></div><div class=\"sk-item\"><div class=\"sk-estimator sk-toggleable\"><input class=\"sk-toggleable__control sk-hidden--visually\" id=\"sk-estimator-id-4\" type=\"checkbox\" ><label for=\"sk-estimator-id-4\" class=\"sk-toggleable__label sk-toggleable__label-arrow\">LogisticRegression</label><div class=\"sk-toggleable__content\"><pre>LogisticRegression(random_state=42)</pre></div></div></div></div></div></div></div>"
      ],
      "text/plain": [
       "Pipeline(steps=[('preprocessor', TextPreprocessor()),\n",
       "                ('vectorizer', VectorizerSelector_ok()),\n",
       "                ('classifier', LogisticRegression(random_state=42))])"
      ]
     },
     "execution_count": 29,
     "metadata": {},
     "output_type": "execute_result"
    }
   ],
   "source": [
    "from sklearn.pipeline import Pipeline\n",
    "\n",
    "# Whole / Complete Pipeline\n",
    "LR_pipe = Pipeline([\n",
    "        ('preprocessor', TextPreprocessor()),\n",
    "        ('vectorizer', VectorizerSelector_ok()),\n",
    "        ('classifier', LogisticRegression(random_state=42))\n",
    "    ])\n",
    "\n",
    "LR_pipe"
   ]
  },
  {
   "cell_type": "markdown",
   "id": "ed639c62-4cd6-4624-ab41-5263f7542093",
   "metadata": {
    "id": "nc8ld2QYHYIj"
   },
   "source": [
    "### **Fiting & Performances**"
   ]
  },
  {
   "cell_type": "markdown",
   "id": "082986b8-2e1a-4b65-982a-a723433674fb",
   "metadata": {},
   "source": [
    "### Entrainement du modèle"
   ]
  },
  {
   "cell_type": "code",
   "execution_count": 30,
   "id": "537ed2be-52f6-478a-9c92-4900333ced76",
   "metadata": {
    "id": "p2jn3-iiHePv"
   },
   "outputs": [
    {
     "data": {
      "text/html": [
       "<style>#sk-container-id-2 {color: black;}#sk-container-id-2 pre{padding: 0;}#sk-container-id-2 div.sk-toggleable {background-color: white;}#sk-container-id-2 label.sk-toggleable__label {cursor: pointer;display: block;width: 100%;margin-bottom: 0;padding: 0.3em;box-sizing: border-box;text-align: center;}#sk-container-id-2 label.sk-toggleable__label-arrow:before {content: \"▸\";float: left;margin-right: 0.25em;color: #696969;}#sk-container-id-2 label.sk-toggleable__label-arrow:hover:before {color: black;}#sk-container-id-2 div.sk-estimator:hover label.sk-toggleable__label-arrow:before {color: black;}#sk-container-id-2 div.sk-toggleable__content {max-height: 0;max-width: 0;overflow: hidden;text-align: left;background-color: #f0f8ff;}#sk-container-id-2 div.sk-toggleable__content pre {margin: 0.2em;color: black;border-radius: 0.25em;background-color: #f0f8ff;}#sk-container-id-2 input.sk-toggleable__control:checked~div.sk-toggleable__content {max-height: 200px;max-width: 100%;overflow: auto;}#sk-container-id-2 input.sk-toggleable__control:checked~label.sk-toggleable__label-arrow:before {content: \"▾\";}#sk-container-id-2 div.sk-estimator input.sk-toggleable__control:checked~label.sk-toggleable__label {background-color: #d4ebff;}#sk-container-id-2 div.sk-label input.sk-toggleable__control:checked~label.sk-toggleable__label {background-color: #d4ebff;}#sk-container-id-2 input.sk-hidden--visually {border: 0;clip: rect(1px 1px 1px 1px);clip: rect(1px, 1px, 1px, 1px);height: 1px;margin: -1px;overflow: hidden;padding: 0;position: absolute;width: 1px;}#sk-container-id-2 div.sk-estimator {font-family: monospace;background-color: #f0f8ff;border: 1px dotted black;border-radius: 0.25em;box-sizing: border-box;margin-bottom: 0.5em;}#sk-container-id-2 div.sk-estimator:hover {background-color: #d4ebff;}#sk-container-id-2 div.sk-parallel-item::after {content: \"\";width: 100%;border-bottom: 1px solid gray;flex-grow: 1;}#sk-container-id-2 div.sk-label:hover label.sk-toggleable__label {background-color: #d4ebff;}#sk-container-id-2 div.sk-serial::before {content: \"\";position: absolute;border-left: 1px solid gray;box-sizing: border-box;top: 0;bottom: 0;left: 50%;z-index: 0;}#sk-container-id-2 div.sk-serial {display: flex;flex-direction: column;align-items: center;background-color: white;padding-right: 0.2em;padding-left: 0.2em;position: relative;}#sk-container-id-2 div.sk-item {position: relative;z-index: 1;}#sk-container-id-2 div.sk-parallel {display: flex;align-items: stretch;justify-content: center;background-color: white;position: relative;}#sk-container-id-2 div.sk-item::before, #sk-container-id-2 div.sk-parallel-item::before {content: \"\";position: absolute;border-left: 1px solid gray;box-sizing: border-box;top: 0;bottom: 0;left: 50%;z-index: -1;}#sk-container-id-2 div.sk-parallel-item {display: flex;flex-direction: column;z-index: 1;position: relative;background-color: white;}#sk-container-id-2 div.sk-parallel-item:first-child::after {align-self: flex-end;width: 50%;}#sk-container-id-2 div.sk-parallel-item:last-child::after {align-self: flex-start;width: 50%;}#sk-container-id-2 div.sk-parallel-item:only-child::after {width: 0;}#sk-container-id-2 div.sk-dashed-wrapped {border: 1px dashed gray;margin: 0 0.4em 0.5em 0.4em;box-sizing: border-box;padding-bottom: 0.4em;background-color: white;}#sk-container-id-2 div.sk-label label {font-family: monospace;font-weight: bold;display: inline-block;line-height: 1.2em;}#sk-container-id-2 div.sk-label-container {text-align: center;}#sk-container-id-2 div.sk-container {/* jupyter's `normalize.less` sets `[hidden] { display: none; }` but bootstrap.min.css set `[hidden] { display: none !important; }` so we also need the `!important` here to be able to override the default hidden behavior on the sphinx rendered scikit-learn.org. See: https://github.com/scikit-learn/scikit-learn/issues/21755 */display: inline-block !important;position: relative;}#sk-container-id-2 div.sk-text-repr-fallback {display: none;}</style><div id=\"sk-container-id-2\" class=\"sk-top-container\"><div class=\"sk-text-repr-fallback\"><pre>Pipeline(steps=[(&#x27;preprocessor&#x27;, TextPreprocessor()),\n",
       "                (&#x27;vectorizer&#x27;, VectorizerSelector_ok()),\n",
       "                (&#x27;classifier&#x27;, LogisticRegression(random_state=42))])</pre><b>In a Jupyter environment, please rerun this cell to show the HTML representation or trust the notebook. <br />On GitHub, the HTML representation is unable to render, please try loading this page with nbviewer.org.</b></div><div class=\"sk-container\" hidden><div class=\"sk-item sk-dashed-wrapped\"><div class=\"sk-label-container\"><div class=\"sk-label sk-toggleable\"><input class=\"sk-toggleable__control sk-hidden--visually\" id=\"sk-estimator-id-5\" type=\"checkbox\" ><label for=\"sk-estimator-id-5\" class=\"sk-toggleable__label sk-toggleable__label-arrow\">Pipeline</label><div class=\"sk-toggleable__content\"><pre>Pipeline(steps=[(&#x27;preprocessor&#x27;, TextPreprocessor()),\n",
       "                (&#x27;vectorizer&#x27;, VectorizerSelector_ok()),\n",
       "                (&#x27;classifier&#x27;, LogisticRegression(random_state=42))])</pre></div></div></div><div class=\"sk-serial\"><div class=\"sk-item\"><div class=\"sk-estimator sk-toggleable\"><input class=\"sk-toggleable__control sk-hidden--visually\" id=\"sk-estimator-id-6\" type=\"checkbox\" ><label for=\"sk-estimator-id-6\" class=\"sk-toggleable__label sk-toggleable__label-arrow\">TextPreprocessor</label><div class=\"sk-toggleable__content\"><pre>TextPreprocessor()</pre></div></div></div><div class=\"sk-item\"><div class=\"sk-estimator sk-toggleable\"><input class=\"sk-toggleable__control sk-hidden--visually\" id=\"sk-estimator-id-7\" type=\"checkbox\" ><label for=\"sk-estimator-id-7\" class=\"sk-toggleable__label sk-toggleable__label-arrow\">VectorizerSelector_ok</label><div class=\"sk-toggleable__content\"><pre>VectorizerSelector_ok()</pre></div></div></div><div class=\"sk-item\"><div class=\"sk-estimator sk-toggleable\"><input class=\"sk-toggleable__control sk-hidden--visually\" id=\"sk-estimator-id-8\" type=\"checkbox\" ><label for=\"sk-estimator-id-8\" class=\"sk-toggleable__label sk-toggleable__label-arrow\">LogisticRegression</label><div class=\"sk-toggleable__content\"><pre>LogisticRegression(random_state=42)</pre></div></div></div></div></div></div></div>"
      ],
      "text/plain": [
       "Pipeline(steps=[('preprocessor', TextPreprocessor()),\n",
       "                ('vectorizer', VectorizerSelector_ok()),\n",
       "                ('classifier', LogisticRegression(random_state=42))])"
      ]
     },
     "execution_count": 30,
     "metadata": {},
     "output_type": "execute_result"
    }
   ],
   "source": [
    "LR_pipe.fit(X_train, y_train)"
   ]
  },
  {
   "cell_type": "markdown",
   "id": "3cc2e3c3-bc58-4bc9-9cea-fbed57a9c3be",
   "metadata": {},
   "source": [
    "**Prédiction**"
   ]
  },
  {
   "cell_type": "code",
   "execution_count": 31,
   "id": "6051da94-1940-4ea2-b98f-268620c41212",
   "metadata": {},
   "outputs": [],
   "source": [
    "LR_predicted = LR_pipe.predict(X_test)"
   ]
  },
  {
   "cell_type": "code",
   "execution_count": 32,
   "id": "26b97754-0acf-4887-a47a-97b6f9975502",
   "metadata": {
    "colab": {
     "base_uri": "https://localhost:8080/",
     "height": 430
    },
    "id": "4m4Jx2qxIF7o",
    "outputId": "7bd8f310-93f7-474e-bd27-142a55c1c32a"
   },
   "outputs": [
    {
     "data": {
      "image/png": "[encoded data removed]",
      "text/plain": [
       "<Figure size 640x480 with 2 Axes>"
      ]
     },
     "metadata": {},
     "output_type": "display_data"
    }
   ],
   "source": [
    "# Mateice de confusion\n",
    "sns.heatmap(confusion_matrix(y_test, LR_predicted, normalize=\"true\"),\n",
    "            annot=True, fmt='.2g', cmap=\"Greens\");"
   ]
  },
  {
   "cell_type": "code",
   "execution_count": 33,
   "id": "e283b984-284c-47ea-ab13-151612425f16",
   "metadata": {
    "colab": {
     "base_uri": "https://localhost:8080/"
    },
    "id": "D8nHY6VfIRKV",
    "outputId": "a4e6a4f4-02a3-4da2-c616-e14322d6eae7"
   },
   "outputs": [
    {
     "name": "stdout",
     "output_type": "stream",
     "text": [
      "              precision    recall  f1-score   support\n",
      "\n",
      "  nodisaster       0.76      0.83      0.79       874\n",
      "    disaster       0.72      0.63      0.67       627\n",
      "\n",
      "    accuracy                           0.75      1501\n",
      "   macro avg       0.74      0.73      0.73      1501\n",
      "weighted avg       0.74      0.75      0.74      1501\n",
      "\n",
      "F-beta score (beta=1.75): 0.6520582647245092\n"
     ]
    }
   ],
   "source": [
    "# Rapport de classification\n",
    "print(classification_report(y_test, LR_predicted,\n",
    "                            target_names={\"nodisaster\" : 0, \"disaster\" : 1}))\n",
    "\n",
    "fbeta = fbeta_score(y_test, LR_predicted, beta=1.75)\n",
    "print(f\"F-beta score (beta=1.75): {fbeta}\")"
   ]
  },
  {
   "cell_type": "markdown",
   "id": "6a77ce9d-1d33-42ba-96b7-299ca876f2ef",
   "metadata": {
    "id": "UO1tzxKtIzqV"
   },
   "source": [
    "### **Optimisation du modèle**"
   ]
  },
  {
   "cell_type": "markdown",
   "id": "bb3180c9-d761-43d5-9ce1-6577b014f843",
   "metadata": {
    "id": "c0TCnws5Y-3g"
   },
   "source": [
    "**Définition du pipeline pour la reherche des hyperparamètres**"
   ]
  },
  {
   "cell_type": "code",
   "execution_count": 34,
   "id": "aa9965ea-38c2-4f28-a15a-7b63105430d5",
   "metadata": {
    "colab": {
     "base_uri": "https://localhost:8080/",
     "height": 124
    },
    "id": "cOjcLzSwZJbz",
    "outputId": "7c890196-b96a-473a-a8b2-2c7c08802665"
   },
   "outputs": [
    {
     "data": {
      "text/html": [
       "<style>#sk-container-id-3 {color: black;}#sk-container-id-3 pre{padding: 0;}#sk-container-id-3 div.sk-toggleable {background-color: white;}#sk-container-id-3 label.sk-toggleable__label {cursor: pointer;display: block;width: 100%;margin-bottom: 0;padding: 0.3em;box-sizing: border-box;text-align: center;}#sk-container-id-3 label.sk-toggleable__label-arrow:before {content: \"▸\";float: left;margin-right: 0.25em;color: #696969;}#sk-container-id-3 label.sk-toggleable__label-arrow:hover:before {color: black;}#sk-container-id-3 div.sk-estimator:hover label.sk-toggleable__label-arrow:before {color: black;}#sk-container-id-3 div.sk-toggleable__content {max-height: 0;max-width: 0;overflow: hidden;text-align: left;background-color: #f0f8ff;}#sk-container-id-3 div.sk-toggleable__content pre {margin: 0.2em;color: black;border-radius: 0.25em;background-color: #f0f8ff;}#sk-container-id-3 input.sk-toggleable__control:checked~div.sk-toggleable__content {max-height: 200px;max-width: 100%;overflow: auto;}#sk-container-id-3 input.sk-toggleable__control:checked~label.sk-toggleable__label-arrow:before {content: \"▾\";}#sk-container-id-3 div.sk-estimator input.sk-toggleable__control:checked~label.sk-toggleable__label {background-color: #d4ebff;}#sk-container-id-3 div.sk-label input.sk-toggleable__control:checked~label.sk-toggleable__label {background-color: #d4ebff;}#sk-container-id-3 input.sk-hidden--visually {border: 0;clip: rect(1px 1px 1px 1px);clip: rect(1px, 1px, 1px, 1px);height: 1px;margin: -1px;overflow: hidden;padding: 0;position: absolute;width: 1px;}#sk-container-id-3 div.sk-estimator {font-family: monospace;background-color: #f0f8ff;border: 1px dotted black;border-radius: 0.25em;box-sizing: border-box;margin-bottom: 0.5em;}#sk-container-id-3 div.sk-estimator:hover {background-color: #d4ebff;}#sk-container-id-3 div.sk-parallel-item::after {content: \"\";width: 100%;border-bottom: 1px solid gray;flex-grow: 1;}#sk-container-id-3 div.sk-label:hover label.sk-toggleable__label {background-color: #d4ebff;}#sk-container-id-3 div.sk-serial::before {content: \"\";position: absolute;border-left: 1px solid gray;box-sizing: border-box;top: 0;bottom: 0;left: 50%;z-index: 0;}#sk-container-id-3 div.sk-serial {display: flex;flex-direction: column;align-items: center;background-color: white;padding-right: 0.2em;padding-left: 0.2em;position: relative;}#sk-container-id-3 div.sk-item {position: relative;z-index: 1;}#sk-container-id-3 div.sk-parallel {display: flex;align-items: stretch;justify-content: center;background-color: white;position: relative;}#sk-container-id-3 div.sk-item::before, #sk-container-id-3 div.sk-parallel-item::before {content: \"\";position: absolute;border-left: 1px solid gray;box-sizing: border-box;top: 0;bottom: 0;left: 50%;z-index: -1;}#sk-container-id-3 div.sk-parallel-item {display: flex;flex-direction: column;z-index: 1;position: relative;background-color: white;}#sk-container-id-3 div.sk-parallel-item:first-child::after {align-self: flex-end;width: 50%;}#sk-container-id-3 div.sk-parallel-item:last-child::after {align-self: flex-start;width: 50%;}#sk-container-id-3 div.sk-parallel-item:only-child::after {width: 0;}#sk-container-id-3 div.sk-dashed-wrapped {border: 1px dashed gray;margin: 0 0.4em 0.5em 0.4em;box-sizing: border-box;padding-bottom: 0.4em;background-color: white;}#sk-container-id-3 div.sk-label label {font-family: monospace;font-weight: bold;display: inline-block;line-height: 1.2em;}#sk-container-id-3 div.sk-label-container {text-align: center;}#sk-container-id-3 div.sk-container {/* jupyter's `normalize.less` sets `[hidden] { display: none; }` but bootstrap.min.css set `[hidden] { display: none !important; }` so we also need the `!important` here to be able to override the default hidden behavior on the sphinx rendered scikit-learn.org. See: https://github.com/scikit-learn/scikit-learn/issues/21755 */display: inline-block !important;position: relative;}#sk-container-id-3 div.sk-text-repr-fallback {display: none;}</style><div id=\"sk-container-id-3\" class=\"sk-top-container\"><div class=\"sk-text-repr-fallback\"><pre>Pipeline(steps=[(&#x27;vectorizer&#x27;, VectorizerSelector_ok()),\n",
       "                (&#x27;classifier&#x27;, LogisticRegression(random_state=42))])</pre><b>In a Jupyter environment, please rerun this cell to show the HTML representation or trust the notebook. <br />On GitHub, the HTML representation is unable to render, please try loading this page with nbviewer.org.</b></div><div class=\"sk-container\" hidden><div class=\"sk-item sk-dashed-wrapped\"><div class=\"sk-label-container\"><div class=\"sk-label sk-toggleable\"><input class=\"sk-toggleable__control sk-hidden--visually\" id=\"sk-estimator-id-9\" type=\"checkbox\" ><label for=\"sk-estimator-id-9\" class=\"sk-toggleable__label sk-toggleable__label-arrow\">Pipeline</label><div class=\"sk-toggleable__content\"><pre>Pipeline(steps=[(&#x27;vectorizer&#x27;, VectorizerSelector_ok()),\n",
       "                (&#x27;classifier&#x27;, LogisticRegression(random_state=42))])</pre></div></div></div><div class=\"sk-serial\"><div class=\"sk-item\"><div class=\"sk-estimator sk-toggleable\"><input class=\"sk-toggleable__control sk-hidden--visually\" id=\"sk-estimator-id-10\" type=\"checkbox\" ><label for=\"sk-estimator-id-10\" class=\"sk-toggleable__label sk-toggleable__label-arrow\">VectorizerSelector_ok</label><div class=\"sk-toggleable__content\"><pre>VectorizerSelector_ok()</pre></div></div></div><div class=\"sk-item\"><div class=\"sk-estimator sk-toggleable\"><input class=\"sk-toggleable__control sk-hidden--visually\" id=\"sk-estimator-id-11\" type=\"checkbox\" ><label for=\"sk-estimator-id-11\" class=\"sk-toggleable__label sk-toggleable__label-arrow\">LogisticRegression</label><div class=\"sk-toggleable__content\"><pre>LogisticRegression(random_state=42)</pre></div></div></div></div></div></div></div>"
      ],
      "text/plain": [
       "Pipeline(steps=[('vectorizer', VectorizerSelector_ok()),\n",
       "                ('classifier', LogisticRegression(random_state=42))])"
      ]
     },
     "execution_count": 34,
     "metadata": {},
     "output_type": "execute_result"
    }
   ],
   "source": [
    "# Restricted Pipeline\n",
    "RPipeline_LR = Pipeline([\n",
    "        ('vectorizer', VectorizerSelector_ok()),\n",
    "        ('classifier', LogisticRegression(random_state=42))\n",
    "    ])\n",
    "\n",
    "RPipeline_LR"
   ]
  },
  {
   "cell_type": "code",
   "execution_count": null,
   "id": "c9ea748e-d353-4656-8c4a-713f26c6a80e",
   "metadata": {},
   "outputs": [],
   "source": []
  },
  {
   "cell_type": "markdown",
   "id": "158cdf2c-3b14-40ee-b5cb-3e7ccb730b0e",
   "metadata": {
    "id": "4I9jGyAnLCEA"
   },
   "source": [
    "**Hyperparamètres**"
   ]
  },
  {
   "cell_type": "code",
   "execution_count": 35,
   "id": "931d2520-3bf3-4ccc-8da3-f4718251bdc0",
   "metadata": {
    "id": "BNMR8G07I7My"
   },
   "outputs": [],
   "source": [
    "# Définissons la grille de paramètres\n",
    "grid_params_LR = {\n",
    "    # CustomTransformer hyperparmeters\n",
    "    #'costom_transformer__normalizer' : (None, \"stem\", \"lemma\"),\n",
    "    # vectorizer hyperparmeters\n",
    "    \"vectorizer__maxdf\": (0.75, 0.9, 1.0),\n",
    "    \"vectorizer__mindf\": (0.01, 0.05, 0.5),\n",
    "    'vectorizer__ngram_range': [(1, 1), (1, 2)],\n",
    "    # classifier hyperparameters\n",
    "    'classifier__penalty' : ('l1', 'l2'),\n",
    "    'classifier__tol' : (1e-5, 1e-4, 1e-3),\n",
    "    'classifier__solver' : ('newton-cg', 'sag', 'saga', 'lbfgs'),\n",
    "}\n",
    "\n",
    "\n",
    "# Création d'un scorer personnalisé pour F-beta avec beta=1.75\n",
    "fbeta_scorer = make_scorer(fbeta_score, beta=1.75, average='weighted')\n",
    "\n",
    "# Création d'un StratifiedKFold\n",
    "skf = StratifiedKFold(n_splits=5, random_state=42, shuffle=True)\n",
    "\n",
    "# Effectuons la recherche par grille\n",
    "grid_search_LR = GridSearchCV(RPipeline_LR, grid_params_LR, cv=skf, n_jobs=-1, verbose=1, scoring=fbeta_scorer)"
   ]
  },
  {
   "cell_type": "code",
   "execution_count": 36,
   "id": "2f158df0-ddb3-48a5-8725-e52eb9de1bb7",
   "metadata": {
    "colab": {
     "base_uri": "https://localhost:8080/"
    },
    "id": "svzskFuTM_Ki",
    "outputId": "d12375f5-fdd1-4952-ddb8-1317ea9e701c"
   },
   "outputs": [
    {
     "name": "stdout",
     "output_type": "stream",
     "text": [
      "Fitting 5 folds for each of 432 candidates, totalling 2160 fits\n",
      "CPU times: total: 25.2 s\n",
      "Wall time: 6min 4s\n"
     ]
    },
    {
     "data": {
      "text/html": [
       "<style>#sk-container-id-4 {color: black;}#sk-container-id-4 pre{padding: 0;}#sk-container-id-4 div.sk-toggleable {background-color: white;}#sk-container-id-4 label.sk-toggleable__label {cursor: pointer;display: block;width: 100%;margin-bottom: 0;padding: 0.3em;box-sizing: border-box;text-align: center;}#sk-container-id-4 label.sk-toggleable__label-arrow:before {content: \"▸\";float: left;margin-right: 0.25em;color: #696969;}#sk-container-id-4 label.sk-toggleable__label-arrow:hover:before {color: black;}#sk-container-id-4 div.sk-estimator:hover label.sk-toggleable__label-arrow:before {color: black;}#sk-container-id-4 div.sk-toggleable__content {max-height: 0;max-width: 0;overflow: hidden;text-align: left;background-color: #f0f8ff;}#sk-container-id-4 div.sk-toggleable__content pre {margin: 0.2em;color: black;border-radius: 0.25em;background-color: #f0f8ff;}#sk-container-id-4 input.sk-toggleable__control:checked~div.sk-toggleable__content {max-height: 200px;max-width: 100%;overflow: auto;}#sk-container-id-4 input.sk-toggleable__control:checked~label.sk-toggleable__label-arrow:before {content: \"▾\";}#sk-container-id-4 div.sk-estimator input.sk-toggleable__control:checked~label.sk-toggleable__label {background-color: #d4ebff;}#sk-container-id-4 div.sk-label input.sk-toggleable__control:checked~label.sk-toggleable__label {background-color: #d4ebff;}#sk-container-id-4 input.sk-hidden--visually {border: 0;clip: rect(1px 1px 1px 1px);clip: rect(1px, 1px, 1px, 1px);height: 1px;margin: -1px;overflow: hidden;padding: 0;position: absolute;width: 1px;}#sk-container-id-4 div.sk-estimator {font-family: monospace;background-color: #f0f8ff;border: 1px dotted black;border-radius: 0.25em;box-sizing: border-box;margin-bottom: 0.5em;}#sk-container-id-4 div.sk-estimator:hover {background-color: #d4ebff;}#sk-container-id-4 div.sk-parallel-item::after {content: \"\";width: 100%;border-bottom: 1px solid gray;flex-grow: 1;}#sk-container-id-4 div.sk-label:hover label.sk-toggleable__label {background-color: #d4ebff;}#sk-container-id-4 div.sk-serial::before {content: \"\";position: absolute;border-left: 1px solid gray;box-sizing: border-box;top: 0;bottom: 0;left: 50%;z-index: 0;}#sk-container-id-4 div.sk-serial {display: flex;flex-direction: column;align-items: center;background-color: white;padding-right: 0.2em;padding-left: 0.2em;position: relative;}#sk-container-id-4 div.sk-item {position: relative;z-index: 1;}#sk-container-id-4 div.sk-parallel {display: flex;align-items: stretch;justify-content: center;background-color: white;position: relative;}#sk-container-id-4 div.sk-item::before, #sk-container-id-4 div.sk-parallel-item::before {content: \"\";position: absolute;border-left: 1px solid gray;box-sizing: border-box;top: 0;bottom: 0;left: 50%;z-index: -1;}#sk-container-id-4 div.sk-parallel-item {display: flex;flex-direction: column;z-index: 1;position: relative;background-color: white;}#sk-container-id-4 div.sk-parallel-item:first-child::after {align-self: flex-end;width: 50%;}#sk-container-id-4 div.sk-parallel-item:last-child::after {align-self: flex-start;width: 50%;}#sk-container-id-4 div.sk-parallel-item:only-child::after {width: 0;}#sk-container-id-4 div.sk-dashed-wrapped {border: 1px dashed gray;margin: 0 0.4em 0.5em 0.4em;box-sizing: border-box;padding-bottom: 0.4em;background-color: white;}#sk-container-id-4 div.sk-label label {font-family: monospace;font-weight: bold;display: inline-block;line-height: 1.2em;}#sk-container-id-4 div.sk-label-container {text-align: center;}#sk-container-id-4 div.sk-container {/* jupyter's `normalize.less` sets `[hidden] { display: none; }` but bootstrap.min.css set `[hidden] { display: none !important; }` so we also need the `!important` here to be able to override the default hidden behavior on the sphinx rendered scikit-learn.org. See: https://github.com/scikit-learn/scikit-learn/issues/21755 */display: inline-block !important;position: relative;}#sk-container-id-4 div.sk-text-repr-fallback {display: none;}</style><div id=\"sk-container-id-4\" class=\"sk-top-container\"><div class=\"sk-text-repr-fallback\"><pre>GridSearchCV(cv=StratifiedKFold(n_splits=5, random_state=42, shuffle=True),\n",
       "             estimator=Pipeline(steps=[(&#x27;vectorizer&#x27;, VectorizerSelector_ok()),\n",
       "                                       (&#x27;classifier&#x27;,\n",
       "                                        LogisticRegression(random_state=42))]),\n",
       "             n_jobs=-1,\n",
       "             param_grid={&#x27;classifier__penalty&#x27;: (&#x27;l1&#x27;, &#x27;l2&#x27;),\n",
       "                         &#x27;classifier__solver&#x27;: (&#x27;newton-cg&#x27;, &#x27;sag&#x27;, &#x27;saga&#x27;,\n",
       "                                                &#x27;lbfgs&#x27;),\n",
       "                         &#x27;classifier__tol&#x27;: (1e-05, 0.0001, 0.001),\n",
       "                         &#x27;vectorizer__maxdf&#x27;: (0.75, 0.9, 1.0),\n",
       "                         &#x27;vectorizer__mindf&#x27;: (0.01, 0.05, 0.5),\n",
       "                         &#x27;vectorizer__ngram_range&#x27;: [(1, 1), (1, 2)]},\n",
       "             scoring=make_scorer(fbeta_score, beta=1.75, average=weighted),\n",
       "             verbose=1)</pre><b>In a Jupyter environment, please rerun this cell to show the HTML representation or trust the notebook. <br />On GitHub, the HTML representation is unable to render, please try loading this page with nbviewer.org.</b></div><div class=\"sk-container\" hidden><div class=\"sk-item sk-dashed-wrapped\"><div class=\"sk-label-container\"><div class=\"sk-label sk-toggleable\"><input class=\"sk-toggleable__control sk-hidden--visually\" id=\"sk-estimator-id-12\" type=\"checkbox\" ><label for=\"sk-estimator-id-12\" class=\"sk-toggleable__label sk-toggleable__label-arrow\">GridSearchCV</label><div class=\"sk-toggleable__content\"><pre>GridSearchCV(cv=StratifiedKFold(n_splits=5, random_state=42, shuffle=True),\n",
       "             estimator=Pipeline(steps=[(&#x27;vectorizer&#x27;, VectorizerSelector_ok()),\n",
       "                                       (&#x27;classifier&#x27;,\n",
       "                                        LogisticRegression(random_state=42))]),\n",
       "             n_jobs=-1,\n",
       "             param_grid={&#x27;classifier__penalty&#x27;: (&#x27;l1&#x27;, &#x27;l2&#x27;),\n",
       "                         &#x27;classifier__solver&#x27;: (&#x27;newton-cg&#x27;, &#x27;sag&#x27;, &#x27;saga&#x27;,\n",
       "                                                &#x27;lbfgs&#x27;),\n",
       "                         &#x27;classifier__tol&#x27;: (1e-05, 0.0001, 0.001),\n",
       "                         &#x27;vectorizer__maxdf&#x27;: (0.75, 0.9, 1.0),\n",
       "                         &#x27;vectorizer__mindf&#x27;: (0.01, 0.05, 0.5),\n",
       "                         &#x27;vectorizer__ngram_range&#x27;: [(1, 1), (1, 2)]},\n",
       "             scoring=make_scorer(fbeta_score, beta=1.75, average=weighted),\n",
       "             verbose=1)</pre></div></div></div><div class=\"sk-parallel\"><div class=\"sk-parallel-item\"><div class=\"sk-item\"><div class=\"sk-label-container\"><div class=\"sk-label sk-toggleable\"><input class=\"sk-toggleable__control sk-hidden--visually\" id=\"sk-estimator-id-13\" type=\"checkbox\" ><label for=\"sk-estimator-id-13\" class=\"sk-toggleable__label sk-toggleable__label-arrow\">estimator: Pipeline</label><div class=\"sk-toggleable__content\"><pre>Pipeline(steps=[(&#x27;vectorizer&#x27;, VectorizerSelector_ok()),\n",
       "                (&#x27;classifier&#x27;, LogisticRegression(random_state=42))])</pre></div></div></div><div class=\"sk-serial\"><div class=\"sk-item\"><div class=\"sk-serial\"><div class=\"sk-item\"><div class=\"sk-estimator sk-toggleable\"><input class=\"sk-toggleable__control sk-hidden--visually\" id=\"sk-estimator-id-14\" type=\"checkbox\" ><label for=\"sk-estimator-id-14\" class=\"sk-toggleable__label sk-toggleable__label-arrow\">VectorizerSelector_ok</label><div class=\"sk-toggleable__content\"><pre>VectorizerSelector_ok()</pre></div></div></div><div class=\"sk-item\"><div class=\"sk-estimator sk-toggleable\"><input class=\"sk-toggleable__control sk-hidden--visually\" id=\"sk-estimator-id-15\" type=\"checkbox\" ><label for=\"sk-estimator-id-15\" class=\"sk-toggleable__label sk-toggleable__label-arrow\">LogisticRegression</label><div class=\"sk-toggleable__content\"><pre>LogisticRegression(random_state=42)</pre></div></div></div></div></div></div></div></div></div></div></div></div>"
      ],
      "text/plain": [
       "GridSearchCV(cv=StratifiedKFold(n_splits=5, random_state=42, shuffle=True),\n",
       "             estimator=Pipeline(steps=[('vectorizer', VectorizerSelector_ok()),\n",
       "                                       ('classifier',\n",
       "                                        LogisticRegression(random_state=42))]),\n",
       "             n_jobs=-1,\n",
       "             param_grid={'classifier__penalty': ('l1', 'l2'),\n",
       "                         'classifier__solver': ('newton-cg', 'sag', 'saga',\n",
       "                                                'lbfgs'),\n",
       "                         'classifier__tol': (1e-05, 0.0001, 0.001),\n",
       "                         'vectorizer__maxdf': (0.75, 0.9, 1.0),\n",
       "                         'vectorizer__mindf': (0.01, 0.05, 0.5),\n",
       "                         'vectorizer__ngram_range': [(1, 1), (1, 2)]},\n",
       "             scoring=make_scorer(fbeta_score, beta=1.75, average=weighted),\n",
       "             verbose=1)"
      ]
     },
     "execution_count": 36,
     "metadata": {},
     "output_type": "execute_result"
    }
   ],
   "source": [
    "%%time\n",
    "grid_search_LR.fit(X_train, y_train)"
   ]
  },
  {
   "cell_type": "code",
   "execution_count": 37,
   "id": "9d7209b3-735a-4add-96d0-b85f950b7a97",
   "metadata": {},
   "outputs": [
    {
     "name": "stdout",
     "output_type": "stream",
     "text": [
      "Best f_1.75 score: 0.7364171847768242\n",
      "\n",
      "Best parameters: \n",
      "{'classifier__penalty': 'l1', 'classifier__solver': 'saga', 'classifier__tol': 1e-05, 'vectorizer__maxdf': 0.75, 'vectorizer__mindf': 0.01, 'vectorizer__ngram_range': (1, 2)}\n"
     ]
    }
   ],
   "source": [
    "print(f\"Best f_1.75 score: {grid_search_LR.best_score_}\")\n",
    "best_params = grid_search_LR.best_params_\n",
    "print(f\"\\nBest parameters: \\n{best_params}\")"
   ]
  },
  {
   "cell_type": "markdown",
   "id": "1591c6ed-e118-4190-ac61-fb823427d941",
   "metadata": {
    "id": "SQxrCefEQ7dQ"
   },
   "source": [
    "**Meilleur prédicteur**"
   ]
  },
  {
   "cell_type": "code",
   "execution_count": 38,
   "id": "27297ced-78f6-4a53-902c-33004faff5d9",
   "metadata": {},
   "outputs": [
    {
     "data": {
      "text/html": [
       "<style>#sk-container-id-5 {color: black;}#sk-container-id-5 pre{padding: 0;}#sk-container-id-5 div.sk-toggleable {background-color: white;}#sk-container-id-5 label.sk-toggleable__label {cursor: pointer;display: block;width: 100%;margin-bottom: 0;padding: 0.3em;box-sizing: border-box;text-align: center;}#sk-container-id-5 label.sk-toggleable__label-arrow:before {content: \"▸\";float: left;margin-right: 0.25em;color: #696969;}#sk-container-id-5 label.sk-toggleable__label-arrow:hover:before {color: black;}#sk-container-id-5 div.sk-estimator:hover label.sk-toggleable__label-arrow:before {color: black;}#sk-container-id-5 div.sk-toggleable__content {max-height: 0;max-width: 0;overflow: hidden;text-align: left;background-color: #f0f8ff;}#sk-container-id-5 div.sk-toggleable__content pre {margin: 0.2em;color: black;border-radius: 0.25em;background-color: #f0f8ff;}#sk-container-id-5 input.sk-toggleable__control:checked~div.sk-toggleable__content {max-height: 200px;max-width: 100%;overflow: auto;}#sk-container-id-5 input.sk-toggleable__control:checked~label.sk-toggleable__label-arrow:before {content: \"▾\";}#sk-container-id-5 div.sk-estimator input.sk-toggleable__control:checked~label.sk-toggleable__label {background-color: #d4ebff;}#sk-container-id-5 div.sk-label input.sk-toggleable__control:checked~label.sk-toggleable__label {background-color: #d4ebff;}#sk-container-id-5 input.sk-hidden--visually {border: 0;clip: rect(1px 1px 1px 1px);clip: rect(1px, 1px, 1px, 1px);height: 1px;margin: -1px;overflow: hidden;padding: 0;position: absolute;width: 1px;}#sk-container-id-5 div.sk-estimator {font-family: monospace;background-color: #f0f8ff;border: 1px dotted black;border-radius: 0.25em;box-sizing: border-box;margin-bottom: 0.5em;}#sk-container-id-5 div.sk-estimator:hover {background-color: #d4ebff;}#sk-container-id-5 div.sk-parallel-item::after {content: \"\";width: 100%;border-bottom: 1px solid gray;flex-grow: 1;}#sk-container-id-5 div.sk-label:hover label.sk-toggleable__label {background-color: #d4ebff;}#sk-container-id-5 div.sk-serial::before {content: \"\";position: absolute;border-left: 1px solid gray;box-sizing: border-box;top: 0;bottom: 0;left: 50%;z-index: 0;}#sk-container-id-5 div.sk-serial {display: flex;flex-direction: column;align-items: center;background-color: white;padding-right: 0.2em;padding-left: 0.2em;position: relative;}#sk-container-id-5 div.sk-item {position: relative;z-index: 1;}#sk-container-id-5 div.sk-parallel {display: flex;align-items: stretch;justify-content: center;background-color: white;position: relative;}#sk-container-id-5 div.sk-item::before, #sk-container-id-5 div.sk-parallel-item::before {content: \"\";position: absolute;border-left: 1px solid gray;box-sizing: border-box;top: 0;bottom: 0;left: 50%;z-index: -1;}#sk-container-id-5 div.sk-parallel-item {display: flex;flex-direction: column;z-index: 1;position: relative;background-color: white;}#sk-container-id-5 div.sk-parallel-item:first-child::after {align-self: flex-end;width: 50%;}#sk-container-id-5 div.sk-parallel-item:last-child::after {align-self: flex-start;width: 50%;}#sk-container-id-5 div.sk-parallel-item:only-child::after {width: 0;}#sk-container-id-5 div.sk-dashed-wrapped {border: 1px dashed gray;margin: 0 0.4em 0.5em 0.4em;box-sizing: border-box;padding-bottom: 0.4em;background-color: white;}#sk-container-id-5 div.sk-label label {font-family: monospace;font-weight: bold;display: inline-block;line-height: 1.2em;}#sk-container-id-5 div.sk-label-container {text-align: center;}#sk-container-id-5 div.sk-container {/* jupyter's `normalize.less` sets `[hidden] { display: none; }` but bootstrap.min.css set `[hidden] { display: none !important; }` so we also need the `!important` here to be able to override the default hidden behavior on the sphinx rendered scikit-learn.org. See: https://github.com/scikit-learn/scikit-learn/issues/21755 */display: inline-block !important;position: relative;}#sk-container-id-5 div.sk-text-repr-fallback {display: none;}</style><div id=\"sk-container-id-5\" class=\"sk-top-container\"><div class=\"sk-text-repr-fallback\"><pre>Pipeline(steps=[(&#x27;preprocessor&#x27;, TextPreprocessor()),\n",
       "                (&#x27;vectorizer&#x27;,\n",
       "                 VectorizerSelector_ok(maxdf=0.75, ngram_range=(1, 2))),\n",
       "                (&#x27;classifier&#x27;,\n",
       "                 LogisticRegression(penalty=&#x27;l1&#x27;, solver=&#x27;saga&#x27;, tol=1e-05))])</pre><b>In a Jupyter environment, please rerun this cell to show the HTML representation or trust the notebook. <br />On GitHub, the HTML representation is unable to render, please try loading this page with nbviewer.org.</b></div><div class=\"sk-container\" hidden><div class=\"sk-item sk-dashed-wrapped\"><div class=\"sk-label-container\"><div class=\"sk-label sk-toggleable\"><input class=\"sk-toggleable__control sk-hidden--visually\" id=\"sk-estimator-id-16\" type=\"checkbox\" ><label for=\"sk-estimator-id-16\" class=\"sk-toggleable__label sk-toggleable__label-arrow\">Pipeline</label><div class=\"sk-toggleable__content\"><pre>Pipeline(steps=[(&#x27;preprocessor&#x27;, TextPreprocessor()),\n",
       "                (&#x27;vectorizer&#x27;,\n",
       "                 VectorizerSelector_ok(maxdf=0.75, ngram_range=(1, 2))),\n",
       "                (&#x27;classifier&#x27;,\n",
       "                 LogisticRegression(penalty=&#x27;l1&#x27;, solver=&#x27;saga&#x27;, tol=1e-05))])</pre></div></div></div><div class=\"sk-serial\"><div class=\"sk-item\"><div class=\"sk-estimator sk-toggleable\"><input class=\"sk-toggleable__control sk-hidden--visually\" id=\"sk-estimator-id-17\" type=\"checkbox\" ><label for=\"sk-estimator-id-17\" class=\"sk-toggleable__label sk-toggleable__label-arrow\">TextPreprocessor</label><div class=\"sk-toggleable__content\"><pre>TextPreprocessor()</pre></div></div></div><div class=\"sk-item\"><div class=\"sk-estimator sk-toggleable\"><input class=\"sk-toggleable__control sk-hidden--visually\" id=\"sk-estimator-id-18\" type=\"checkbox\" ><label for=\"sk-estimator-id-18\" class=\"sk-toggleable__label sk-toggleable__label-arrow\">VectorizerSelector_ok</label><div class=\"sk-toggleable__content\"><pre>VectorizerSelector_ok(maxdf=0.75, ngram_range=(1, 2))</pre></div></div></div><div class=\"sk-item\"><div class=\"sk-estimator sk-toggleable\"><input class=\"sk-toggleable__control sk-hidden--visually\" id=\"sk-estimator-id-19\" type=\"checkbox\" ><label for=\"sk-estimator-id-19\" class=\"sk-toggleable__label sk-toggleable__label-arrow\">LogisticRegression</label><div class=\"sk-toggleable__content\"><pre>LogisticRegression(penalty=&#x27;l1&#x27;, solver=&#x27;saga&#x27;, tol=1e-05)</pre></div></div></div></div></div></div></div>"
      ],
      "text/plain": [
       "Pipeline(steps=[('preprocessor', TextPreprocessor()),\n",
       "                ('vectorizer',\n",
       "                 VectorizerSelector_ok(maxdf=0.75, ngram_range=(1, 2))),\n",
       "                ('classifier',\n",
       "                 LogisticRegression(penalty='l1', solver='saga', tol=1e-05))])"
      ]
     },
     "execution_count": 38,
     "metadata": {},
     "output_type": "execute_result"
    }
   ],
   "source": [
    "best_LR_predicted = Pipeline([\n",
    "    ('preprocessor', TextPreprocessor()),\n",
    "    ('vectorizer', VectorizerSelector_ok(\n",
    "        maxdf=best_params.get(\"vectorizer__maxdf\"),\n",
    "        mindf=best_params.get(\"vectorizer__mindf\"),\n",
    "        ngram_range=best_params.get(\"vectorizer__ngram_range\"),\n",
    "        stopwords=best_params.get(\"vectorizer__stopwords\") \n",
    "    )),\n",
    "    ('classifier', LogisticRegression(\n",
    "        penalty=best_params.get(\"classifier__penalty\"),\n",
    "        tol=best_params.get(\"classifier__tol\"),\n",
    "        solver=best_params.get(\"classifier__solver\")\n",
    "    ))\n",
    "])\n",
    "best_LR_predicted"
   ]
  },
  {
   "cell_type": "markdown",
   "id": "487b0eb0-c110-4d16-b53a-19e1edf6644b",
   "metadata": {
    "id": "d66AoTK2RCmp"
   },
   "source": [
    "**Evaluation d'apprentissage**"
   ]
  },
  {
   "cell_type": "code",
   "execution_count": 39,
   "id": "8eb4306d-0ee1-403d-9d46-7a3f93211597",
   "metadata": {
    "colab": {
     "base_uri": "https://localhost:8080/"
    },
    "id": "J898c6TeQSeS",
    "outputId": "4d215788-d67a-4861-c381-3b81dbd98331"
   },
   "outputs": [],
   "source": [
    "# train prediction\n",
    "y_train_pred = best_LR_predicted.fit(X_train, y_train).predict(X_train)\n"
   ]
  },
  {
   "cell_type": "code",
   "execution_count": 40,
   "id": "fabe5d32-c159-469d-877b-2d438adb6128",
   "metadata": {},
   "outputs": [
    {
     "name": "stdout",
     "output_type": "stream",
     "text": [
      "              precision    recall  f1-score   support\n",
      "\n",
      "           0       0.77      0.87      0.81      3431\n",
      "           1       0.79      0.65      0.71      2571\n",
      "\n",
      "    accuracy                           0.77      6002\n",
      "   macro avg       0.78      0.76      0.76      6002\n",
      "weighted avg       0.78      0.77      0.77      6002\n",
      "\n",
      "F-beta score (beta=1.75): 0.6756122148684778\n"
     ]
    }
   ],
   "source": [
    "# train report\n",
    "print(classification_report(y_train, y_train_pred))\n",
    "# f_beta score\n",
    "fbeta = fbeta_score(y_train, y_train_pred, beta=1.75)\n",
    "print(f\"F-beta score (beta=1.75): {fbeta}\")"
   ]
  },
  {
   "cell_type": "markdown",
   "id": "8a510dc3-199d-4ae6-a00f-7fc899c747cb",
   "metadata": {
    "id": "RT36u3v_RKat"
   },
   "source": [
    "**Evaluation de prédiction**"
   ]
  },
  {
   "cell_type": "code",
   "execution_count": 42,
   "id": "156a7803-669c-4b17-b13e-1e41456d4eb3",
   "metadata": {
    "colab": {
     "base_uri": "https://localhost:8080/"
    },
    "id": "IUS1SMWMQVju",
    "outputId": "41f9e552-38f8-4936-dd47-52711945aa54"
   },
   "outputs": [
    {
     "name": "stdout",
     "output_type": "stream",
     "text": [
      "              precision    recall  f1-score   support\n",
      "\n",
      "           0       0.76      0.84      0.79       874\n",
      "           1       0.73      0.62      0.67       627\n",
      "\n",
      "    accuracy                           0.75      1501\n",
      "   macro avg       0.74      0.73      0.73      1501\n",
      "weighted avg       0.75      0.75      0.74      1501\n",
      "\n",
      "F-beta score (beta=1.75): 0.6472355922275702\n"
     ]
    }
   ],
   "source": [
    "# test set\n",
    "print(classification_report(y_test, best_LR_predicted.predict(X_test)))\n",
    "\n",
    "fbeta = fbeta_score(y_test, best_LR_predicted.predict(X_test), beta=1.75)\n",
    "print(f\"F-beta score (beta=1.75): {fbeta}\")"
   ]
  },
  {
   "cell_type": "code",
   "execution_count": 43,
   "id": "04c1c4d2-42aa-426b-a1e0-569d17262ef1",
   "metadata": {},
   "outputs": [
    {
     "data": {
      "text/plain": [
       "['LR.pkl']"
      ]
     },
     "execution_count": 43,
     "metadata": {},
     "output_type": "execute_result"
    }
   ],
   "source": [
    "from joblib import dump\n",
    "\n",
    "# Exporter le pipeline vers un fichier\n",
    "dump(best_LR_predicted, 'LR.pkl')"
   ]
  },
  {
   "cell_type": "markdown",
   "id": "6b8fd500-52a0-476b-a17a-da58522d746e",
   "metadata": {},
   "source": [
    "# BernoulliNB"
   ]
  },
  {
   "cell_type": "markdown",
   "id": "3ba610e3-10e2-4f72-89f6-75ebeab4bc90",
   "metadata": {
    "id": "OYCaL_GkK075"
   },
   "source": [
    "**Définition du pipeline avec prétraitement**"
   ]
  },
  {
   "cell_type": "code",
   "execution_count": 44,
   "id": "2a27b441-aa4b-4ea2-864e-df63197e8745",
   "metadata": {
    "colab": {
     "base_uri": "https://localhost:8080/",
     "height": 158
    },
    "id": "lWCsCrl2_VGO",
    "outputId": "6aa5ba63-4f2e-4a73-f928-e98362baedde"
   },
   "outputs": [
    {
     "data": {
      "text/html": [
       "<style>#sk-container-id-6 {color: black;}#sk-container-id-6 pre{padding: 0;}#sk-container-id-6 div.sk-toggleable {background-color: white;}#sk-container-id-6 label.sk-toggleable__label {cursor: pointer;display: block;width: 100%;margin-bottom: 0;padding: 0.3em;box-sizing: border-box;text-align: center;}#sk-container-id-6 label.sk-toggleable__label-arrow:before {content: \"▸\";float: left;margin-right: 0.25em;color: #696969;}#sk-container-id-6 label.sk-toggleable__label-arrow:hover:before {color: black;}#sk-container-id-6 div.sk-estimator:hover label.sk-toggleable__label-arrow:before {color: black;}#sk-container-id-6 div.sk-toggleable__content {max-height: 0;max-width: 0;overflow: hidden;text-align: left;background-color: #f0f8ff;}#sk-container-id-6 div.sk-toggleable__content pre {margin: 0.2em;color: black;border-radius: 0.25em;background-color: #f0f8ff;}#sk-container-id-6 input.sk-toggleable__control:checked~div.sk-toggleable__content {max-height: 200px;max-width: 100%;overflow: auto;}#sk-container-id-6 input.sk-toggleable__control:checked~label.sk-toggleable__label-arrow:before {content: \"▾\";}#sk-container-id-6 div.sk-estimator input.sk-toggleable__control:checked~label.sk-toggleable__label {background-color: #d4ebff;}#sk-container-id-6 div.sk-label input.sk-toggleable__control:checked~label.sk-toggleable__label {background-color: #d4ebff;}#sk-container-id-6 input.sk-hidden--visually {border: 0;clip: rect(1px 1px 1px 1px);clip: rect(1px, 1px, 1px, 1px);height: 1px;margin: -1px;overflow: hidden;padding: 0;position: absolute;width: 1px;}#sk-container-id-6 div.sk-estimator {font-family: monospace;background-color: #f0f8ff;border: 1px dotted black;border-radius: 0.25em;box-sizing: border-box;margin-bottom: 0.5em;}#sk-container-id-6 div.sk-estimator:hover {background-color: #d4ebff;}#sk-container-id-6 div.sk-parallel-item::after {content: \"\";width: 100%;border-bottom: 1px solid gray;flex-grow: 1;}#sk-container-id-6 div.sk-label:hover label.sk-toggleable__label {background-color: #d4ebff;}#sk-container-id-6 div.sk-serial::before {content: \"\";position: absolute;border-left: 1px solid gray;box-sizing: border-box;top: 0;bottom: 0;left: 50%;z-index: 0;}#sk-container-id-6 div.sk-serial {display: flex;flex-direction: column;align-items: center;background-color: white;padding-right: 0.2em;padding-left: 0.2em;position: relative;}#sk-container-id-6 div.sk-item {position: relative;z-index: 1;}#sk-container-id-6 div.sk-parallel {display: flex;align-items: stretch;justify-content: center;background-color: white;position: relative;}#sk-container-id-6 div.sk-item::before, #sk-container-id-6 div.sk-parallel-item::before {content: \"\";position: absolute;border-left: 1px solid gray;box-sizing: border-box;top: 0;bottom: 0;left: 50%;z-index: -1;}#sk-container-id-6 div.sk-parallel-item {display: flex;flex-direction: column;z-index: 1;position: relative;background-color: white;}#sk-container-id-6 div.sk-parallel-item:first-child::after {align-self: flex-end;width: 50%;}#sk-container-id-6 div.sk-parallel-item:last-child::after {align-self: flex-start;width: 50%;}#sk-container-id-6 div.sk-parallel-item:only-child::after {width: 0;}#sk-container-id-6 div.sk-dashed-wrapped {border: 1px dashed gray;margin: 0 0.4em 0.5em 0.4em;box-sizing: border-box;padding-bottom: 0.4em;background-color: white;}#sk-container-id-6 div.sk-label label {font-family: monospace;font-weight: bold;display: inline-block;line-height: 1.2em;}#sk-container-id-6 div.sk-label-container {text-align: center;}#sk-container-id-6 div.sk-container {/* jupyter's `normalize.less` sets `[hidden] { display: none; }` but bootstrap.min.css set `[hidden] { display: none !important; }` so we also need the `!important` here to be able to override the default hidden behavior on the sphinx rendered scikit-learn.org. See: https://github.com/scikit-learn/scikit-learn/issues/21755 */display: inline-block !important;position: relative;}#sk-container-id-6 div.sk-text-repr-fallback {display: none;}</style><div id=\"sk-container-id-6\" class=\"sk-top-container\"><div class=\"sk-text-repr-fallback\"><pre>Pipeline(steps=[(&#x27;preprocessor&#x27;, TextPreprocessor()),\n",
       "                (&#x27;vectorizer&#x27;, VectorizerSelector_ok()),\n",
       "                (&#x27;classifier&#x27;, BernoulliNB())])</pre><b>In a Jupyter environment, please rerun this cell to show the HTML representation or trust the notebook. <br />On GitHub, the HTML representation is unable to render, please try loading this page with nbviewer.org.</b></div><div class=\"sk-container\" hidden><div class=\"sk-item sk-dashed-wrapped\"><div class=\"sk-label-container\"><div class=\"sk-label sk-toggleable\"><input class=\"sk-toggleable__control sk-hidden--visually\" id=\"sk-estimator-id-20\" type=\"checkbox\" ><label for=\"sk-estimator-id-20\" class=\"sk-toggleable__label sk-toggleable__label-arrow\">Pipeline</label><div class=\"sk-toggleable__content\"><pre>Pipeline(steps=[(&#x27;preprocessor&#x27;, TextPreprocessor()),\n",
       "                (&#x27;vectorizer&#x27;, VectorizerSelector_ok()),\n",
       "                (&#x27;classifier&#x27;, BernoulliNB())])</pre></div></div></div><div class=\"sk-serial\"><div class=\"sk-item\"><div class=\"sk-estimator sk-toggleable\"><input class=\"sk-toggleable__control sk-hidden--visually\" id=\"sk-estimator-id-21\" type=\"checkbox\" ><label for=\"sk-estimator-id-21\" class=\"sk-toggleable__label sk-toggleable__label-arrow\">TextPreprocessor</label><div class=\"sk-toggleable__content\"><pre>TextPreprocessor()</pre></div></div></div><div class=\"sk-item\"><div class=\"sk-estimator sk-toggleable\"><input class=\"sk-toggleable__control sk-hidden--visually\" id=\"sk-estimator-id-22\" type=\"checkbox\" ><label for=\"sk-estimator-id-22\" class=\"sk-toggleable__label sk-toggleable__label-arrow\">VectorizerSelector_ok</label><div class=\"sk-toggleable__content\"><pre>VectorizerSelector_ok()</pre></div></div></div><div class=\"sk-item\"><div class=\"sk-estimator sk-toggleable\"><input class=\"sk-toggleable__control sk-hidden--visually\" id=\"sk-estimator-id-23\" type=\"checkbox\" ><label for=\"sk-estimator-id-23\" class=\"sk-toggleable__label sk-toggleable__label-arrow\">BernoulliNB</label><div class=\"sk-toggleable__content\"><pre>BernoulliNB()</pre></div></div></div></div></div></div></div>"
      ],
      "text/plain": [
       "Pipeline(steps=[('preprocessor', TextPreprocessor()),\n",
       "                ('vectorizer', VectorizerSelector_ok()),\n",
       "                ('classifier', BernoulliNB())])"
      ]
     },
     "execution_count": 44,
     "metadata": {},
     "output_type": "execute_result"
    }
   ],
   "source": [
    "from sklearn.naive_bayes import BernoulliNB\n",
    "from sklearn.metrics import (accuracy_score, classification_report,\n",
    "                             roc_auc_score, confusion_matrix)\n",
    "from sklearn.pipeline import Pipeline\n",
    "\n",
    "# Whole / Complete Pipeline\n",
    "WPipeline_NB = Pipeline([\n",
    "        ('preprocessor', TextPreprocessor()),\n",
    "        ('vectorizer', VectorizerSelector_ok()),\n",
    "        ('classifier', BernoulliNB())\n",
    "    ])\n",
    "\n",
    "WPipeline_NB"
   ]
  },
  {
   "cell_type": "code",
   "execution_count": null,
   "id": "84c599d2-7af6-49af-ad36-68a9ae546bee",
   "metadata": {},
   "outputs": [],
   "source": []
  },
  {
   "cell_type": "markdown",
   "id": "2a27cb34-6378-45ec-828b-9801e6c0f4aa",
   "metadata": {
    "id": "nc8ld2QYHYIj"
   },
   "source": [
    "### **Fiting & Performances**"
   ]
  },
  {
   "cell_type": "markdown",
   "id": "d822fcb6-12c7-404b-a0ad-ff31c5684636",
   "metadata": {},
   "source": [
    "### Entrainement du modèle"
   ]
  },
  {
   "cell_type": "code",
   "execution_count": 45,
   "id": "ee19de6c-8fc9-4110-b956-0e8d7e86ac42",
   "metadata": {
    "id": "p2jn3-iiHePv"
   },
   "outputs": [
    {
     "data": {
      "text/html": [
       "<style>#sk-container-id-7 {color: black;}#sk-container-id-7 pre{padding: 0;}#sk-container-id-7 div.sk-toggleable {background-color: white;}#sk-container-id-7 label.sk-toggleable__label {cursor: pointer;display: block;width: 100%;margin-bottom: 0;padding: 0.3em;box-sizing: border-box;text-align: center;}#sk-container-id-7 label.sk-toggleable__label-arrow:before {content: \"▸\";float: left;margin-right: 0.25em;color: #696969;}#sk-container-id-7 label.sk-toggleable__label-arrow:hover:before {color: black;}#sk-container-id-7 div.sk-estimator:hover label.sk-toggleable__label-arrow:before {color: black;}#sk-container-id-7 div.sk-toggleable__content {max-height: 0;max-width: 0;overflow: hidden;text-align: left;background-color: #f0f8ff;}#sk-container-id-7 div.sk-toggleable__content pre {margin: 0.2em;color: black;border-radius: 0.25em;background-color: #f0f8ff;}#sk-container-id-7 input.sk-toggleable__control:checked~div.sk-toggleable__content {max-height: 200px;max-width: 100%;overflow: auto;}#sk-container-id-7 input.sk-toggleable__control:checked~label.sk-toggleable__label-arrow:before {content: \"▾\";}#sk-container-id-7 div.sk-estimator input.sk-toggleable__control:checked~label.sk-toggleable__label {background-color: #d4ebff;}#sk-container-id-7 div.sk-label input.sk-toggleable__control:checked~label.sk-toggleable__label {background-color: #d4ebff;}#sk-container-id-7 input.sk-hidden--visually {border: 0;clip: rect(1px 1px 1px 1px);clip: rect(1px, 1px, 1px, 1px);height: 1px;margin: -1px;overflow: hidden;padding: 0;position: absolute;width: 1px;}#sk-container-id-7 div.sk-estimator {font-family: monospace;background-color: #f0f8ff;border: 1px dotted black;border-radius: 0.25em;box-sizing: border-box;margin-bottom: 0.5em;}#sk-container-id-7 div.sk-estimator:hover {background-color: #d4ebff;}#sk-container-id-7 div.sk-parallel-item::after {content: \"\";width: 100%;border-bottom: 1px solid gray;flex-grow: 1;}#sk-container-id-7 div.sk-label:hover label.sk-toggleable__label {background-color: #d4ebff;}#sk-container-id-7 div.sk-serial::before {content: \"\";position: absolute;border-left: 1px solid gray;box-sizing: border-box;top: 0;bottom: 0;left: 50%;z-index: 0;}#sk-container-id-7 div.sk-serial {display: flex;flex-direction: column;align-items: center;background-color: white;padding-right: 0.2em;padding-left: 0.2em;position: relative;}#sk-container-id-7 div.sk-item {position: relative;z-index: 1;}#sk-container-id-7 div.sk-parallel {display: flex;align-items: stretch;justify-content: center;background-color: white;position: relative;}#sk-container-id-7 div.sk-item::before, #sk-container-id-7 div.sk-parallel-item::before {content: \"\";position: absolute;border-left: 1px solid gray;box-sizing: border-box;top: 0;bottom: 0;left: 50%;z-index: -1;}#sk-container-id-7 div.sk-parallel-item {display: flex;flex-direction: column;z-index: 1;position: relative;background-color: white;}#sk-container-id-7 div.sk-parallel-item:first-child::after {align-self: flex-end;width: 50%;}#sk-container-id-7 div.sk-parallel-item:last-child::after {align-self: flex-start;width: 50%;}#sk-container-id-7 div.sk-parallel-item:only-child::after {width: 0;}#sk-container-id-7 div.sk-dashed-wrapped {border: 1px dashed gray;margin: 0 0.4em 0.5em 0.4em;box-sizing: border-box;padding-bottom: 0.4em;background-color: white;}#sk-container-id-7 div.sk-label label {font-family: monospace;font-weight: bold;display: inline-block;line-height: 1.2em;}#sk-container-id-7 div.sk-label-container {text-align: center;}#sk-container-id-7 div.sk-container {/* jupyter's `normalize.less` sets `[hidden] { display: none; }` but bootstrap.min.css set `[hidden] { display: none !important; }` so we also need the `!important` here to be able to override the default hidden behavior on the sphinx rendered scikit-learn.org. See: https://github.com/scikit-learn/scikit-learn/issues/21755 */display: inline-block !important;position: relative;}#sk-container-id-7 div.sk-text-repr-fallback {display: none;}</style><div id=\"sk-container-id-7\" class=\"sk-top-container\"><div class=\"sk-text-repr-fallback\"><pre>Pipeline(steps=[(&#x27;preprocessor&#x27;, TextPreprocessor()),\n",
       "                (&#x27;vectorizer&#x27;, VectorizerSelector_ok()),\n",
       "                (&#x27;classifier&#x27;, BernoulliNB())])</pre><b>In a Jupyter environment, please rerun this cell to show the HTML representation or trust the notebook. <br />On GitHub, the HTML representation is unable to render, please try loading this page with nbviewer.org.</b></div><div class=\"sk-container\" hidden><div class=\"sk-item sk-dashed-wrapped\"><div class=\"sk-label-container\"><div class=\"sk-label sk-toggleable\"><input class=\"sk-toggleable__control sk-hidden--visually\" id=\"sk-estimator-id-24\" type=\"checkbox\" ><label for=\"sk-estimator-id-24\" class=\"sk-toggleable__label sk-toggleable__label-arrow\">Pipeline</label><div class=\"sk-toggleable__content\"><pre>Pipeline(steps=[(&#x27;preprocessor&#x27;, TextPreprocessor()),\n",
       "                (&#x27;vectorizer&#x27;, VectorizerSelector_ok()),\n",
       "                (&#x27;classifier&#x27;, BernoulliNB())])</pre></div></div></div><div class=\"sk-serial\"><div class=\"sk-item\"><div class=\"sk-estimator sk-toggleable\"><input class=\"sk-toggleable__control sk-hidden--visually\" id=\"sk-estimator-id-25\" type=\"checkbox\" ><label for=\"sk-estimator-id-25\" class=\"sk-toggleable__label sk-toggleable__label-arrow\">TextPreprocessor</label><div class=\"sk-toggleable__content\"><pre>TextPreprocessor()</pre></div></div></div><div class=\"sk-item\"><div class=\"sk-estimator sk-toggleable\"><input class=\"sk-toggleable__control sk-hidden--visually\" id=\"sk-estimator-id-26\" type=\"checkbox\" ><label for=\"sk-estimator-id-26\" class=\"sk-toggleable__label sk-toggleable__label-arrow\">VectorizerSelector_ok</label><div class=\"sk-toggleable__content\"><pre>VectorizerSelector_ok()</pre></div></div></div><div class=\"sk-item\"><div class=\"sk-estimator sk-toggleable\"><input class=\"sk-toggleable__control sk-hidden--visually\" id=\"sk-estimator-id-27\" type=\"checkbox\" ><label for=\"sk-estimator-id-27\" class=\"sk-toggleable__label sk-toggleable__label-arrow\">BernoulliNB</label><div class=\"sk-toggleable__content\"><pre>BernoulliNB()</pre></div></div></div></div></div></div></div>"
      ],
      "text/plain": [
       "Pipeline(steps=[('preprocessor', TextPreprocessor()),\n",
       "                ('vectorizer', VectorizerSelector_ok()),\n",
       "                ('classifier', BernoulliNB())])"
      ]
     },
     "execution_count": 45,
     "metadata": {},
     "output_type": "execute_result"
    }
   ],
   "source": [
    "WPipeline_NB.fit(X_train, y_train)"
   ]
  },
  {
   "cell_type": "markdown",
   "id": "2d5c84b9-d1e3-4644-b07a-1d1230f97d8b",
   "metadata": {},
   "source": [
    "Prédiction"
   ]
  },
  {
   "cell_type": "code",
   "execution_count": 46,
   "id": "ac0c9e39-5f99-4184-b286-702abcd30285",
   "metadata": {},
   "outputs": [],
   "source": [
    "NB_predicted = WPipeline_NB.predict(X_test)"
   ]
  },
  {
   "cell_type": "code",
   "execution_count": 47,
   "id": "c29e3cd9-32ee-48cd-8b7f-de6c4d1310a4",
   "metadata": {
    "colab": {
     "base_uri": "https://localhost:8080/",
     "height": 430
    },
    "id": "4m4Jx2qxIF7o",
    "outputId": "7bd8f310-93f7-474e-bd27-142a55c1c32a"
   },
   "outputs": [
    {
     "data": {
      "image/png": "[encoded data removed]",
      "text/plain": [
       "<Figure size 640x480 with 2 Axes>"
      ]
     },
     "metadata": {},
     "output_type": "display_data"
    }
   ],
   "source": [
    "# Matrice de confusion\n",
    "sns.heatmap(confusion_matrix(y_test, NB_predicted, normalize=\"true\"),\n",
    "            annot=True, fmt='.2g', cmap=\"Greens\");"
   ]
  },
  {
   "cell_type": "code",
   "execution_count": 48,
   "id": "8fba2cdb-6f59-4ad6-8472-1577dcaec78a",
   "metadata": {
    "colab": {
     "base_uri": "https://localhost:8080/"
    },
    "id": "D8nHY6VfIRKV",
    "outputId": "a4e6a4f4-02a3-4da2-c616-e14322d6eae7"
   },
   "outputs": [
    {
     "name": "stdout",
     "output_type": "stream",
     "text": [
      "              precision    recall  f1-score   support\n",
      "\n",
      "  nodisaster       0.76      0.78      0.77       874\n",
      "    disaster       0.68      0.65      0.67       627\n",
      "\n",
      "    accuracy                           0.73      1501\n",
      "   macro avg       0.72      0.72      0.72      1501\n",
      "weighted avg       0.73      0.73      0.73      1501\n",
      "\n",
      "F-beta score (beta=1.75): 0.6590396390589752\n"
     ]
    }
   ],
   "source": [
    "# Rapport de classification\n",
    "print(classification_report(y_test, NB_predicted,\n",
    "                            target_names={\"nodisaster\" : 0, \"disaster\" : 1}))\n",
    "\n",
    "fbeta = fbeta_score(y_test, NB_predicted, beta=1.75)\n",
    "print(f\"F-beta score (beta=1.75): {fbeta}\")"
   ]
  },
  {
   "cell_type": "markdown",
   "id": "af298be1-3a26-45f5-bdf6-fe681c510ddd",
   "metadata": {
    "id": "UO1tzxKtIzqV"
   },
   "source": [
    "### **Optimisation du modèle**"
   ]
  },
  {
   "cell_type": "markdown",
   "id": "369df4b3-c769-4d11-be57-fea45ceda9c8",
   "metadata": {
    "id": "c0TCnws5Y-3g"
   },
   "source": [
    "**Définition du pipeline sans prétraitement**"
   ]
  },
  {
   "cell_type": "code",
   "execution_count": 49,
   "id": "1bdd4ca5-3349-47f2-809a-80c649e472cf",
   "metadata": {
    "colab": {
     "base_uri": "https://localhost:8080/",
     "height": 124
    },
    "id": "cOjcLzSwZJbz",
    "outputId": "7c890196-b96a-473a-a8b2-2c7c08802665"
   },
   "outputs": [
    {
     "data": {
      "text/html": [
       "<style>#sk-container-id-8 {color: black;}#sk-container-id-8 pre{padding: 0;}#sk-container-id-8 div.sk-toggleable {background-color: white;}#sk-container-id-8 label.sk-toggleable__label {cursor: pointer;display: block;width: 100%;margin-bottom: 0;padding: 0.3em;box-sizing: border-box;text-align: center;}#sk-container-id-8 label.sk-toggleable__label-arrow:before {content: \"▸\";float: left;margin-right: 0.25em;color: #696969;}#sk-container-id-8 label.sk-toggleable__label-arrow:hover:before {color: black;}#sk-container-id-8 div.sk-estimator:hover label.sk-toggleable__label-arrow:before {color: black;}#sk-container-id-8 div.sk-toggleable__content {max-height: 0;max-width: 0;overflow: hidden;text-align: left;background-color: #f0f8ff;}#sk-container-id-8 div.sk-toggleable__content pre {margin: 0.2em;color: black;border-radius: 0.25em;background-color: #f0f8ff;}#sk-container-id-8 input.sk-toggleable__control:checked~div.sk-toggleable__content {max-height: 200px;max-width: 100%;overflow: auto;}#sk-container-id-8 input.sk-toggleable__control:checked~label.sk-toggleable__label-arrow:before {content: \"▾\";}#sk-container-id-8 div.sk-estimator input.sk-toggleable__control:checked~label.sk-toggleable__label {background-color: #d4ebff;}#sk-container-id-8 div.sk-label input.sk-toggleable__control:checked~label.sk-toggleable__label {background-color: #d4ebff;}#sk-container-id-8 input.sk-hidden--visually {border: 0;clip: rect(1px 1px 1px 1px);clip: rect(1px, 1px, 1px, 1px);height: 1px;margin: -1px;overflow: hidden;padding: 0;position: absolute;width: 1px;}#sk-container-id-8 div.sk-estimator {font-family: monospace;background-color: #f0f8ff;border: 1px dotted black;border-radius: 0.25em;box-sizing: border-box;margin-bottom: 0.5em;}#sk-container-id-8 div.sk-estimator:hover {background-color: #d4ebff;}#sk-container-id-8 div.sk-parallel-item::after {content: \"\";width: 100%;border-bottom: 1px solid gray;flex-grow: 1;}#sk-container-id-8 div.sk-label:hover label.sk-toggleable__label {background-color: #d4ebff;}#sk-container-id-8 div.sk-serial::before {content: \"\";position: absolute;border-left: 1px solid gray;box-sizing: border-box;top: 0;bottom: 0;left: 50%;z-index: 0;}#sk-container-id-8 div.sk-serial {display: flex;flex-direction: column;align-items: center;background-color: white;padding-right: 0.2em;padding-left: 0.2em;position: relative;}#sk-container-id-8 div.sk-item {position: relative;z-index: 1;}#sk-container-id-8 div.sk-parallel {display: flex;align-items: stretch;justify-content: center;background-color: white;position: relative;}#sk-container-id-8 div.sk-item::before, #sk-container-id-8 div.sk-parallel-item::before {content: \"\";position: absolute;border-left: 1px solid gray;box-sizing: border-box;top: 0;bottom: 0;left: 50%;z-index: -1;}#sk-container-id-8 div.sk-parallel-item {display: flex;flex-direction: column;z-index: 1;position: relative;background-color: white;}#sk-container-id-8 div.sk-parallel-item:first-child::after {align-self: flex-end;width: 50%;}#sk-container-id-8 div.sk-parallel-item:last-child::after {align-self: flex-start;width: 50%;}#sk-container-id-8 div.sk-parallel-item:only-child::after {width: 0;}#sk-container-id-8 div.sk-dashed-wrapped {border: 1px dashed gray;margin: 0 0.4em 0.5em 0.4em;box-sizing: border-box;padding-bottom: 0.4em;background-color: white;}#sk-container-id-8 div.sk-label label {font-family: monospace;font-weight: bold;display: inline-block;line-height: 1.2em;}#sk-container-id-8 div.sk-label-container {text-align: center;}#sk-container-id-8 div.sk-container {/* jupyter's `normalize.less` sets `[hidden] { display: none; }` but bootstrap.min.css set `[hidden] { display: none !important; }` so we also need the `!important` here to be able to override the default hidden behavior on the sphinx rendered scikit-learn.org. See: https://github.com/scikit-learn/scikit-learn/issues/21755 */display: inline-block !important;position: relative;}#sk-container-id-8 div.sk-text-repr-fallback {display: none;}</style><div id=\"sk-container-id-8\" class=\"sk-top-container\"><div class=\"sk-text-repr-fallback\"><pre>Pipeline(steps=[(&#x27;vectorizer&#x27;, VectorizerSelector_ok()),\n",
       "                (&#x27;classifier&#x27;, BernoulliNB())])</pre><b>In a Jupyter environment, please rerun this cell to show the HTML representation or trust the notebook. <br />On GitHub, the HTML representation is unable to render, please try loading this page with nbviewer.org.</b></div><div class=\"sk-container\" hidden><div class=\"sk-item sk-dashed-wrapped\"><div class=\"sk-label-container\"><div class=\"sk-label sk-toggleable\"><input class=\"sk-toggleable__control sk-hidden--visually\" id=\"sk-estimator-id-28\" type=\"checkbox\" ><label for=\"sk-estimator-id-28\" class=\"sk-toggleable__label sk-toggleable__label-arrow\">Pipeline</label><div class=\"sk-toggleable__content\"><pre>Pipeline(steps=[(&#x27;vectorizer&#x27;, VectorizerSelector_ok()),\n",
       "                (&#x27;classifier&#x27;, BernoulliNB())])</pre></div></div></div><div class=\"sk-serial\"><div class=\"sk-item\"><div class=\"sk-estimator sk-toggleable\"><input class=\"sk-toggleable__control sk-hidden--visually\" id=\"sk-estimator-id-29\" type=\"checkbox\" ><label for=\"sk-estimator-id-29\" class=\"sk-toggleable__label sk-toggleable__label-arrow\">VectorizerSelector_ok</label><div class=\"sk-toggleable__content\"><pre>VectorizerSelector_ok()</pre></div></div></div><div class=\"sk-item\"><div class=\"sk-estimator sk-toggleable\"><input class=\"sk-toggleable__control sk-hidden--visually\" id=\"sk-estimator-id-30\" type=\"checkbox\" ><label for=\"sk-estimator-id-30\" class=\"sk-toggleable__label sk-toggleable__label-arrow\">BernoulliNB</label><div class=\"sk-toggleable__content\"><pre>BernoulliNB()</pre></div></div></div></div></div></div></div>"
      ],
      "text/plain": [
       "Pipeline(steps=[('vectorizer', VectorizerSelector_ok()),\n",
       "                ('classifier', BernoulliNB())])"
      ]
     },
     "execution_count": 49,
     "metadata": {},
     "output_type": "execute_result"
    }
   ],
   "source": [
    "# Restricted Pipeline\n",
    "RPipeline_NB = Pipeline([\n",
    "        ('vectorizer', VectorizerSelector_ok()),\n",
    "        ('classifier', BernoulliNB())\n",
    "    ])\n",
    "\n",
    "RPipeline_NB"
   ]
  },
  {
   "cell_type": "markdown",
   "id": "32f4d9d9-0518-49a8-a35c-383cb76ee37c",
   "metadata": {
    "id": "4I9jGyAnLCEA"
   },
   "source": [
    "**Hyperparamètres**"
   ]
  },
  {
   "cell_type": "code",
   "execution_count": 50,
   "id": "30c56db4-e88e-461c-aa34-d2534ebc015c",
   "metadata": {
    "id": "BNMR8G07I7My"
   },
   "outputs": [],
   "source": [
    "from nltk.corpus import stopwords\n",
    "stopwords_nltk = stopwords.words('english')\n",
    "from sklearn.model_selection import GridSearchCV, StratifiedKFold\n",
    "from sklearn.metrics import make_scorer, fbeta_score\n",
    "\n",
    "# Définissons la grille de paramètres\n",
    "param_grid = {\n",
    "    'vectorizer__vectorizer': ['tfidf', 'count'],\n",
    "    'vectorizer__stopwords': [None, list(stopwords_nltk)],\n",
    "    'vectorizer__maxdf': [0.85, 0.90, 0.95],\n",
    "    'vectorizer__mindf': [0.01, 0.02, 0.025],\n",
    "    'vectorizer__ngram_range': [(1, 1), (1, 2), (2, 2)],\n",
    "    'classifier__alpha': [0.05, 0.1, 0.2, 0.5, 1.0, 10.0]\n",
    "}\n",
    "\n",
    "# Créons un scorer personnalisé pour F-beta avec beta=1.75\n",
    "fbeta_scorer = make_scorer(fbeta_score, beta=1.75, average='weighted')\n",
    "\n",
    "# Créons un StratifiedKFold\n",
    "skf = StratifiedKFold(n_splits=5, random_state=42, shuffle=True)\n",
    "\n",
    "# Effectuons la recherche par grille\n",
    "grid_search = GridSearchCV(RPipeline_NB, param_grid, cv=skf, n_jobs=-1, verbose=1, scoring=fbeta_scorer)"
   ]
  },
  {
   "cell_type": "markdown",
   "id": "4373a3b3-0515-449b-a160-81dd84ced468",
   "metadata": {
    "id": "qj9W49vpQ3Kj"
   },
   "source": [
    "**Optimisation**"
   ]
  },
  {
   "cell_type": "code",
   "execution_count": 51,
   "id": "68b4c460-a291-4146-a66c-26a1935b377f",
   "metadata": {
    "colab": {
     "base_uri": "https://localhost:8080/"
    },
    "id": "svzskFuTM_Ki",
    "outputId": "d12375f5-fdd1-4952-ddb8-1317ea9e701c"
   },
   "outputs": [
    {
     "name": "stdout",
     "output_type": "stream",
     "text": [
      "Fitting 5 folds for each of 648 candidates, totalling 3240 fits\n",
      "CPU times: total: 44.1 s\n",
      "Wall time: 13min 8s\n"
     ]
    },
    {
     "data": {
      "text/html": [
       "<style>#sk-container-id-9 {color: black;}#sk-container-id-9 pre{padding: 0;}#sk-container-id-9 div.sk-toggleable {background-color: white;}#sk-container-id-9 label.sk-toggleable__label {cursor: pointer;display: block;width: 100%;margin-bottom: 0;padding: 0.3em;box-sizing: border-box;text-align: center;}#sk-container-id-9 label.sk-toggleable__label-arrow:before {content: \"▸\";float: left;margin-right: 0.25em;color: #696969;}#sk-container-id-9 label.sk-toggleable__label-arrow:hover:before {color: black;}#sk-container-id-9 div.sk-estimator:hover label.sk-toggleable__label-arrow:before {color: black;}#sk-container-id-9 div.sk-toggleable__content {max-height: 0;max-width: 0;overflow: hidden;text-align: left;background-color: #f0f8ff;}#sk-container-id-9 div.sk-toggleable__content pre {margin: 0.2em;color: black;border-radius: 0.25em;background-color: #f0f8ff;}#sk-container-id-9 input.sk-toggleable__control:checked~div.sk-toggleable__content {max-height: 200px;max-width: 100%;overflow: auto;}#sk-container-id-9 input.sk-toggleable__control:checked~label.sk-toggleable__label-arrow:before {content: \"▾\";}#sk-container-id-9 div.sk-estimator input.sk-toggleable__control:checked~label.sk-toggleable__label {background-color: #d4ebff;}#sk-container-id-9 div.sk-label input.sk-toggleable__control:checked~label.sk-toggleable__label {background-color: #d4ebff;}#sk-container-id-9 input.sk-hidden--visually {border: 0;clip: rect(1px 1px 1px 1px);clip: rect(1px, 1px, 1px, 1px);height: 1px;margin: -1px;overflow: hidden;padding: 0;position: absolute;width: 1px;}#sk-container-id-9 div.sk-estimator {font-family: monospace;background-color: #f0f8ff;border: 1px dotted black;border-radius: 0.25em;box-sizing: border-box;margin-bottom: 0.5em;}#sk-container-id-9 div.sk-estimator:hover {background-color: #d4ebff;}#sk-container-id-9 div.sk-parallel-item::after {content: \"\";width: 100%;border-bottom: 1px solid gray;flex-grow: 1;}#sk-container-id-9 div.sk-label:hover label.sk-toggleable__label {background-color: #d4ebff;}#sk-container-id-9 div.sk-serial::before {content: \"\";position: absolute;border-left: 1px solid gray;box-sizing: border-box;top: 0;bottom: 0;left: 50%;z-index: 0;}#sk-container-id-9 div.sk-serial {display: flex;flex-direction: column;align-items: center;background-color: white;padding-right: 0.2em;padding-left: 0.2em;position: relative;}#sk-container-id-9 div.sk-item {position: relative;z-index: 1;}#sk-container-id-9 div.sk-parallel {display: flex;align-items: stretch;justify-content: center;background-color: white;position: relative;}#sk-container-id-9 div.sk-item::before, #sk-container-id-9 div.sk-parallel-item::before {content: \"\";position: absolute;border-left: 1px solid gray;box-sizing: border-box;top: 0;bottom: 0;left: 50%;z-index: -1;}#sk-container-id-9 div.sk-parallel-item {display: flex;flex-direction: column;z-index: 1;position: relative;background-color: white;}#sk-container-id-9 div.sk-parallel-item:first-child::after {align-self: flex-end;width: 50%;}#sk-container-id-9 div.sk-parallel-item:last-child::after {align-self: flex-start;width: 50%;}#sk-container-id-9 div.sk-parallel-item:only-child::after {width: 0;}#sk-container-id-9 div.sk-dashed-wrapped {border: 1px dashed gray;margin: 0 0.4em 0.5em 0.4em;box-sizing: border-box;padding-bottom: 0.4em;background-color: white;}#sk-container-id-9 div.sk-label label {font-family: monospace;font-weight: bold;display: inline-block;line-height: 1.2em;}#sk-container-id-9 div.sk-label-container {text-align: center;}#sk-container-id-9 div.sk-container {/* jupyter's `normalize.less` sets `[hidden] { display: none; }` but bootstrap.min.css set `[hidden] { display: none !important; }` so we also need the `!important` here to be able to override the default hidden behavior on the sphinx rendered scikit-learn.org. See: https://github.com/scikit-learn/scikit-learn/issues/21755 */display: inline-block !important;position: relative;}#sk-container-id-9 div.sk-text-repr-fallback {display: none;}</style><div id=\"sk-container-id-9\" class=\"sk-top-container\"><div class=\"sk-text-repr-fallback\"><pre>GridSearchCV(cv=StratifiedKFold(n_splits=5, random_state=42, shuffle=True),\n",
       "             estimator=Pipeline(steps=[(&#x27;vectorizer&#x27;, VectorizerSelector_ok()),\n",
       "                                       (&#x27;classifier&#x27;, BernoulliNB())]),\n",
       "             n_jobs=-1,\n",
       "             param_grid={&#x27;classifier__alpha&#x27;: [0.05, 0.1, 0.2, 0.5, 1.0, 10.0],\n",
       "                         &#x27;vectorizer__maxdf&#x27;: [0.85, 0.9, 0.95],\n",
       "                         &#x27;vectorizer__mindf&#x27;: [0.01, 0.02, 0.025],\n",
       "                         &#x27;vectorizer__ngram_range&#x27;: [(1, 1), (1, 2...\n",
       "                         &#x27;vectorizer__stopwords&#x27;: [None,\n",
       "                                                   [&#x27;i&#x27;, &#x27;me&#x27;, &#x27;my&#x27;, &#x27;myself&#x27;,\n",
       "                                                    &#x27;we&#x27;, &#x27;our&#x27;, &#x27;ours&#x27;,\n",
       "                                                    &#x27;ourselves&#x27;, &#x27;you&#x27;,\n",
       "                                                    &quot;you&#x27;re&quot;, &quot;you&#x27;ve&quot;,\n",
       "                                                    &quot;you&#x27;ll&quot;, &quot;you&#x27;d&quot;, &#x27;your&#x27;,\n",
       "                                                    &#x27;yours&#x27;, &#x27;yourself&#x27;,\n",
       "                                                    &#x27;yourselves&#x27;, &#x27;he&#x27;, &#x27;him&#x27;,\n",
       "                                                    &#x27;his&#x27;, &#x27;himself&#x27;, &#x27;she&#x27;,\n",
       "                                                    &quot;she&#x27;s&quot;, &#x27;her&#x27;, &#x27;hers&#x27;,\n",
       "                                                    &#x27;herself&#x27;, &#x27;it&#x27;, &quot;it&#x27;s&quot;,\n",
       "                                                    &#x27;its&#x27;, &#x27;itself&#x27;, ...]],\n",
       "                         &#x27;vectorizer__vectorizer&#x27;: [&#x27;tfidf&#x27;, &#x27;count&#x27;]},\n",
       "             scoring=make_scorer(fbeta_score, beta=1.75, average=weighted),\n",
       "             verbose=1)</pre><b>In a Jupyter environment, please rerun this cell to show the HTML representation or trust the notebook. <br />On GitHub, the HTML representation is unable to render, please try loading this page with nbviewer.org.</b></div><div class=\"sk-container\" hidden><div class=\"sk-item sk-dashed-wrapped\"><div class=\"sk-label-container\"><div class=\"sk-label sk-toggleable\"><input class=\"sk-toggleable__control sk-hidden--visually\" id=\"sk-estimator-id-31\" type=\"checkbox\" ><label for=\"sk-estimator-id-31\" class=\"sk-toggleable__label sk-toggleable__label-arrow\">GridSearchCV</label><div class=\"sk-toggleable__content\"><pre>GridSearchCV(cv=StratifiedKFold(n_splits=5, random_state=42, shuffle=True),\n",
       "             estimator=Pipeline(steps=[(&#x27;vectorizer&#x27;, VectorizerSelector_ok()),\n",
       "                                       (&#x27;classifier&#x27;, BernoulliNB())]),\n",
       "             n_jobs=-1,\n",
       "             param_grid={&#x27;classifier__alpha&#x27;: [0.05, 0.1, 0.2, 0.5, 1.0, 10.0],\n",
       "                         &#x27;vectorizer__maxdf&#x27;: [0.85, 0.9, 0.95],\n",
       "                         &#x27;vectorizer__mindf&#x27;: [0.01, 0.02, 0.025],\n",
       "                         &#x27;vectorizer__ngram_range&#x27;: [(1, 1), (1, 2...\n",
       "                         &#x27;vectorizer__stopwords&#x27;: [None,\n",
       "                                                   [&#x27;i&#x27;, &#x27;me&#x27;, &#x27;my&#x27;, &#x27;myself&#x27;,\n",
       "                                                    &#x27;we&#x27;, &#x27;our&#x27;, &#x27;ours&#x27;,\n",
       "                                                    &#x27;ourselves&#x27;, &#x27;you&#x27;,\n",
       "                                                    &quot;you&#x27;re&quot;, &quot;you&#x27;ve&quot;,\n",
       "                                                    &quot;you&#x27;ll&quot;, &quot;you&#x27;d&quot;, &#x27;your&#x27;,\n",
       "                                                    &#x27;yours&#x27;, &#x27;yourself&#x27;,\n",
       "                                                    &#x27;yourselves&#x27;, &#x27;he&#x27;, &#x27;him&#x27;,\n",
       "                                                    &#x27;his&#x27;, &#x27;himself&#x27;, &#x27;she&#x27;,\n",
       "                                                    &quot;she&#x27;s&quot;, &#x27;her&#x27;, &#x27;hers&#x27;,\n",
       "                                                    &#x27;herself&#x27;, &#x27;it&#x27;, &quot;it&#x27;s&quot;,\n",
       "                                                    &#x27;its&#x27;, &#x27;itself&#x27;, ...]],\n",
       "                         &#x27;vectorizer__vectorizer&#x27;: [&#x27;tfidf&#x27;, &#x27;count&#x27;]},\n",
       "             scoring=make_scorer(fbeta_score, beta=1.75, average=weighted),\n",
       "             verbose=1)</pre></div></div></div><div class=\"sk-parallel\"><div class=\"sk-parallel-item\"><div class=\"sk-item\"><div class=\"sk-label-container\"><div class=\"sk-label sk-toggleable\"><input class=\"sk-toggleable__control sk-hidden--visually\" id=\"sk-estimator-id-32\" type=\"checkbox\" ><label for=\"sk-estimator-id-32\" class=\"sk-toggleable__label sk-toggleable__label-arrow\">estimator: Pipeline</label><div class=\"sk-toggleable__content\"><pre>Pipeline(steps=[(&#x27;vectorizer&#x27;, VectorizerSelector_ok()),\n",
       "                (&#x27;classifier&#x27;, BernoulliNB())])</pre></div></div></div><div class=\"sk-serial\"><div class=\"sk-item\"><div class=\"sk-serial\"><div class=\"sk-item\"><div class=\"sk-estimator sk-toggleable\"><input class=\"sk-toggleable__control sk-hidden--visually\" id=\"sk-estimator-id-33\" type=\"checkbox\" ><label for=\"sk-estimator-id-33\" class=\"sk-toggleable__label sk-toggleable__label-arrow\">VectorizerSelector_ok</label><div class=\"sk-toggleable__content\"><pre>VectorizerSelector_ok()</pre></div></div></div><div class=\"sk-item\"><div class=\"sk-estimator sk-toggleable\"><input class=\"sk-toggleable__control sk-hidden--visually\" id=\"sk-estimator-id-34\" type=\"checkbox\" ><label for=\"sk-estimator-id-34\" class=\"sk-toggleable__label sk-toggleable__label-arrow\">BernoulliNB</label><div class=\"sk-toggleable__content\"><pre>BernoulliNB()</pre></div></div></div></div></div></div></div></div></div></div></div></div>"
      ],
      "text/plain": [
       "GridSearchCV(cv=StratifiedKFold(n_splits=5, random_state=42, shuffle=True),\n",
       "             estimator=Pipeline(steps=[('vectorizer', VectorizerSelector_ok()),\n",
       "                                       ('classifier', BernoulliNB())]),\n",
       "             n_jobs=-1,\n",
       "             param_grid={'classifier__alpha': [0.05, 0.1, 0.2, 0.5, 1.0, 10.0],\n",
       "                         'vectorizer__maxdf': [0.85, 0.9, 0.95],\n",
       "                         'vectorizer__mindf': [0.01, 0.02, 0.025],\n",
       "                         'vectorizer__ngram_range': [(1, 1), (1, 2...\n",
       "                         'vectorizer__stopwords': [None,\n",
       "                                                   ['i', 'me', 'my', 'myself',\n",
       "                                                    'we', 'our', 'ours',\n",
       "                                                    'ourselves', 'you',\n",
       "                                                    \"you're\", \"you've\",\n",
       "                                                    \"you'll\", \"you'd\", 'your',\n",
       "                                                    'yours', 'yourself',\n",
       "                                                    'yourselves', 'he', 'him',\n",
       "                                                    'his', 'himself', 'she',\n",
       "                                                    \"she's\", 'her', 'hers',\n",
       "                                                    'herself', 'it', \"it's\",\n",
       "                                                    'its', 'itself', ...]],\n",
       "                         'vectorizer__vectorizer': ['tfidf', 'count']},\n",
       "             scoring=make_scorer(fbeta_score, beta=1.75, average=weighted),\n",
       "             verbose=1)"
      ]
     },
     "execution_count": 51,
     "metadata": {},
     "output_type": "execute_result"
    }
   ],
   "source": [
    "%%time\n",
    "grid_search.fit(X_train, y_train)"
   ]
  },
  {
   "cell_type": "code",
   "execution_count": 52,
   "id": "bbcb239d-71fc-40c4-a519-e1cd51c41f21",
   "metadata": {},
   "outputs": [
    {
     "name": "stdout",
     "output_type": "stream",
     "text": [
      "Best f_1.75 score: 0.7995451142054822\n",
      "\n",
      "Best parameters: \n",
      "{'classifier__alpha': 0.5, 'vectorizer__maxdf': 0.85, 'vectorizer__mindf': 0.01, 'vectorizer__ngram_range': (1, 1), 'vectorizer__stopwords': None, 'vectorizer__vectorizer': 'count'}\n"
     ]
    }
   ],
   "source": [
    "print(f\"Best f_1.75 score: {grid_search.best_score_}\")\n",
    "best_params = grid_search.best_params_\n",
    "print(f\"\\nBest parameters: \\n{best_params}\")"
   ]
  },
  {
   "cell_type": "markdown",
   "id": "8bf8142c-98c4-417c-baf3-87207e2967c5",
   "metadata": {
    "id": "SQxrCefEQ7dQ"
   },
   "source": [
    "**Meilleur prédicteur**"
   ]
  },
  {
   "cell_type": "code",
   "execution_count": 53,
   "id": "99dda39c-93f4-4f71-83e9-4a5e77240b84",
   "metadata": {
    "colab": {
     "base_uri": "https://localhost:8080/",
     "height": 124
    },
    "id": "xqv8zai5NC0r",
    "outputId": "2fd6d153-3feb-486c-dbd6-0bf66bafa5c5"
   },
   "outputs": [
    {
     "data": {
      "text/html": [
       "<style>#sk-container-id-10 {color: black;}#sk-container-id-10 pre{padding: 0;}#sk-container-id-10 div.sk-toggleable {background-color: white;}#sk-container-id-10 label.sk-toggleable__label {cursor: pointer;display: block;width: 100%;margin-bottom: 0;padding: 0.3em;box-sizing: border-box;text-align: center;}#sk-container-id-10 label.sk-toggleable__label-arrow:before {content: \"▸\";float: left;margin-right: 0.25em;color: #696969;}#sk-container-id-10 label.sk-toggleable__label-arrow:hover:before {color: black;}#sk-container-id-10 div.sk-estimator:hover label.sk-toggleable__label-arrow:before {color: black;}#sk-container-id-10 div.sk-toggleable__content {max-height: 0;max-width: 0;overflow: hidden;text-align: left;background-color: #f0f8ff;}#sk-container-id-10 div.sk-toggleable__content pre {margin: 0.2em;color: black;border-radius: 0.25em;background-color: #f0f8ff;}#sk-container-id-10 input.sk-toggleable__control:checked~div.sk-toggleable__content {max-height: 200px;max-width: 100%;overflow: auto;}#sk-container-id-10 input.sk-toggleable__control:checked~label.sk-toggleable__label-arrow:before {content: \"▾\";}#sk-container-id-10 div.sk-estimator input.sk-toggleable__control:checked~label.sk-toggleable__label {background-color: #d4ebff;}#sk-container-id-10 div.sk-label input.sk-toggleable__control:checked~label.sk-toggleable__label {background-color: #d4ebff;}#sk-container-id-10 input.sk-hidden--visually {border: 0;clip: rect(1px 1px 1px 1px);clip: rect(1px, 1px, 1px, 1px);height: 1px;margin: -1px;overflow: hidden;padding: 0;position: absolute;width: 1px;}#sk-container-id-10 div.sk-estimator {font-family: monospace;background-color: #f0f8ff;border: 1px dotted black;border-radius: 0.25em;box-sizing: border-box;margin-bottom: 0.5em;}#sk-container-id-10 div.sk-estimator:hover {background-color: #d4ebff;}#sk-container-id-10 div.sk-parallel-item::after {content: \"\";width: 100%;border-bottom: 1px solid gray;flex-grow: 1;}#sk-container-id-10 div.sk-label:hover label.sk-toggleable__label {background-color: #d4ebff;}#sk-container-id-10 div.sk-serial::before {content: \"\";position: absolute;border-left: 1px solid gray;box-sizing: border-box;top: 0;bottom: 0;left: 50%;z-index: 0;}#sk-container-id-10 div.sk-serial {display: flex;flex-direction: column;align-items: center;background-color: white;padding-right: 0.2em;padding-left: 0.2em;position: relative;}#sk-container-id-10 div.sk-item {position: relative;z-index: 1;}#sk-container-id-10 div.sk-parallel {display: flex;align-items: stretch;justify-content: center;background-color: white;position: relative;}#sk-container-id-10 div.sk-item::before, #sk-container-id-10 div.sk-parallel-item::before {content: \"\";position: absolute;border-left: 1px solid gray;box-sizing: border-box;top: 0;bottom: 0;left: 50%;z-index: -1;}#sk-container-id-10 div.sk-parallel-item {display: flex;flex-direction: column;z-index: 1;position: relative;background-color: white;}#sk-container-id-10 div.sk-parallel-item:first-child::after {align-self: flex-end;width: 50%;}#sk-container-id-10 div.sk-parallel-item:last-child::after {align-self: flex-start;width: 50%;}#sk-container-id-10 div.sk-parallel-item:only-child::after {width: 0;}#sk-container-id-10 div.sk-dashed-wrapped {border: 1px dashed gray;margin: 0 0.4em 0.5em 0.4em;box-sizing: border-box;padding-bottom: 0.4em;background-color: white;}#sk-container-id-10 div.sk-label label {font-family: monospace;font-weight: bold;display: inline-block;line-height: 1.2em;}#sk-container-id-10 div.sk-label-container {text-align: center;}#sk-container-id-10 div.sk-container {/* jupyter's `normalize.less` sets `[hidden] { display: none; }` but bootstrap.min.css set `[hidden] { display: none !important; }` so we also need the `!important` here to be able to override the default hidden behavior on the sphinx rendered scikit-learn.org. See: https://github.com/scikit-learn/scikit-learn/issues/21755 */display: inline-block !important;position: relative;}#sk-container-id-10 div.sk-text-repr-fallback {display: none;}</style><div id=\"sk-container-id-10\" class=\"sk-top-container\"><div class=\"sk-text-repr-fallback\"><pre>Pipeline(steps=[(&#x27;preprocessor&#x27;, TextPreprocessor()),\n",
       "                (&#x27;vectorizer&#x27;,\n",
       "                 VectorizerSelector_ok(maxdf=0.85, vectorizer=&#x27;count&#x27;)),\n",
       "                (&#x27;classifier&#x27;, BernoulliNB(alpha=0.5))])</pre><b>In a Jupyter environment, please rerun this cell to show the HTML representation or trust the notebook. <br />On GitHub, the HTML representation is unable to render, please try loading this page with nbviewer.org.</b></div><div class=\"sk-container\" hidden><div class=\"sk-item sk-dashed-wrapped\"><div class=\"sk-label-container\"><div class=\"sk-label sk-toggleable\"><input class=\"sk-toggleable__control sk-hidden--visually\" id=\"sk-estimator-id-35\" type=\"checkbox\" ><label for=\"sk-estimator-id-35\" class=\"sk-toggleable__label sk-toggleable__label-arrow\">Pipeline</label><div class=\"sk-toggleable__content\"><pre>Pipeline(steps=[(&#x27;preprocessor&#x27;, TextPreprocessor()),\n",
       "                (&#x27;vectorizer&#x27;,\n",
       "                 VectorizerSelector_ok(maxdf=0.85, vectorizer=&#x27;count&#x27;)),\n",
       "                (&#x27;classifier&#x27;, BernoulliNB(alpha=0.5))])</pre></div></div></div><div class=\"sk-serial\"><div class=\"sk-item\"><div class=\"sk-estimator sk-toggleable\"><input class=\"sk-toggleable__control sk-hidden--visually\" id=\"sk-estimator-id-36\" type=\"checkbox\" ><label for=\"sk-estimator-id-36\" class=\"sk-toggleable__label sk-toggleable__label-arrow\">TextPreprocessor</label><div class=\"sk-toggleable__content\"><pre>TextPreprocessor()</pre></div></div></div><div class=\"sk-item\"><div class=\"sk-estimator sk-toggleable\"><input class=\"sk-toggleable__control sk-hidden--visually\" id=\"sk-estimator-id-37\" type=\"checkbox\" ><label for=\"sk-estimator-id-37\" class=\"sk-toggleable__label sk-toggleable__label-arrow\">VectorizerSelector_ok</label><div class=\"sk-toggleable__content\"><pre>VectorizerSelector_ok(maxdf=0.85, vectorizer=&#x27;count&#x27;)</pre></div></div></div><div class=\"sk-item\"><div class=\"sk-estimator sk-toggleable\"><input class=\"sk-toggleable__control sk-hidden--visually\" id=\"sk-estimator-id-38\" type=\"checkbox\" ><label for=\"sk-estimator-id-38\" class=\"sk-toggleable__label sk-toggleable__label-arrow\">BernoulliNB</label><div class=\"sk-toggleable__content\"><pre>BernoulliNB(alpha=0.5)</pre></div></div></div></div></div></div></div>"
      ],
      "text/plain": [
       "Pipeline(steps=[('preprocessor', TextPreprocessor()),\n",
       "                ('vectorizer',\n",
       "                 VectorizerSelector_ok(maxdf=0.85, vectorizer='count')),\n",
       "                ('classifier', BernoulliNB(alpha=0.5))])"
      ]
     },
     "execution_count": 53,
     "metadata": {},
     "output_type": "execute_result"
    }
   ],
   "source": [
    "best_NB_predicted = Pipeline([\n",
    "    # Preprocessing\n",
    "    ('preprocessor', TextPreprocessor()),\n",
    "    # Vectorisation\n",
    "    ('vectorizer', VectorizerSelector_ok(\n",
    "        vectorizer=best_params.get(\"vectorizer__vectorizer\"),\n",
    "        maxdf=best_params.get(\"vectorizer__maxdf\"),\n",
    "        mindf=best_params.get(\"vectorizer__mindf\"),\n",
    "        ngram_range=best_params.get(\"vectorizer__ngram_range\"),\n",
    "        stopwords=best_params.get(\"vectorizer__stopwords\") #stopwords.words('english')  # Ajouter les stopwords ici si nécessaire\n",
    "    )),\n",
    "    # Le modèle de classification\n",
    "    ('classifier', BernoulliNB(\n",
    "        alpha=best_params.get(\"classifier__alpha\")  # Correction : BernoulliNB utilise 'alpha'\n",
    "    ))\n",
    "])\n",
    "best_NB_predicted"
   ]
  },
  {
   "cell_type": "markdown",
   "id": "34999094-3800-477a-87f8-ad9fb87f06ab",
   "metadata": {},
   "source": [
    "### Reentrainement du modèle"
   ]
  },
  {
   "cell_type": "code",
   "execution_count": 54,
   "id": "34637725-2dfd-4a6d-8210-29abf0b98320",
   "metadata": {
    "colab": {
     "base_uri": "https://localhost:8080/"
    },
    "id": "J898c6TeQSeS",
    "outputId": "4d215788-d67a-4861-c381-3b81dbd98331"
   },
   "outputs": [],
   "source": [
    "# train prediction\n",
    "y_train_pred = best_NB_predicted.fit(X_train, y_train).predict(X_train)"
   ]
  },
  {
   "cell_type": "markdown",
   "id": "7cf8b18b-bd31-4eb2-8ace-6f5804aaf707",
   "metadata": {
    "id": "d66AoTK2RCmp"
   },
   "source": [
    "**Evaluation d'apprentissage**"
   ]
  },
  {
   "cell_type": "code",
   "execution_count": 55,
   "id": "26204ab0-974a-40f4-bedd-9287e12f1bcd",
   "metadata": {},
   "outputs": [
    {
     "name": "stdout",
     "output_type": "stream",
     "text": [
      "              precision    recall  f1-score   support\n",
      "\n",
      "           0       0.88      0.95      0.92      3431\n",
      "           1       0.93      0.83      0.88      2571\n",
      "\n",
      "    accuracy                           0.90      6002\n",
      "   macro avg       0.91      0.89      0.90      6002\n",
      "weighted avg       0.90      0.90      0.90      6002\n",
      "\n",
      "F-beta score (beta=1.75): 0.8549953022236142\n"
     ]
    }
   ],
   "source": [
    "# train report\n",
    "print(classification_report(y_train, y_train_pred))\n",
    "# f_beta score\n",
    "fbeta = fbeta_score(y_train, y_train_pred, beta=1.75)\n",
    "print(f\"F-beta score (beta=1.75): {fbeta}\")"
   ]
  },
  {
   "cell_type": "markdown",
   "id": "771968a4-90c2-4cd0-9cb6-43fee2d8c743",
   "metadata": {
    "id": "RT36u3v_RKat"
   },
   "source": [
    "**Evaluation de prédiction**"
   ]
  },
  {
   "cell_type": "code",
   "execution_count": 56,
   "id": "b2b6de45-984d-4a3a-8f68-20294fe74dde",
   "metadata": {
    "colab": {
     "base_uri": "https://localhost:8080/"
    },
    "id": "IUS1SMWMQVju",
    "outputId": "41f9e552-38f8-4936-dd47-52711945aa54"
   },
   "outputs": [
    {
     "name": "stdout",
     "output_type": "stream",
     "text": [
      "              precision    recall  f1-score   support\n",
      "\n",
      "           0       0.79      0.88      0.83       874\n",
      "           1       0.80      0.67      0.73       627\n",
      "\n",
      "    accuracy                           0.79      1501\n",
      "   macro avg       0.79      0.77      0.78      1501\n",
      "weighted avg       0.79      0.79      0.79      1501\n",
      "\n",
      "F-beta score (beta=1.75): 0.6944763949594868\n"
     ]
    }
   ],
   "source": [
    "# test set\n",
    "print(classification_report(y_test, best_NB_predicted.predict(X_test)))\n",
    "\n",
    "fbeta = fbeta_score(y_test, best_NB_predicted.predict(X_test), beta=1.75)\n",
    "print(f\"F-beta score (beta=1.75): {fbeta}\")"
   ]
  },
  {
   "cell_type": "code",
   "execution_count": 57,
   "id": "f4120266-029c-41cc-b09a-478f2aa5d10d",
   "metadata": {},
   "outputs": [
    {
     "data": {
      "text/plain": [
       "['BernoulliNB.pkl']"
      ]
     },
     "execution_count": 57,
     "metadata": {},
     "output_type": "execute_result"
    }
   ],
   "source": [
    "dump(best_NB_predicted, 'BernoulliNB.pkl')"
   ]
  },
  {
   "cell_type": "markdown",
   "id": "27b9be35-f05a-43a9-89fb-ff7b2f8d9700",
   "metadata": {},
   "source": [
    "# Decision Tree"
   ]
  },
  {
   "cell_type": "markdown",
   "id": "60b12275-fef9-471b-acee-79666aba8289",
   "metadata": {
    "id": "OYCaL_GkK075"
   },
   "source": [
    "**Définition du pipeline avec prétraitement**"
   ]
  },
  {
   "cell_type": "markdown",
   "id": "97528b7b-6403-41d7-a6a4-394ad35b2878",
   "metadata": {},
   "source": [
    "### Construction du pipeline pour Decision Tree"
   ]
  },
  {
   "cell_type": "code",
   "execution_count": 58,
   "id": "01e52eb1-225b-4eb2-9e02-347cce769c49",
   "metadata": {
    "colab": {
     "base_uri": "https://localhost:8080/",
     "height": 158
    },
    "id": "lWCsCrl2_VGO",
    "outputId": "6aa5ba63-4f2e-4a73-f928-e98362baedde"
   },
   "outputs": [
    {
     "data": {
      "text/html": [
       "<style>#sk-container-id-11 {color: black;}#sk-container-id-11 pre{padding: 0;}#sk-container-id-11 div.sk-toggleable {background-color: white;}#sk-container-id-11 label.sk-toggleable__label {cursor: pointer;display: block;width: 100%;margin-bottom: 0;padding: 0.3em;box-sizing: border-box;text-align: center;}#sk-container-id-11 label.sk-toggleable__label-arrow:before {content: \"▸\";float: left;margin-right: 0.25em;color: #696969;}#sk-container-id-11 label.sk-toggleable__label-arrow:hover:before {color: black;}#sk-container-id-11 div.sk-estimator:hover label.sk-toggleable__label-arrow:before {color: black;}#sk-container-id-11 div.sk-toggleable__content {max-height: 0;max-width: 0;overflow: hidden;text-align: left;background-color: #f0f8ff;}#sk-container-id-11 div.sk-toggleable__content pre {margin: 0.2em;color: black;border-radius: 0.25em;background-color: #f0f8ff;}#sk-container-id-11 input.sk-toggleable__control:checked~div.sk-toggleable__content {max-height: 200px;max-width: 100%;overflow: auto;}#sk-container-id-11 input.sk-toggleable__control:checked~label.sk-toggleable__label-arrow:before {content: \"▾\";}#sk-container-id-11 div.sk-estimator input.sk-toggleable__control:checked~label.sk-toggleable__label {background-color: #d4ebff;}#sk-container-id-11 div.sk-label input.sk-toggleable__control:checked~label.sk-toggleable__label {background-color: #d4ebff;}#sk-container-id-11 input.sk-hidden--visually {border: 0;clip: rect(1px 1px 1px 1px);clip: rect(1px, 1px, 1px, 1px);height: 1px;margin: -1px;overflow: hidden;padding: 0;position: absolute;width: 1px;}#sk-container-id-11 div.sk-estimator {font-family: monospace;background-color: #f0f8ff;border: 1px dotted black;border-radius: 0.25em;box-sizing: border-box;margin-bottom: 0.5em;}#sk-container-id-11 div.sk-estimator:hover {background-color: #d4ebff;}#sk-container-id-11 div.sk-parallel-item::after {content: \"\";width: 100%;border-bottom: 1px solid gray;flex-grow: 1;}#sk-container-id-11 div.sk-label:hover label.sk-toggleable__label {background-color: #d4ebff;}#sk-container-id-11 div.sk-serial::before {content: \"\";position: absolute;border-left: 1px solid gray;box-sizing: border-box;top: 0;bottom: 0;left: 50%;z-index: 0;}#sk-container-id-11 div.sk-serial {display: flex;flex-direction: column;align-items: center;background-color: white;padding-right: 0.2em;padding-left: 0.2em;position: relative;}#sk-container-id-11 div.sk-item {position: relative;z-index: 1;}#sk-container-id-11 div.sk-parallel {display: flex;align-items: stretch;justify-content: center;background-color: white;position: relative;}#sk-container-id-11 div.sk-item::before, #sk-container-id-11 div.sk-parallel-item::before {content: \"\";position: absolute;border-left: 1px solid gray;box-sizing: border-box;top: 0;bottom: 0;left: 50%;z-index: -1;}#sk-container-id-11 div.sk-parallel-item {display: flex;flex-direction: column;z-index: 1;position: relative;background-color: white;}#sk-container-id-11 div.sk-parallel-item:first-child::after {align-self: flex-end;width: 50%;}#sk-container-id-11 div.sk-parallel-item:last-child::after {align-self: flex-start;width: 50%;}#sk-container-id-11 div.sk-parallel-item:only-child::after {width: 0;}#sk-container-id-11 div.sk-dashed-wrapped {border: 1px dashed gray;margin: 0 0.4em 0.5em 0.4em;box-sizing: border-box;padding-bottom: 0.4em;background-color: white;}#sk-container-id-11 div.sk-label label {font-family: monospace;font-weight: bold;display: inline-block;line-height: 1.2em;}#sk-container-id-11 div.sk-label-container {text-align: center;}#sk-container-id-11 div.sk-container {/* jupyter's `normalize.less` sets `[hidden] { display: none; }` but bootstrap.min.css set `[hidden] { display: none !important; }` so we also need the `!important` here to be able to override the default hidden behavior on the sphinx rendered scikit-learn.org. See: https://github.com/scikit-learn/scikit-learn/issues/21755 */display: inline-block !important;position: relative;}#sk-container-id-11 div.sk-text-repr-fallback {display: none;}</style><div id=\"sk-container-id-11\" class=\"sk-top-container\"><div class=\"sk-text-repr-fallback\"><pre>Pipeline(steps=[(&#x27;preprocessor&#x27;, TextPreprocessor()),\n",
       "                (&#x27;vectorizer&#x27;, VectorizerSelector_ok()),\n",
       "                (&#x27;classifier&#x27;, DecisionTreeClassifier())])</pre><b>In a Jupyter environment, please rerun this cell to show the HTML representation or trust the notebook. <br />On GitHub, the HTML representation is unable to render, please try loading this page with nbviewer.org.</b></div><div class=\"sk-container\" hidden><div class=\"sk-item sk-dashed-wrapped\"><div class=\"sk-label-container\"><div class=\"sk-label sk-toggleable\"><input class=\"sk-toggleable__control sk-hidden--visually\" id=\"sk-estimator-id-39\" type=\"checkbox\" ><label for=\"sk-estimator-id-39\" class=\"sk-toggleable__label sk-toggleable__label-arrow\">Pipeline</label><div class=\"sk-toggleable__content\"><pre>Pipeline(steps=[(&#x27;preprocessor&#x27;, TextPreprocessor()),\n",
       "                (&#x27;vectorizer&#x27;, VectorizerSelector_ok()),\n",
       "                (&#x27;classifier&#x27;, DecisionTreeClassifier())])</pre></div></div></div><div class=\"sk-serial\"><div class=\"sk-item\"><div class=\"sk-estimator sk-toggleable\"><input class=\"sk-toggleable__control sk-hidden--visually\" id=\"sk-estimator-id-40\" type=\"checkbox\" ><label for=\"sk-estimator-id-40\" class=\"sk-toggleable__label sk-toggleable__label-arrow\">TextPreprocessor</label><div class=\"sk-toggleable__content\"><pre>TextPreprocessor()</pre></div></div></div><div class=\"sk-item\"><div class=\"sk-estimator sk-toggleable\"><input class=\"sk-toggleable__control sk-hidden--visually\" id=\"sk-estimator-id-41\" type=\"checkbox\" ><label for=\"sk-estimator-id-41\" class=\"sk-toggleable__label sk-toggleable__label-arrow\">VectorizerSelector_ok</label><div class=\"sk-toggleable__content\"><pre>VectorizerSelector_ok()</pre></div></div></div><div class=\"sk-item\"><div class=\"sk-estimator sk-toggleable\"><input class=\"sk-toggleable__control sk-hidden--visually\" id=\"sk-estimator-id-42\" type=\"checkbox\" ><label for=\"sk-estimator-id-42\" class=\"sk-toggleable__label sk-toggleable__label-arrow\">DecisionTreeClassifier</label><div class=\"sk-toggleable__content\"><pre>DecisionTreeClassifier()</pre></div></div></div></div></div></div></div>"
      ],
      "text/plain": [
       "Pipeline(steps=[('preprocessor', TextPreprocessor()),\n",
       "                ('vectorizer', VectorizerSelector_ok()),\n",
       "                ('classifier', DecisionTreeClassifier())])"
      ]
     },
     "execution_count": 58,
     "metadata": {},
     "output_type": "execute_result"
    }
   ],
   "source": [
    "\n",
    "# Whole / Complete Pipeline\n",
    "dtcf_pipe = Pipeline([\n",
    "        # Preprocessing\n",
    "        ('preprocessor', TextPreprocessor()),\n",
    "        # Vectorisation\n",
    "        ('vectorizer', VectorizerSelector_ok()),\n",
    "        # Le modèle de classification\n",
    "        ('classifier', DecisionTreeClassifier()),  # DecisionTreeClassifier\n",
    "\n",
    "    ])\n",
    "\n",
    "dtcf_pipe"
   ]
  },
  {
   "cell_type": "markdown",
   "id": "2f9128ab-ac35-4d75-bf62-2f5125d375d5",
   "metadata": {
    "id": "nc8ld2QYHYIj"
   },
   "source": [
    "### **Fiting & Performances**"
   ]
  },
  {
   "cell_type": "markdown",
   "id": "d95d3f29-3fff-4c7f-a7f2-ff109c364a55",
   "metadata": {},
   "source": [
    "### Entrainement du modèle"
   ]
  },
  {
   "cell_type": "code",
   "execution_count": 59,
   "id": "38ab0085-e516-4ef1-8653-83a98ae218df",
   "metadata": {
    "id": "p2jn3-iiHePv"
   },
   "outputs": [
    {
     "data": {
      "text/html": [
       "<style>#sk-container-id-12 {color: black;}#sk-container-id-12 pre{padding: 0;}#sk-container-id-12 div.sk-toggleable {background-color: white;}#sk-container-id-12 label.sk-toggleable__label {cursor: pointer;display: block;width: 100%;margin-bottom: 0;padding: 0.3em;box-sizing: border-box;text-align: center;}#sk-container-id-12 label.sk-toggleable__label-arrow:before {content: \"▸\";float: left;margin-right: 0.25em;color: #696969;}#sk-container-id-12 label.sk-toggleable__label-arrow:hover:before {color: black;}#sk-container-id-12 div.sk-estimator:hover label.sk-toggleable__label-arrow:before {color: black;}#sk-container-id-12 div.sk-toggleable__content {max-height: 0;max-width: 0;overflow: hidden;text-align: left;background-color: #f0f8ff;}#sk-container-id-12 div.sk-toggleable__content pre {margin: 0.2em;color: black;border-radius: 0.25em;background-color: #f0f8ff;}#sk-container-id-12 input.sk-toggleable__control:checked~div.sk-toggleable__content {max-height: 200px;max-width: 100%;overflow: auto;}#sk-container-id-12 input.sk-toggleable__control:checked~label.sk-toggleable__label-arrow:before {content: \"▾\";}#sk-container-id-12 div.sk-estimator input.sk-toggleable__control:checked~label.sk-toggleable__label {background-color: #d4ebff;}#sk-container-id-12 div.sk-label input.sk-toggleable__control:checked~label.sk-toggleable__label {background-color: #d4ebff;}#sk-container-id-12 input.sk-hidden--visually {border: 0;clip: rect(1px 1px 1px 1px);clip: rect(1px, 1px, 1px, 1px);height: 1px;margin: -1px;overflow: hidden;padding: 0;position: absolute;width: 1px;}#sk-container-id-12 div.sk-estimator {font-family: monospace;background-color: #f0f8ff;border: 1px dotted black;border-radius: 0.25em;box-sizing: border-box;margin-bottom: 0.5em;}#sk-container-id-12 div.sk-estimator:hover {background-color: #d4ebff;}#sk-container-id-12 div.sk-parallel-item::after {content: \"\";width: 100%;border-bottom: 1px solid gray;flex-grow: 1;}#sk-container-id-12 div.sk-label:hover label.sk-toggleable__label {background-color: #d4ebff;}#sk-container-id-12 div.sk-serial::before {content: \"\";position: absolute;border-left: 1px solid gray;box-sizing: border-box;top: 0;bottom: 0;left: 50%;z-index: 0;}#sk-container-id-12 div.sk-serial {display: flex;flex-direction: column;align-items: center;background-color: white;padding-right: 0.2em;padding-left: 0.2em;position: relative;}#sk-container-id-12 div.sk-item {position: relative;z-index: 1;}#sk-container-id-12 div.sk-parallel {display: flex;align-items: stretch;justify-content: center;background-color: white;position: relative;}#sk-container-id-12 div.sk-item::before, #sk-container-id-12 div.sk-parallel-item::before {content: \"\";position: absolute;border-left: 1px solid gray;box-sizing: border-box;top: 0;bottom: 0;left: 50%;z-index: -1;}#sk-container-id-12 div.sk-parallel-item {display: flex;flex-direction: column;z-index: 1;position: relative;background-color: white;}#sk-container-id-12 div.sk-parallel-item:first-child::after {align-self: flex-end;width: 50%;}#sk-container-id-12 div.sk-parallel-item:last-child::after {align-self: flex-start;width: 50%;}#sk-container-id-12 div.sk-parallel-item:only-child::after {width: 0;}#sk-container-id-12 div.sk-dashed-wrapped {border: 1px dashed gray;margin: 0 0.4em 0.5em 0.4em;box-sizing: border-box;padding-bottom: 0.4em;background-color: white;}#sk-container-id-12 div.sk-label label {font-family: monospace;font-weight: bold;display: inline-block;line-height: 1.2em;}#sk-container-id-12 div.sk-label-container {text-align: center;}#sk-container-id-12 div.sk-container {/* jupyter's `normalize.less` sets `[hidden] { display: none; }` but bootstrap.min.css set `[hidden] { display: none !important; }` so we also need the `!important` here to be able to override the default hidden behavior on the sphinx rendered scikit-learn.org. See: https://github.com/scikit-learn/scikit-learn/issues/21755 */display: inline-block !important;position: relative;}#sk-container-id-12 div.sk-text-repr-fallback {display: none;}</style><div id=\"sk-container-id-12\" class=\"sk-top-container\"><div class=\"sk-text-repr-fallback\"><pre>Pipeline(steps=[(&#x27;preprocessor&#x27;, TextPreprocessor()),\n",
       "                (&#x27;vectorizer&#x27;, VectorizerSelector_ok()),\n",
       "                (&#x27;classifier&#x27;, DecisionTreeClassifier())])</pre><b>In a Jupyter environment, please rerun this cell to show the HTML representation or trust the notebook. <br />On GitHub, the HTML representation is unable to render, please try loading this page with nbviewer.org.</b></div><div class=\"sk-container\" hidden><div class=\"sk-item sk-dashed-wrapped\"><div class=\"sk-label-container\"><div class=\"sk-label sk-toggleable\"><input class=\"sk-toggleable__control sk-hidden--visually\" id=\"sk-estimator-id-43\" type=\"checkbox\" ><label for=\"sk-estimator-id-43\" class=\"sk-toggleable__label sk-toggleable__label-arrow\">Pipeline</label><div class=\"sk-toggleable__content\"><pre>Pipeline(steps=[(&#x27;preprocessor&#x27;, TextPreprocessor()),\n",
       "                (&#x27;vectorizer&#x27;, VectorizerSelector_ok()),\n",
       "                (&#x27;classifier&#x27;, DecisionTreeClassifier())])</pre></div></div></div><div class=\"sk-serial\"><div class=\"sk-item\"><div class=\"sk-estimator sk-toggleable\"><input class=\"sk-toggleable__control sk-hidden--visually\" id=\"sk-estimator-id-44\" type=\"checkbox\" ><label for=\"sk-estimator-id-44\" class=\"sk-toggleable__label sk-toggleable__label-arrow\">TextPreprocessor</label><div class=\"sk-toggleable__content\"><pre>TextPreprocessor()</pre></div></div></div><div class=\"sk-item\"><div class=\"sk-estimator sk-toggleable\"><input class=\"sk-toggleable__control sk-hidden--visually\" id=\"sk-estimator-id-45\" type=\"checkbox\" ><label for=\"sk-estimator-id-45\" class=\"sk-toggleable__label sk-toggleable__label-arrow\">VectorizerSelector_ok</label><div class=\"sk-toggleable__content\"><pre>VectorizerSelector_ok()</pre></div></div></div><div class=\"sk-item\"><div class=\"sk-estimator sk-toggleable\"><input class=\"sk-toggleable__control sk-hidden--visually\" id=\"sk-estimator-id-46\" type=\"checkbox\" ><label for=\"sk-estimator-id-46\" class=\"sk-toggleable__label sk-toggleable__label-arrow\">DecisionTreeClassifier</label><div class=\"sk-toggleable__content\"><pre>DecisionTreeClassifier()</pre></div></div></div></div></div></div></div>"
      ],
      "text/plain": [
       "Pipeline(steps=[('preprocessor', TextPreprocessor()),\n",
       "                ('vectorizer', VectorizerSelector_ok()),\n",
       "                ('classifier', DecisionTreeClassifier())])"
      ]
     },
     "execution_count": 59,
     "metadata": {},
     "output_type": "execute_result"
    }
   ],
   "source": [
    "dtcf_pipe.fit(X_train, y_train)"
   ]
  },
  {
   "cell_type": "markdown",
   "id": "60206310-443b-4e91-9f0d-90cf99fe0465",
   "metadata": {},
   "source": [
    "Prédiction"
   ]
  },
  {
   "cell_type": "code",
   "execution_count": 60,
   "id": "1e323bea-76c8-4d15-876a-ed20de5ce2c3",
   "metadata": {},
   "outputs": [],
   "source": [
    "dtcf_predicted = dtcf_pipe.predict(X_test)"
   ]
  },
  {
   "cell_type": "code",
   "execution_count": 61,
   "id": "5bc9885a-7c7f-4855-8a81-7a6ebefe8f3e",
   "metadata": {
    "colab": {
     "base_uri": "https://localhost:8080/",
     "height": 430
    },
    "id": "4m4Jx2qxIF7o",
    "outputId": "7bd8f310-93f7-474e-bd27-142a55c1c32a"
   },
   "outputs": [
    {
     "data": {
      "image/png": "[encoded data removed]",
      "text/plain": [
       "<Figure size 640x480 with 2 Axes>"
      ]
     },
     "metadata": {},
     "output_type": "display_data"
    }
   ],
   "source": [
    "# Matrice de confusion\n",
    "sns.heatmap(confusion_matrix(y_test, dtcf_predicted, normalize=\"true\"),\n",
    "            annot=True, fmt='.2g', cmap=\"Greens\");"
   ]
  },
  {
   "cell_type": "code",
   "execution_count": 62,
   "id": "bc009481-6afe-46ac-b3c7-5196dcc4000c",
   "metadata": {
    "colab": {
     "base_uri": "https://localhost:8080/"
    },
    "id": "D8nHY6VfIRKV",
    "outputId": "a4e6a4f4-02a3-4da2-c616-e14322d6eae7"
   },
   "outputs": [
    {
     "name": "stdout",
     "output_type": "stream",
     "text": [
      "              precision    recall  f1-score   support\n",
      "\n",
      "  nodisaster       0.72      0.74      0.73       874\n",
      "    disaster       0.62      0.60      0.61       627\n",
      "\n",
      "    accuracy                           0.68      1501\n",
      "   macro avg       0.67      0.67      0.67      1501\n",
      "weighted avg       0.68      0.68      0.68      1501\n",
      "\n",
      "F-beta score (beta=1.75): 0.6092494126375664\n"
     ]
    }
   ],
   "source": [
    "# Rapport de classification\n",
    "print(classification_report(y_test, dtcf_predicted,\n",
    "                            target_names={\"nodisaster\" : 0, \"disaster\" : 1}))\n",
    "\n",
    "fbeta = fbeta_score(y_test, dtcf_predicted, beta=1.75)\n",
    "print(f\"F-beta score (beta=1.75): {fbeta}\")"
   ]
  },
  {
   "cell_type": "markdown",
   "id": "44f689cf-6bf2-49ca-a1df-0b0d405ece25",
   "metadata": {
    "id": "UO1tzxKtIzqV"
   },
   "source": [
    "### **Optimisation du modèle**"
   ]
  },
  {
   "cell_type": "markdown",
   "id": "8fd66211-d64f-4ec3-b02d-c34d663d463d",
   "metadata": {
    "id": "c0TCnws5Y-3g"
   },
   "source": [
    "**Définition du pipeline sans prétraitement**"
   ]
  },
  {
   "cell_type": "code",
   "execution_count": 63,
   "id": "f4c9befa-d507-43e0-be0b-f50784e8b209",
   "metadata": {
    "colab": {
     "base_uri": "https://localhost:8080/",
     "height": 124
    },
    "id": "cOjcLzSwZJbz",
    "outputId": "7c890196-b96a-473a-a8b2-2c7c08802665"
   },
   "outputs": [
    {
     "data": {
      "text/html": [
       "<style>#sk-container-id-13 {color: black;}#sk-container-id-13 pre{padding: 0;}#sk-container-id-13 div.sk-toggleable {background-color: white;}#sk-container-id-13 label.sk-toggleable__label {cursor: pointer;display: block;width: 100%;margin-bottom: 0;padding: 0.3em;box-sizing: border-box;text-align: center;}#sk-container-id-13 label.sk-toggleable__label-arrow:before {content: \"▸\";float: left;margin-right: 0.25em;color: #696969;}#sk-container-id-13 label.sk-toggleable__label-arrow:hover:before {color: black;}#sk-container-id-13 div.sk-estimator:hover label.sk-toggleable__label-arrow:before {color: black;}#sk-container-id-13 div.sk-toggleable__content {max-height: 0;max-width: 0;overflow: hidden;text-align: left;background-color: #f0f8ff;}#sk-container-id-13 div.sk-toggleable__content pre {margin: 0.2em;color: black;border-radius: 0.25em;background-color: #f0f8ff;}#sk-container-id-13 input.sk-toggleable__control:checked~div.sk-toggleable__content {max-height: 200px;max-width: 100%;overflow: auto;}#sk-container-id-13 input.sk-toggleable__control:checked~label.sk-toggleable__label-arrow:before {content: \"▾\";}#sk-container-id-13 div.sk-estimator input.sk-toggleable__control:checked~label.sk-toggleable__label {background-color: #d4ebff;}#sk-container-id-13 div.sk-label input.sk-toggleable__control:checked~label.sk-toggleable__label {background-color: #d4ebff;}#sk-container-id-13 input.sk-hidden--visually {border: 0;clip: rect(1px 1px 1px 1px);clip: rect(1px, 1px, 1px, 1px);height: 1px;margin: -1px;overflow: hidden;padding: 0;position: absolute;width: 1px;}#sk-container-id-13 div.sk-estimator {font-family: monospace;background-color: #f0f8ff;border: 1px dotted black;border-radius: 0.25em;box-sizing: border-box;margin-bottom: 0.5em;}#sk-container-id-13 div.sk-estimator:hover {background-color: #d4ebff;}#sk-container-id-13 div.sk-parallel-item::after {content: \"\";width: 100%;border-bottom: 1px solid gray;flex-grow: 1;}#sk-container-id-13 div.sk-label:hover label.sk-toggleable__label {background-color: #d4ebff;}#sk-container-id-13 div.sk-serial::before {content: \"\";position: absolute;border-left: 1px solid gray;box-sizing: border-box;top: 0;bottom: 0;left: 50%;z-index: 0;}#sk-container-id-13 div.sk-serial {display: flex;flex-direction: column;align-items: center;background-color: white;padding-right: 0.2em;padding-left: 0.2em;position: relative;}#sk-container-id-13 div.sk-item {position: relative;z-index: 1;}#sk-container-id-13 div.sk-parallel {display: flex;align-items: stretch;justify-content: center;background-color: white;position: relative;}#sk-container-id-13 div.sk-item::before, #sk-container-id-13 div.sk-parallel-item::before {content: \"\";position: absolute;border-left: 1px solid gray;box-sizing: border-box;top: 0;bottom: 0;left: 50%;z-index: -1;}#sk-container-id-13 div.sk-parallel-item {display: flex;flex-direction: column;z-index: 1;position: relative;background-color: white;}#sk-container-id-13 div.sk-parallel-item:first-child::after {align-self: flex-end;width: 50%;}#sk-container-id-13 div.sk-parallel-item:last-child::after {align-self: flex-start;width: 50%;}#sk-container-id-13 div.sk-parallel-item:only-child::after {width: 0;}#sk-container-id-13 div.sk-dashed-wrapped {border: 1px dashed gray;margin: 0 0.4em 0.5em 0.4em;box-sizing: border-box;padding-bottom: 0.4em;background-color: white;}#sk-container-id-13 div.sk-label label {font-family: monospace;font-weight: bold;display: inline-block;line-height: 1.2em;}#sk-container-id-13 div.sk-label-container {text-align: center;}#sk-container-id-13 div.sk-container {/* jupyter's `normalize.less` sets `[hidden] { display: none; }` but bootstrap.min.css set `[hidden] { display: none !important; }` so we also need the `!important` here to be able to override the default hidden behavior on the sphinx rendered scikit-learn.org. See: https://github.com/scikit-learn/scikit-learn/issues/21755 */display: inline-block !important;position: relative;}#sk-container-id-13 div.sk-text-repr-fallback {display: none;}</style><div id=\"sk-container-id-13\" class=\"sk-top-container\"><div class=\"sk-text-repr-fallback\"><pre>Pipeline(steps=[(&#x27;vectorizer&#x27;, VectorizerSelector_ok()),\n",
       "                (&#x27;classifier&#x27;, DecisionTreeClassifier())])</pre><b>In a Jupyter environment, please rerun this cell to show the HTML representation or trust the notebook. <br />On GitHub, the HTML representation is unable to render, please try loading this page with nbviewer.org.</b></div><div class=\"sk-container\" hidden><div class=\"sk-item sk-dashed-wrapped\"><div class=\"sk-label-container\"><div class=\"sk-label sk-toggleable\"><input class=\"sk-toggleable__control sk-hidden--visually\" id=\"sk-estimator-id-47\" type=\"checkbox\" ><label for=\"sk-estimator-id-47\" class=\"sk-toggleable__label sk-toggleable__label-arrow\">Pipeline</label><div class=\"sk-toggleable__content\"><pre>Pipeline(steps=[(&#x27;vectorizer&#x27;, VectorizerSelector_ok()),\n",
       "                (&#x27;classifier&#x27;, DecisionTreeClassifier())])</pre></div></div></div><div class=\"sk-serial\"><div class=\"sk-item\"><div class=\"sk-estimator sk-toggleable\"><input class=\"sk-toggleable__control sk-hidden--visually\" id=\"sk-estimator-id-48\" type=\"checkbox\" ><label for=\"sk-estimator-id-48\" class=\"sk-toggleable__label sk-toggleable__label-arrow\">VectorizerSelector_ok</label><div class=\"sk-toggleable__content\"><pre>VectorizerSelector_ok()</pre></div></div></div><div class=\"sk-item\"><div class=\"sk-estimator sk-toggleable\"><input class=\"sk-toggleable__control sk-hidden--visually\" id=\"sk-estimator-id-49\" type=\"checkbox\" ><label for=\"sk-estimator-id-49\" class=\"sk-toggleable__label sk-toggleable__label-arrow\">DecisionTreeClassifier</label><div class=\"sk-toggleable__content\"><pre>DecisionTreeClassifier()</pre></div></div></div></div></div></div></div>"
      ],
      "text/plain": [
       "Pipeline(steps=[('vectorizer', VectorizerSelector_ok()),\n",
       "                ('classifier', DecisionTreeClassifier())])"
      ]
     },
     "execution_count": 63,
     "metadata": {},
     "output_type": "execute_result"
    }
   ],
   "source": [
    "# Restricted Pipeline\n",
    "RPipeline_dtcf = Pipeline([\n",
    "        ('vectorizer', VectorizerSelector_ok()),\n",
    "        ('classifier', DecisionTreeClassifier())\n",
    "    ])\n",
    "\n",
    "RPipeline_dtcf"
   ]
  },
  {
   "cell_type": "markdown",
   "id": "f40ed21a-6020-46c3-add0-7d8114f931ef",
   "metadata": {
    "id": "4I9jGyAnLCEA"
   },
   "source": [
    "**Hyperparamètres**"
   ]
  },
  {
   "cell_type": "code",
   "execution_count": 64,
   "id": "05b02054-528a-4f2a-b99b-b408ab1b1da7",
   "metadata": {
    "id": "BNMR8G07I7My"
   },
   "outputs": [],
   "source": [
    "grid_params = {\n",
    "    # vectorizer hyperparmeters\n",
    "    \"vectorizer__maxdf\": (0.75, 0.9, 1.0),\n",
    "    \"vectorizer__mindf\": (0.01, 0.05, 0.5),\n",
    "    'vectorizer__ngram_range': [(1, 1), (1, 2), (2, 1)],\n",
    "    # classifier hyperparameters\n",
    "    #'classifier__criterion': (\"gini\", \"entropy\"),\n",
    "    'classifier__max_depth': (20, 25, 30),\n",
    "    'classifier__min_samples_split' : (2, 5, 10),\n",
    "    'classifier__min_samples_leaf' : (1, 5)\n",
    "}\n",
    "\n",
    "# Créons un scorer personnalisé pour F-beta avec beta=1.75\n",
    "fbeta_scorer = make_scorer(fbeta_score, beta=1.75, average='weighted')\n",
    "\n",
    "# Créons un StratifiedKFold\n",
    "skf = StratifiedKFold(n_splits=5, random_state=42, shuffle=True)\n",
    "\n",
    "# Effectuons la recherche par grille\n",
    "grid_search = GridSearchCV(RPipeline_dtcf, grid_params, cv=skf, n_jobs=-1, verbose=1, scoring=fbeta_scorer)"
   ]
  },
  {
   "cell_type": "markdown",
   "id": "7014fdd1-0021-477a-a928-6de5218897f0",
   "metadata": {
    "id": "qj9W49vpQ3Kj"
   },
   "source": [
    "**Optimisation**"
   ]
  },
  {
   "cell_type": "code",
   "execution_count": 65,
   "id": "41fce590-5c2c-4503-8bd6-7cddb98939d2",
   "metadata": {
    "colab": {
     "base_uri": "https://localhost:8080/"
    },
    "id": "svzskFuTM_Ki",
    "outputId": "d12375f5-fdd1-4952-ddb8-1317ea9e701c"
   },
   "outputs": [
    {
     "name": "stdout",
     "output_type": "stream",
     "text": [
      "Fitting 5 folds for each of 486 candidates, totalling 2430 fits\n",
      "CPU times: total: 30.5 s\n",
      "Wall time: 6min 57s\n"
     ]
    }
   ],
   "source": [
    "%%time\n",
    "grid_search = grid_search.fit(X_train, y_train)"
   ]
  },
  {
   "cell_type": "code",
   "execution_count": 66,
   "id": "9f5b10ec-b93f-408b-994c-ac0605e8e2e0",
   "metadata": {},
   "outputs": [
    {
     "name": "stdout",
     "output_type": "stream",
     "text": [
      "Best f_1.75 score: 0.6937147482625303\n",
      "\n",
      "Best parameters: \n",
      "{'classifier__max_depth': 20, 'classifier__min_samples_leaf': 1, 'classifier__min_samples_split': 2, 'vectorizer__maxdf': 1.0, 'vectorizer__mindf': 0.01, 'vectorizer__ngram_range': (1, 1)}\n"
     ]
    }
   ],
   "source": [
    "print(f\"Best f_1.75 score: {grid_search.best_score_}\")\n",
    "best_params = grid_search.best_params_\n",
    "print(f\"\\nBest parameters: \\n{best_params}\")"
   ]
  },
  {
   "cell_type": "markdown",
   "id": "036da3d8-c13a-458e-955e-53adcb6914c8",
   "metadata": {
    "id": "SQxrCefEQ7dQ"
   },
   "source": [
    "**Meilleur prédicteur**"
   ]
  },
  {
   "cell_type": "code",
   "execution_count": 67,
   "id": "c1c93059-1fbc-4a8e-ad3f-b82c3c584641",
   "metadata": {
    "colab": {
     "base_uri": "https://localhost:8080/",
     "height": 124
    },
    "id": "xqv8zai5NC0r",
    "outputId": "2fd6d153-3feb-486c-dbd6-0bf66bafa5c5"
   },
   "outputs": [
    {
     "data": {
      "text/html": [
       "<style>#sk-container-id-14 {color: black;}#sk-container-id-14 pre{padding: 0;}#sk-container-id-14 div.sk-toggleable {background-color: white;}#sk-container-id-14 label.sk-toggleable__label {cursor: pointer;display: block;width: 100%;margin-bottom: 0;padding: 0.3em;box-sizing: border-box;text-align: center;}#sk-container-id-14 label.sk-toggleable__label-arrow:before {content: \"▸\";float: left;margin-right: 0.25em;color: #696969;}#sk-container-id-14 label.sk-toggleable__label-arrow:hover:before {color: black;}#sk-container-id-14 div.sk-estimator:hover label.sk-toggleable__label-arrow:before {color: black;}#sk-container-id-14 div.sk-toggleable__content {max-height: 0;max-width: 0;overflow: hidden;text-align: left;background-color: #f0f8ff;}#sk-container-id-14 div.sk-toggleable__content pre {margin: 0.2em;color: black;border-radius: 0.25em;background-color: #f0f8ff;}#sk-container-id-14 input.sk-toggleable__control:checked~div.sk-toggleable__content {max-height: 200px;max-width: 100%;overflow: auto;}#sk-container-id-14 input.sk-toggleable__control:checked~label.sk-toggleable__label-arrow:before {content: \"▾\";}#sk-container-id-14 div.sk-estimator input.sk-toggleable__control:checked~label.sk-toggleable__label {background-color: #d4ebff;}#sk-container-id-14 div.sk-label input.sk-toggleable__control:checked~label.sk-toggleable__label {background-color: #d4ebff;}#sk-container-id-14 input.sk-hidden--visually {border: 0;clip: rect(1px 1px 1px 1px);clip: rect(1px, 1px, 1px, 1px);height: 1px;margin: -1px;overflow: hidden;padding: 0;position: absolute;width: 1px;}#sk-container-id-14 div.sk-estimator {font-family: monospace;background-color: #f0f8ff;border: 1px dotted black;border-radius: 0.25em;box-sizing: border-box;margin-bottom: 0.5em;}#sk-container-id-14 div.sk-estimator:hover {background-color: #d4ebff;}#sk-container-id-14 div.sk-parallel-item::after {content: \"\";width: 100%;border-bottom: 1px solid gray;flex-grow: 1;}#sk-container-id-14 div.sk-label:hover label.sk-toggleable__label {background-color: #d4ebff;}#sk-container-id-14 div.sk-serial::before {content: \"\";position: absolute;border-left: 1px solid gray;box-sizing: border-box;top: 0;bottom: 0;left: 50%;z-index: 0;}#sk-container-id-14 div.sk-serial {display: flex;flex-direction: column;align-items: center;background-color: white;padding-right: 0.2em;padding-left: 0.2em;position: relative;}#sk-container-id-14 div.sk-item {position: relative;z-index: 1;}#sk-container-id-14 div.sk-parallel {display: flex;align-items: stretch;justify-content: center;background-color: white;position: relative;}#sk-container-id-14 div.sk-item::before, #sk-container-id-14 div.sk-parallel-item::before {content: \"\";position: absolute;border-left: 1px solid gray;box-sizing: border-box;top: 0;bottom: 0;left: 50%;z-index: -1;}#sk-container-id-14 div.sk-parallel-item {display: flex;flex-direction: column;z-index: 1;position: relative;background-color: white;}#sk-container-id-14 div.sk-parallel-item:first-child::after {align-self: flex-end;width: 50%;}#sk-container-id-14 div.sk-parallel-item:last-child::after {align-self: flex-start;width: 50%;}#sk-container-id-14 div.sk-parallel-item:only-child::after {width: 0;}#sk-container-id-14 div.sk-dashed-wrapped {border: 1px dashed gray;margin: 0 0.4em 0.5em 0.4em;box-sizing: border-box;padding-bottom: 0.4em;background-color: white;}#sk-container-id-14 div.sk-label label {font-family: monospace;font-weight: bold;display: inline-block;line-height: 1.2em;}#sk-container-id-14 div.sk-label-container {text-align: center;}#sk-container-id-14 div.sk-container {/* jupyter's `normalize.less` sets `[hidden] { display: none; }` but bootstrap.min.css set `[hidden] { display: none !important; }` so we also need the `!important` here to be able to override the default hidden behavior on the sphinx rendered scikit-learn.org. See: https://github.com/scikit-learn/scikit-learn/issues/21755 */display: inline-block !important;position: relative;}#sk-container-id-14 div.sk-text-repr-fallback {display: none;}</style><div id=\"sk-container-id-14\" class=\"sk-top-container\"><div class=\"sk-text-repr-fallback\"><pre>Pipeline(steps=[(&#x27;preprocessor&#x27;, TextPreprocessor()),\n",
       "                (&#x27;vectorizer&#x27;, VectorizerSelector_ok(maxdf=1.0)),\n",
       "                (&#x27;classifier&#x27;, DecisionTreeClassifier(max_depth=20))])</pre><b>In a Jupyter environment, please rerun this cell to show the HTML representation or trust the notebook. <br />On GitHub, the HTML representation is unable to render, please try loading this page with nbviewer.org.</b></div><div class=\"sk-container\" hidden><div class=\"sk-item sk-dashed-wrapped\"><div class=\"sk-label-container\"><div class=\"sk-label sk-toggleable\"><input class=\"sk-toggleable__control sk-hidden--visually\" id=\"sk-estimator-id-50\" type=\"checkbox\" ><label for=\"sk-estimator-id-50\" class=\"sk-toggleable__label sk-toggleable__label-arrow\">Pipeline</label><div class=\"sk-toggleable__content\"><pre>Pipeline(steps=[(&#x27;preprocessor&#x27;, TextPreprocessor()),\n",
       "                (&#x27;vectorizer&#x27;, VectorizerSelector_ok(maxdf=1.0)),\n",
       "                (&#x27;classifier&#x27;, DecisionTreeClassifier(max_depth=20))])</pre></div></div></div><div class=\"sk-serial\"><div class=\"sk-item\"><div class=\"sk-estimator sk-toggleable\"><input class=\"sk-toggleable__control sk-hidden--visually\" id=\"sk-estimator-id-51\" type=\"checkbox\" ><label for=\"sk-estimator-id-51\" class=\"sk-toggleable__label sk-toggleable__label-arrow\">TextPreprocessor</label><div class=\"sk-toggleable__content\"><pre>TextPreprocessor()</pre></div></div></div><div class=\"sk-item\"><div class=\"sk-estimator sk-toggleable\"><input class=\"sk-toggleable__control sk-hidden--visually\" id=\"sk-estimator-id-52\" type=\"checkbox\" ><label for=\"sk-estimator-id-52\" class=\"sk-toggleable__label sk-toggleable__label-arrow\">VectorizerSelector_ok</label><div class=\"sk-toggleable__content\"><pre>VectorizerSelector_ok(maxdf=1.0)</pre></div></div></div><div class=\"sk-item\"><div class=\"sk-estimator sk-toggleable\"><input class=\"sk-toggleable__control sk-hidden--visually\" id=\"sk-estimator-id-53\" type=\"checkbox\" ><label for=\"sk-estimator-id-53\" class=\"sk-toggleable__label sk-toggleable__label-arrow\">DecisionTreeClassifier</label><div class=\"sk-toggleable__content\"><pre>DecisionTreeClassifier(max_depth=20)</pre></div></div></div></div></div></div></div>"
      ],
      "text/plain": [
       "Pipeline(steps=[('preprocessor', TextPreprocessor()),\n",
       "                ('vectorizer', VectorizerSelector_ok(maxdf=1.0)),\n",
       "                ('classifier', DecisionTreeClassifier(max_depth=20))])"
      ]
     },
     "execution_count": 67,
     "metadata": {},
     "output_type": "execute_result"
    }
   ],
   "source": [
    "best_dtcf_predicted = Pipeline([\n",
    "    # Preprocessing\n",
    "    ('preprocessor', TextPreprocessor()),\n",
    "    # Vectorisation\n",
    "    ('vectorizer', VectorizerSelector_ok(\n",
    "        maxdf=best_params.get(\"vectorizer__maxdf\"),\n",
    "        mindf=best_params.get(\"vectorizer__mindf\"),\n",
    "        ngram_range=best_params.get(\"vectorizer__ngram_range\"),\n",
    "        stopwords=best_params.get(\"vectorizer__stopwords\") \n",
    "    )),\n",
    "    # Le modèle de classification\n",
    "    ('classifier', DecisionTreeClassifier(\n",
    "                                          max_depth=best_params.get(\"classifier__max_depth\"),\n",
    "                                          min_samples_split = best_params.get(\"classifier__min_samples_split\"),\n",
    "                                          min_samples_leaf = best_params.get(\"classifier__min_samples_leaf\"),\n",
    "                                )),\n",
    "    ])\n",
    "best_dtcf_predicted"
   ]
  },
  {
   "cell_type": "markdown",
   "id": "a5c4ed77-7546-4c70-b836-e67e2394f4ab",
   "metadata": {},
   "source": [
    "### Reentrainement du modèle"
   ]
  },
  {
   "cell_type": "code",
   "execution_count": 68,
   "id": "1af08f84-c559-4b27-925e-70335e81fd4d",
   "metadata": {
    "colab": {
     "base_uri": "https://localhost:8080/"
    },
    "id": "J898c6TeQSeS",
    "outputId": "4d215788-d67a-4861-c381-3b81dbd98331"
   },
   "outputs": [],
   "source": [
    "# train prediction\n",
    "y_train_pred = best_dtcf_predicted.fit(X_train, y_train).predict(X_train)"
   ]
  },
  {
   "cell_type": "markdown",
   "id": "bdeb2533-5268-44c8-98ef-349cdda0c709",
   "metadata": {
    "id": "d66AoTK2RCmp"
   },
   "source": [
    "**Evaluation d'apprentissage**"
   ]
  },
  {
   "cell_type": "code",
   "execution_count": 69,
   "id": "41495883-b859-48a0-9389-a503a16a444b",
   "metadata": {},
   "outputs": [
    {
     "name": "stdout",
     "output_type": "stream",
     "text": [
      "              precision    recall  f1-score   support\n",
      "\n",
      "           0       0.76      0.95      0.84      3431\n",
      "           1       0.89      0.61      0.72      2571\n",
      "\n",
      "    accuracy                           0.80      6002\n",
      "   macro avg       0.83      0.78      0.78      6002\n",
      "weighted avg       0.82      0.80      0.79      6002\n",
      "\n",
      "F-beta score (beta=1.75): 0.6609268169156748\n"
     ]
    }
   ],
   "source": [
    "# train report\n",
    "print(classification_report(y_train, y_train_pred))\n",
    "# f_beta score\n",
    "fbeta = fbeta_score(y_train, y_train_pred, beta=1.75)\n",
    "print(f\"F-beta score (beta=1.75): {fbeta}\")"
   ]
  },
  {
   "cell_type": "markdown",
   "id": "98ff7cc5-2160-4de3-9561-32684115d833",
   "metadata": {
    "id": "RT36u3v_RKat"
   },
   "source": [
    "**Evaluation de prédiction**"
   ]
  },
  {
   "cell_type": "code",
   "execution_count": 70,
   "id": "410ba4d4-8233-4e07-9323-126701b9f523",
   "metadata": {
    "colab": {
     "base_uri": "https://localhost:8080/"
    },
    "id": "IUS1SMWMQVju",
    "outputId": "41f9e552-38f8-4936-dd47-52711945aa54"
   },
   "outputs": [
    {
     "name": "stdout",
     "output_type": "stream",
     "text": [
      "              precision    recall  f1-score   support\n",
      "\n",
      "           0       0.70      0.86      0.77       874\n",
      "           1       0.71      0.47      0.57       627\n",
      "\n",
      "    accuracy                           0.70      1501\n",
      "   macro avg       0.70      0.67      0.67      1501\n",
      "weighted avg       0.70      0.70      0.69      1501\n",
      "\n",
      "F-beta score (beta=1.75): 0.516466465127478\n"
     ]
    }
   ],
   "source": [
    "# test set\n",
    "print(classification_report(y_test, best_dtcf_predicted.predict(X_test)))\n",
    "\n",
    "fbeta = fbeta_score(y_test, best_dtcf_predicted.predict(X_test), beta=1.75)\n",
    "print(f\"F-beta score (beta=1.75): {fbeta}\")"
   ]
  },
  {
   "cell_type": "code",
   "execution_count": 71,
   "id": "6ea89fc9-7ae5-466c-b777-055a72ed2970",
   "metadata": {},
   "outputs": [
    {
     "data": {
      "text/plain": [
       "['DecisionTree.pkl']"
      ]
     },
     "execution_count": 71,
     "metadata": {},
     "output_type": "execute_result"
    }
   ],
   "source": [
    "dump(best_dtcf_predicted, 'DecisionTree.pkl')"
   ]
  },
  {
   "cell_type": "markdown",
   "id": "6062c92f-1827-411b-a098-7b8d75644e52",
   "metadata": {},
   "source": [
    "# KNN Classifier"
   ]
  },
  {
   "cell_type": "markdown",
   "id": "8cf6db15-0ad1-4620-ad0c-e63ac3232da1",
   "metadata": {
    "id": "OYCaL_GkK075"
   },
   "source": [
    "**Définition du pipeline avec prétraitement**"
   ]
  },
  {
   "cell_type": "markdown",
   "id": "09f415b5-1d53-4191-b090-8efe82b9a8e7",
   "metadata": {},
   "source": [
    "### Construction du pipeline pour KNN Classifier"
   ]
  },
  {
   "cell_type": "code",
   "execution_count": 72,
   "id": "f1862e53-96e7-4d79-918a-58330e8e6658",
   "metadata": {
    "colab": {
     "base_uri": "https://localhost:8080/",
     "height": 158
    },
    "id": "lWCsCrl2_VGO",
    "outputId": "6aa5ba63-4f2e-4a73-f928-e98362baedde"
   },
   "outputs": [
    {
     "data": {
      "text/html": [
       "<style>#sk-container-id-15 {color: black;}#sk-container-id-15 pre{padding: 0;}#sk-container-id-15 div.sk-toggleable {background-color: white;}#sk-container-id-15 label.sk-toggleable__label {cursor: pointer;display: block;width: 100%;margin-bottom: 0;padding: 0.3em;box-sizing: border-box;text-align: center;}#sk-container-id-15 label.sk-toggleable__label-arrow:before {content: \"▸\";float: left;margin-right: 0.25em;color: #696969;}#sk-container-id-15 label.sk-toggleable__label-arrow:hover:before {color: black;}#sk-container-id-15 div.sk-estimator:hover label.sk-toggleable__label-arrow:before {color: black;}#sk-container-id-15 div.sk-toggleable__content {max-height: 0;max-width: 0;overflow: hidden;text-align: left;background-color: #f0f8ff;}#sk-container-id-15 div.sk-toggleable__content pre {margin: 0.2em;color: black;border-radius: 0.25em;background-color: #f0f8ff;}#sk-container-id-15 input.sk-toggleable__control:checked~div.sk-toggleable__content {max-height: 200px;max-width: 100%;overflow: auto;}#sk-container-id-15 input.sk-toggleable__control:checked~label.sk-toggleable__label-arrow:before {content: \"▾\";}#sk-container-id-15 div.sk-estimator input.sk-toggleable__control:checked~label.sk-toggleable__label {background-color: #d4ebff;}#sk-container-id-15 div.sk-label input.sk-toggleable__control:checked~label.sk-toggleable__label {background-color: #d4ebff;}#sk-container-id-15 input.sk-hidden--visually {border: 0;clip: rect(1px 1px 1px 1px);clip: rect(1px, 1px, 1px, 1px);height: 1px;margin: -1px;overflow: hidden;padding: 0;position: absolute;width: 1px;}#sk-container-id-15 div.sk-estimator {font-family: monospace;background-color: #f0f8ff;border: 1px dotted black;border-radius: 0.25em;box-sizing: border-box;margin-bottom: 0.5em;}#sk-container-id-15 div.sk-estimator:hover {background-color: #d4ebff;}#sk-container-id-15 div.sk-parallel-item::after {content: \"\";width: 100%;border-bottom: 1px solid gray;flex-grow: 1;}#sk-container-id-15 div.sk-label:hover label.sk-toggleable__label {background-color: #d4ebff;}#sk-container-id-15 div.sk-serial::before {content: \"\";position: absolute;border-left: 1px solid gray;box-sizing: border-box;top: 0;bottom: 0;left: 50%;z-index: 0;}#sk-container-id-15 div.sk-serial {display: flex;flex-direction: column;align-items: center;background-color: white;padding-right: 0.2em;padding-left: 0.2em;position: relative;}#sk-container-id-15 div.sk-item {position: relative;z-index: 1;}#sk-container-id-15 div.sk-parallel {display: flex;align-items: stretch;justify-content: center;background-color: white;position: relative;}#sk-container-id-15 div.sk-item::before, #sk-container-id-15 div.sk-parallel-item::before {content: \"\";position: absolute;border-left: 1px solid gray;box-sizing: border-box;top: 0;bottom: 0;left: 50%;z-index: -1;}#sk-container-id-15 div.sk-parallel-item {display: flex;flex-direction: column;z-index: 1;position: relative;background-color: white;}#sk-container-id-15 div.sk-parallel-item:first-child::after {align-self: flex-end;width: 50%;}#sk-container-id-15 div.sk-parallel-item:last-child::after {align-self: flex-start;width: 50%;}#sk-container-id-15 div.sk-parallel-item:only-child::after {width: 0;}#sk-container-id-15 div.sk-dashed-wrapped {border: 1px dashed gray;margin: 0 0.4em 0.5em 0.4em;box-sizing: border-box;padding-bottom: 0.4em;background-color: white;}#sk-container-id-15 div.sk-label label {font-family: monospace;font-weight: bold;display: inline-block;line-height: 1.2em;}#sk-container-id-15 div.sk-label-container {text-align: center;}#sk-container-id-15 div.sk-container {/* jupyter's `normalize.less` sets `[hidden] { display: none; }` but bootstrap.min.css set `[hidden] { display: none !important; }` so we also need the `!important` here to be able to override the default hidden behavior on the sphinx rendered scikit-learn.org. See: https://github.com/scikit-learn/scikit-learn/issues/21755 */display: inline-block !important;position: relative;}#sk-container-id-15 div.sk-text-repr-fallback {display: none;}</style><div id=\"sk-container-id-15\" class=\"sk-top-container\"><div class=\"sk-text-repr-fallback\"><pre>Pipeline(steps=[(&#x27;preprocessor&#x27;, TextPreprocessor()),\n",
       "                (&#x27;vectorizer&#x27;, VectorizerSelector_ok()),\n",
       "                (&#x27;classifier&#x27;, KNeighborsClassifier())])</pre><b>In a Jupyter environment, please rerun this cell to show the HTML representation or trust the notebook. <br />On GitHub, the HTML representation is unable to render, please try loading this page with nbviewer.org.</b></div><div class=\"sk-container\" hidden><div class=\"sk-item sk-dashed-wrapped\"><div class=\"sk-label-container\"><div class=\"sk-label sk-toggleable\"><input class=\"sk-toggleable__control sk-hidden--visually\" id=\"sk-estimator-id-54\" type=\"checkbox\" ><label for=\"sk-estimator-id-54\" class=\"sk-toggleable__label sk-toggleable__label-arrow\">Pipeline</label><div class=\"sk-toggleable__content\"><pre>Pipeline(steps=[(&#x27;preprocessor&#x27;, TextPreprocessor()),\n",
       "                (&#x27;vectorizer&#x27;, VectorizerSelector_ok()),\n",
       "                (&#x27;classifier&#x27;, KNeighborsClassifier())])</pre></div></div></div><div class=\"sk-serial\"><div class=\"sk-item\"><div class=\"sk-estimator sk-toggleable\"><input class=\"sk-toggleable__control sk-hidden--visually\" id=\"sk-estimator-id-55\" type=\"checkbox\" ><label for=\"sk-estimator-id-55\" class=\"sk-toggleable__label sk-toggleable__label-arrow\">TextPreprocessor</label><div class=\"sk-toggleable__content\"><pre>TextPreprocessor()</pre></div></div></div><div class=\"sk-item\"><div class=\"sk-estimator sk-toggleable\"><input class=\"sk-toggleable__control sk-hidden--visually\" id=\"sk-estimator-id-56\" type=\"checkbox\" ><label for=\"sk-estimator-id-56\" class=\"sk-toggleable__label sk-toggleable__label-arrow\">VectorizerSelector_ok</label><div class=\"sk-toggleable__content\"><pre>VectorizerSelector_ok()</pre></div></div></div><div class=\"sk-item\"><div class=\"sk-estimator sk-toggleable\"><input class=\"sk-toggleable__control sk-hidden--visually\" id=\"sk-estimator-id-57\" type=\"checkbox\" ><label for=\"sk-estimator-id-57\" class=\"sk-toggleable__label sk-toggleable__label-arrow\">KNeighborsClassifier</label><div class=\"sk-toggleable__content\"><pre>KNeighborsClassifier()</pre></div></div></div></div></div></div></div>"
      ],
      "text/plain": [
       "Pipeline(steps=[('preprocessor', TextPreprocessor()),\n",
       "                ('vectorizer', VectorizerSelector_ok()),\n",
       "                ('classifier', KNeighborsClassifier())])"
      ]
     },
     "execution_count": 72,
     "metadata": {},
     "output_type": "execute_result"
    }
   ],
   "source": [
    "KNN_pipe = Pipeline([\n",
    "        # Preprocessing\n",
    "        ('preprocessor', TextPreprocessor()),\n",
    "        # Vectorisation\n",
    "        ('vectorizer', VectorizerSelector_ok()),\n",
    "        # Le modèle de classification\n",
    "        ('classifier', KNeighborsClassifier()),  # DecisionTreeClassifier\n",
    "\n",
    "    ])\n",
    "\n",
    "KNN_pipe"
   ]
  },
  {
   "cell_type": "markdown",
   "id": "6999c717-0bc1-4a4d-9e2e-8950238d60cc",
   "metadata": {
    "id": "nc8ld2QYHYIj"
   },
   "source": [
    "### **Fiting & Performances**"
   ]
  },
  {
   "cell_type": "markdown",
   "id": "8e32d86a-2a37-4e74-bafe-5681590908a1",
   "metadata": {},
   "source": [
    "### Entrainement du modèle"
   ]
  },
  {
   "cell_type": "code",
   "execution_count": 73,
   "id": "b8bd12ba-ddcb-4c32-b316-8ccb17352175",
   "metadata": {
    "id": "p2jn3-iiHePv"
   },
   "outputs": [
    {
     "data": {
      "text/html": [
       "<style>#sk-container-id-16 {color: black;}#sk-container-id-16 pre{padding: 0;}#sk-container-id-16 div.sk-toggleable {background-color: white;}#sk-container-id-16 label.sk-toggleable__label {cursor: pointer;display: block;width: 100%;margin-bottom: 0;padding: 0.3em;box-sizing: border-box;text-align: center;}#sk-container-id-16 label.sk-toggleable__label-arrow:before {content: \"▸\";float: left;margin-right: 0.25em;color: #696969;}#sk-container-id-16 label.sk-toggleable__label-arrow:hover:before {color: black;}#sk-container-id-16 div.sk-estimator:hover label.sk-toggleable__label-arrow:before {color: black;}#sk-container-id-16 div.sk-toggleable__content {max-height: 0;max-width: 0;overflow: hidden;text-align: left;background-color: #f0f8ff;}#sk-container-id-16 div.sk-toggleable__content pre {margin: 0.2em;color: black;border-radius: 0.25em;background-color: #f0f8ff;}#sk-container-id-16 input.sk-toggleable__control:checked~div.sk-toggleable__content {max-height: 200px;max-width: 100%;overflow: auto;}#sk-container-id-16 input.sk-toggleable__control:checked~label.sk-toggleable__label-arrow:before {content: \"▾\";}#sk-container-id-16 div.sk-estimator input.sk-toggleable__control:checked~label.sk-toggleable__label {background-color: #d4ebff;}#sk-container-id-16 div.sk-label input.sk-toggleable__control:checked~label.sk-toggleable__label {background-color: #d4ebff;}#sk-container-id-16 input.sk-hidden--visually {border: 0;clip: rect(1px 1px 1px 1px);clip: rect(1px, 1px, 1px, 1px);height: 1px;margin: -1px;overflow: hidden;padding: 0;position: absolute;width: 1px;}#sk-container-id-16 div.sk-estimator {font-family: monospace;background-color: #f0f8ff;border: 1px dotted black;border-radius: 0.25em;box-sizing: border-box;margin-bottom: 0.5em;}#sk-container-id-16 div.sk-estimator:hover {background-color: #d4ebff;}#sk-container-id-16 div.sk-parallel-item::after {content: \"\";width: 100%;border-bottom: 1px solid gray;flex-grow: 1;}#sk-container-id-16 div.sk-label:hover label.sk-toggleable__label {background-color: #d4ebff;}#sk-container-id-16 div.sk-serial::before {content: \"\";position: absolute;border-left: 1px solid gray;box-sizing: border-box;top: 0;bottom: 0;left: 50%;z-index: 0;}#sk-container-id-16 div.sk-serial {display: flex;flex-direction: column;align-items: center;background-color: white;padding-right: 0.2em;padding-left: 0.2em;position: relative;}#sk-container-id-16 div.sk-item {position: relative;z-index: 1;}#sk-container-id-16 div.sk-parallel {display: flex;align-items: stretch;justify-content: center;background-color: white;position: relative;}#sk-container-id-16 div.sk-item::before, #sk-container-id-16 div.sk-parallel-item::before {content: \"\";position: absolute;border-left: 1px solid gray;box-sizing: border-box;top: 0;bottom: 0;left: 50%;z-index: -1;}#sk-container-id-16 div.sk-parallel-item {display: flex;flex-direction: column;z-index: 1;position: relative;background-color: white;}#sk-container-id-16 div.sk-parallel-item:first-child::after {align-self: flex-end;width: 50%;}#sk-container-id-16 div.sk-parallel-item:last-child::after {align-self: flex-start;width: 50%;}#sk-container-id-16 div.sk-parallel-item:only-child::after {width: 0;}#sk-container-id-16 div.sk-dashed-wrapped {border: 1px dashed gray;margin: 0 0.4em 0.5em 0.4em;box-sizing: border-box;padding-bottom: 0.4em;background-color: white;}#sk-container-id-16 div.sk-label label {font-family: monospace;font-weight: bold;display: inline-block;line-height: 1.2em;}#sk-container-id-16 div.sk-label-container {text-align: center;}#sk-container-id-16 div.sk-container {/* jupyter's `normalize.less` sets `[hidden] { display: none; }` but bootstrap.min.css set `[hidden] { display: none !important; }` so we also need the `!important` here to be able to override the default hidden behavior on the sphinx rendered scikit-learn.org. See: https://github.com/scikit-learn/scikit-learn/issues/21755 */display: inline-block !important;position: relative;}#sk-container-id-16 div.sk-text-repr-fallback {display: none;}</style><div id=\"sk-container-id-16\" class=\"sk-top-container\"><div class=\"sk-text-repr-fallback\"><pre>Pipeline(steps=[(&#x27;preprocessor&#x27;, TextPreprocessor()),\n",
       "                (&#x27;vectorizer&#x27;, VectorizerSelector_ok()),\n",
       "                (&#x27;classifier&#x27;, KNeighborsClassifier())])</pre><b>In a Jupyter environment, please rerun this cell to show the HTML representation or trust the notebook. <br />On GitHub, the HTML representation is unable to render, please try loading this page with nbviewer.org.</b></div><div class=\"sk-container\" hidden><div class=\"sk-item sk-dashed-wrapped\"><div class=\"sk-label-container\"><div class=\"sk-label sk-toggleable\"><input class=\"sk-toggleable__control sk-hidden--visually\" id=\"sk-estimator-id-58\" type=\"checkbox\" ><label for=\"sk-estimator-id-58\" class=\"sk-toggleable__label sk-toggleable__label-arrow\">Pipeline</label><div class=\"sk-toggleable__content\"><pre>Pipeline(steps=[(&#x27;preprocessor&#x27;, TextPreprocessor()),\n",
       "                (&#x27;vectorizer&#x27;, VectorizerSelector_ok()),\n",
       "                (&#x27;classifier&#x27;, KNeighborsClassifier())])</pre></div></div></div><div class=\"sk-serial\"><div class=\"sk-item\"><div class=\"sk-estimator sk-toggleable\"><input class=\"sk-toggleable__control sk-hidden--visually\" id=\"sk-estimator-id-59\" type=\"checkbox\" ><label for=\"sk-estimator-id-59\" class=\"sk-toggleable__label sk-toggleable__label-arrow\">TextPreprocessor</label><div class=\"sk-toggleable__content\"><pre>TextPreprocessor()</pre></div></div></div><div class=\"sk-item\"><div class=\"sk-estimator sk-toggleable\"><input class=\"sk-toggleable__control sk-hidden--visually\" id=\"sk-estimator-id-60\" type=\"checkbox\" ><label for=\"sk-estimator-id-60\" class=\"sk-toggleable__label sk-toggleable__label-arrow\">VectorizerSelector_ok</label><div class=\"sk-toggleable__content\"><pre>VectorizerSelector_ok()</pre></div></div></div><div class=\"sk-item\"><div class=\"sk-estimator sk-toggleable\"><input class=\"sk-toggleable__control sk-hidden--visually\" id=\"sk-estimator-id-61\" type=\"checkbox\" ><label for=\"sk-estimator-id-61\" class=\"sk-toggleable__label sk-toggleable__label-arrow\">KNeighborsClassifier</label><div class=\"sk-toggleable__content\"><pre>KNeighborsClassifier()</pre></div></div></div></div></div></div></div>"
      ],
      "text/plain": [
       "Pipeline(steps=[('preprocessor', TextPreprocessor()),\n",
       "                ('vectorizer', VectorizerSelector_ok()),\n",
       "                ('classifier', KNeighborsClassifier())])"
      ]
     },
     "execution_count": 73,
     "metadata": {},
     "output_type": "execute_result"
    }
   ],
   "source": [
    "KNN_pipe.fit(X_train, y_train)"
   ]
  },
  {
   "cell_type": "markdown",
   "id": "f5443dd1-9143-413e-8d3d-758ffb4c213f",
   "metadata": {},
   "source": [
    "Prédiction"
   ]
  },
  {
   "cell_type": "code",
   "execution_count": 74,
   "id": "bb6dc861-96f8-49a1-9fef-461737f698ef",
   "metadata": {},
   "outputs": [],
   "source": [
    "KNN_predicted = KNN_pipe.predict(X_test)"
   ]
  },
  {
   "cell_type": "code",
   "execution_count": 75,
   "id": "22fdd3db-fce3-42fd-9ffd-5d9da9fcd331",
   "metadata": {
    "colab": {
     "base_uri": "https://localhost:8080/",
     "height": 430
    },
    "id": "4m4Jx2qxIF7o",
    "outputId": "7bd8f310-93f7-474e-bd27-142a55c1c32a"
   },
   "outputs": [
    {
     "data": {
      "image/png": "[encoded data removed]",
      "text/plain": [
       "<Figure size 640x480 with 2 Axes>"
      ]
     },
     "metadata": {},
     "output_type": "display_data"
    }
   ],
   "source": [
    "# Matrice de confusion\n",
    "sns.heatmap(confusion_matrix(y_test, KNN_predicted, normalize=\"true\"),\n",
    "            annot=True, fmt='.2g', cmap=\"Greens\");"
   ]
  },
  {
   "cell_type": "code",
   "execution_count": 76,
   "id": "e8d2e15f-ab19-412a-b55e-fb93384e37cf",
   "metadata": {
    "colab": {
     "base_uri": "https://localhost:8080/"
    },
    "id": "D8nHY6VfIRKV",
    "outputId": "a4e6a4f4-02a3-4da2-c616-e14322d6eae7"
   },
   "outputs": [
    {
     "name": "stdout",
     "output_type": "stream",
     "text": [
      "              precision    recall  f1-score   support\n",
      "\n",
      "  nodisaster       0.74      0.70      0.72       874\n",
      "    disaster       0.61      0.66      0.63       627\n",
      "\n",
      "    accuracy                           0.68      1501\n",
      "   macro avg       0.67      0.68      0.67      1501\n",
      "weighted avg       0.68      0.68      0.68      1501\n",
      "\n",
      "F-beta score (beta=1.75): 0.6433783686149845\n"
     ]
    }
   ],
   "source": [
    "# Rapport de classification\n",
    "print(classification_report(y_test, KNN_predicted,\n",
    "                            target_names={\"nodisaster\" : 0, \"disaster\" : 1}))\n",
    "\n",
    "fbeta = fbeta_score(y_test, KNN_predicted, beta=1.75)\n",
    "print(f\"F-beta score (beta=1.75): {fbeta}\")"
   ]
  },
  {
   "cell_type": "markdown",
   "id": "fa3d333d-92b9-4993-9c3e-f63826a2ef46",
   "metadata": {
    "id": "UO1tzxKtIzqV"
   },
   "source": [
    "### **Optimisation du modèle**"
   ]
  },
  {
   "cell_type": "markdown",
   "id": "c65acae4-414a-4f3b-9740-d24a1268c404",
   "metadata": {
    "id": "c0TCnws5Y-3g"
   },
   "source": [
    "**Définition du pipeline sans prétraitement**"
   ]
  },
  {
   "cell_type": "code",
   "execution_count": 77,
   "id": "e3b6e43b-8b63-4a89-b06b-f7a987f87563",
   "metadata": {
    "colab": {
     "base_uri": "https://localhost:8080/",
     "height": 124
    },
    "id": "cOjcLzSwZJbz",
    "outputId": "7c890196-b96a-473a-a8b2-2c7c08802665"
   },
   "outputs": [
    {
     "data": {
      "text/html": [
       "<style>#sk-container-id-17 {color: black;}#sk-container-id-17 pre{padding: 0;}#sk-container-id-17 div.sk-toggleable {background-color: white;}#sk-container-id-17 label.sk-toggleable__label {cursor: pointer;display: block;width: 100%;margin-bottom: 0;padding: 0.3em;box-sizing: border-box;text-align: center;}#sk-container-id-17 label.sk-toggleable__label-arrow:before {content: \"▸\";float: left;margin-right: 0.25em;color: #696969;}#sk-container-id-17 label.sk-toggleable__label-arrow:hover:before {color: black;}#sk-container-id-17 div.sk-estimator:hover label.sk-toggleable__label-arrow:before {color: black;}#sk-container-id-17 div.sk-toggleable__content {max-height: 0;max-width: 0;overflow: hidden;text-align: left;background-color: #f0f8ff;}#sk-container-id-17 div.sk-toggleable__content pre {margin: 0.2em;color: black;border-radius: 0.25em;background-color: #f0f8ff;}#sk-container-id-17 input.sk-toggleable__control:checked~div.sk-toggleable__content {max-height: 200px;max-width: 100%;overflow: auto;}#sk-container-id-17 input.sk-toggleable__control:checked~label.sk-toggleable__label-arrow:before {content: \"▾\";}#sk-container-id-17 div.sk-estimator input.sk-toggleable__control:checked~label.sk-toggleable__label {background-color: #d4ebff;}#sk-container-id-17 div.sk-label input.sk-toggleable__control:checked~label.sk-toggleable__label {background-color: #d4ebff;}#sk-container-id-17 input.sk-hidden--visually {border: 0;clip: rect(1px 1px 1px 1px);clip: rect(1px, 1px, 1px, 1px);height: 1px;margin: -1px;overflow: hidden;padding: 0;position: absolute;width: 1px;}#sk-container-id-17 div.sk-estimator {font-family: monospace;background-color: #f0f8ff;border: 1px dotted black;border-radius: 0.25em;box-sizing: border-box;margin-bottom: 0.5em;}#sk-container-id-17 div.sk-estimator:hover {background-color: #d4ebff;}#sk-container-id-17 div.sk-parallel-item::after {content: \"\";width: 100%;border-bottom: 1px solid gray;flex-grow: 1;}#sk-container-id-17 div.sk-label:hover label.sk-toggleable__label {background-color: #d4ebff;}#sk-container-id-17 div.sk-serial::before {content: \"\";position: absolute;border-left: 1px solid gray;box-sizing: border-box;top: 0;bottom: 0;left: 50%;z-index: 0;}#sk-container-id-17 div.sk-serial {display: flex;flex-direction: column;align-items: center;background-color: white;padding-right: 0.2em;padding-left: 0.2em;position: relative;}#sk-container-id-17 div.sk-item {position: relative;z-index: 1;}#sk-container-id-17 div.sk-parallel {display: flex;align-items: stretch;justify-content: center;background-color: white;position: relative;}#sk-container-id-17 div.sk-item::before, #sk-container-id-17 div.sk-parallel-item::before {content: \"\";position: absolute;border-left: 1px solid gray;box-sizing: border-box;top: 0;bottom: 0;left: 50%;z-index: -1;}#sk-container-id-17 div.sk-parallel-item {display: flex;flex-direction: column;z-index: 1;position: relative;background-color: white;}#sk-container-id-17 div.sk-parallel-item:first-child::after {align-self: flex-end;width: 50%;}#sk-container-id-17 div.sk-parallel-item:last-child::after {align-self: flex-start;width: 50%;}#sk-container-id-17 div.sk-parallel-item:only-child::after {width: 0;}#sk-container-id-17 div.sk-dashed-wrapped {border: 1px dashed gray;margin: 0 0.4em 0.5em 0.4em;box-sizing: border-box;padding-bottom: 0.4em;background-color: white;}#sk-container-id-17 div.sk-label label {font-family: monospace;font-weight: bold;display: inline-block;line-height: 1.2em;}#sk-container-id-17 div.sk-label-container {text-align: center;}#sk-container-id-17 div.sk-container {/* jupyter's `normalize.less` sets `[hidden] { display: none; }` but bootstrap.min.css set `[hidden] { display: none !important; }` so we also need the `!important` here to be able to override the default hidden behavior on the sphinx rendered scikit-learn.org. See: https://github.com/scikit-learn/scikit-learn/issues/21755 */display: inline-block !important;position: relative;}#sk-container-id-17 div.sk-text-repr-fallback {display: none;}</style><div id=\"sk-container-id-17\" class=\"sk-top-container\"><div class=\"sk-text-repr-fallback\"><pre>Pipeline(steps=[(&#x27;vectorizer&#x27;, VectorizerSelector_ok()),\n",
       "                (&#x27;classifier&#x27;, KNeighborsClassifier())])</pre><b>In a Jupyter environment, please rerun this cell to show the HTML representation or trust the notebook. <br />On GitHub, the HTML representation is unable to render, please try loading this page with nbviewer.org.</b></div><div class=\"sk-container\" hidden><div class=\"sk-item sk-dashed-wrapped\"><div class=\"sk-label-container\"><div class=\"sk-label sk-toggleable\"><input class=\"sk-toggleable__control sk-hidden--visually\" id=\"sk-estimator-id-62\" type=\"checkbox\" ><label for=\"sk-estimator-id-62\" class=\"sk-toggleable__label sk-toggleable__label-arrow\">Pipeline</label><div class=\"sk-toggleable__content\"><pre>Pipeline(steps=[(&#x27;vectorizer&#x27;, VectorizerSelector_ok()),\n",
       "                (&#x27;classifier&#x27;, KNeighborsClassifier())])</pre></div></div></div><div class=\"sk-serial\"><div class=\"sk-item\"><div class=\"sk-estimator sk-toggleable\"><input class=\"sk-toggleable__control sk-hidden--visually\" id=\"sk-estimator-id-63\" type=\"checkbox\" ><label for=\"sk-estimator-id-63\" class=\"sk-toggleable__label sk-toggleable__label-arrow\">VectorizerSelector_ok</label><div class=\"sk-toggleable__content\"><pre>VectorizerSelector_ok()</pre></div></div></div><div class=\"sk-item\"><div class=\"sk-estimator sk-toggleable\"><input class=\"sk-toggleable__control sk-hidden--visually\" id=\"sk-estimator-id-64\" type=\"checkbox\" ><label for=\"sk-estimator-id-64\" class=\"sk-toggleable__label sk-toggleable__label-arrow\">KNeighborsClassifier</label><div class=\"sk-toggleable__content\"><pre>KNeighborsClassifier()</pre></div></div></div></div></div></div></div>"
      ],
      "text/plain": [
       "Pipeline(steps=[('vectorizer', VectorizerSelector_ok()),\n",
       "                ('classifier', KNeighborsClassifier())])"
      ]
     },
     "execution_count": 77,
     "metadata": {},
     "output_type": "execute_result"
    }
   ],
   "source": [
    "# Restricted Pipeline\n",
    "RPipeline_KNN = Pipeline([\n",
    "        ('vectorizer', VectorizerSelector_ok()),\n",
    "        ('classifier', KNeighborsClassifier())\n",
    "    ])\n",
    "\n",
    "RPipeline_KNN"
   ]
  },
  {
   "cell_type": "markdown",
   "id": "2123b842-c3db-4782-993c-58ff134e2029",
   "metadata": {
    "id": "4I9jGyAnLCEA"
   },
   "source": [
    "**Hyperparamètres**"
   ]
  },
  {
   "cell_type": "code",
   "execution_count": 78,
   "id": "23d741ea-be5d-4e7e-a5f2-4575c03cc4d4",
   "metadata": {
    "id": "BNMR8G07I7My"
   },
   "outputs": [],
   "source": [
    "grid_params = {\n",
    "    # vectorizer hyperparmeters\n",
    "    \"vectorizer__maxdf\": (1.0, 0.75, 0.8),\n",
    "    \"vectorizer__mindf\": (1.0, 0.01, 0.05),\n",
    "    'vectorizer__ngram_range': [(1, 1), (1, 2)],\n",
    "    # classifier hyperparameters\n",
    "    'classifier__n_neighbors' : (3, 5, 7),\n",
    "    'classifier__weights' : ('uniform', 'distance'),\n",
    "    'classifier__p' : (1, 2),\n",
    "    'classifier__leaf_size' : (10, 20, 30)\n",
    "}\n",
    "\n",
    "# Créons un scorer personnalisé pour F-beta avec beta=1.75\n",
    "fbeta_scorer = make_scorer(fbeta_score, beta=1.75, average='weighted')\n",
    "\n",
    "# Créons un StratifiedKFold\n",
    "skf = StratifiedKFold(n_splits=5, random_state=42, shuffle=True)\n",
    "\n",
    "# Effectuons la recherche par grille\n",
    "gs_KNN = GridSearchCV(RPipeline_KNN, grid_params, cv=skf, n_jobs=-1, verbose=1, scoring=fbeta_scorer)"
   ]
  },
  {
   "cell_type": "markdown",
   "id": "eecc0247-6499-4430-b20b-11f49006afcb",
   "metadata": {
    "id": "qj9W49vpQ3Kj"
   },
   "source": [
    "**Optimisation**"
   ]
  },
  {
   "cell_type": "code",
   "execution_count": 79,
   "id": "5baa9c7c-76c2-453c-a8a0-acdacee19d00",
   "metadata": {
    "colab": {
     "base_uri": "https://localhost:8080/"
    },
    "id": "svzskFuTM_Ki",
    "outputId": "d12375f5-fdd1-4952-ddb8-1317ea9e701c"
   },
   "outputs": [
    {
     "name": "stdout",
     "output_type": "stream",
     "text": [
      "Fitting 5 folds for each of 648 candidates, totalling 3240 fits\n",
      "CPU times: total: 41.9 s\n",
      "Wall time: 16min 14s\n"
     ]
    }
   ],
   "source": [
    "%%time\n",
    "gs_KNN = gs_KNN.fit(X_train, y_train)"
   ]
  },
  {
   "cell_type": "code",
   "execution_count": 80,
   "id": "79b3193e-74af-4f3d-b018-cc98002130f0",
   "metadata": {},
   "outputs": [
    {
     "name": "stdout",
     "output_type": "stream",
     "text": [
      "Best f_1.75 score: 0.7087123755598314\n",
      "\n",
      "Best parameters: \n",
      "{'classifier__leaf_size': 10, 'classifier__n_neighbors': 7, 'classifier__p': 2, 'classifier__weights': 'distance', 'vectorizer__maxdf': 1.0, 'vectorizer__mindf': 0.01, 'vectorizer__ngram_range': (1, 1)}\n"
     ]
    }
   ],
   "source": [
    "print(f\"Best f_1.75 score: {gs_KNN.best_score_}\")\n",
    "best_params = gs_KNN.best_params_\n",
    "print(f\"\\nBest parameters: \\n{best_params}\")"
   ]
  },
  {
   "cell_type": "markdown",
   "id": "de7e0643-21d4-4bb6-bcac-05022fffea8f",
   "metadata": {
    "id": "SQxrCefEQ7dQ"
   },
   "source": [
    "**Meilleur prédicteur**"
   ]
  },
  {
   "cell_type": "code",
   "execution_count": 81,
   "id": "9516eddf-d5d5-4bc0-86b8-c48d107ff855",
   "metadata": {
    "colab": {
     "base_uri": "https://localhost:8080/",
     "height": 124
    },
    "id": "xqv8zai5NC0r",
    "outputId": "2fd6d153-3feb-486c-dbd6-0bf66bafa5c5"
   },
   "outputs": [
    {
     "data": {
      "text/html": [
       "<style>#sk-container-id-18 {color: black;}#sk-container-id-18 pre{padding: 0;}#sk-container-id-18 div.sk-toggleable {background-color: white;}#sk-container-id-18 label.sk-toggleable__label {cursor: pointer;display: block;width: 100%;margin-bottom: 0;padding: 0.3em;box-sizing: border-box;text-align: center;}#sk-container-id-18 label.sk-toggleable__label-arrow:before {content: \"▸\";float: left;margin-right: 0.25em;color: #696969;}#sk-container-id-18 label.sk-toggleable__label-arrow:hover:before {color: black;}#sk-container-id-18 div.sk-estimator:hover label.sk-toggleable__label-arrow:before {color: black;}#sk-container-id-18 div.sk-toggleable__content {max-height: 0;max-width: 0;overflow: hidden;text-align: left;background-color: #f0f8ff;}#sk-container-id-18 div.sk-toggleable__content pre {margin: 0.2em;color: black;border-radius: 0.25em;background-color: #f0f8ff;}#sk-container-id-18 input.sk-toggleable__control:checked~div.sk-toggleable__content {max-height: 200px;max-width: 100%;overflow: auto;}#sk-container-id-18 input.sk-toggleable__control:checked~label.sk-toggleable__label-arrow:before {content: \"▾\";}#sk-container-id-18 div.sk-estimator input.sk-toggleable__control:checked~label.sk-toggleable__label {background-color: #d4ebff;}#sk-container-id-18 div.sk-label input.sk-toggleable__control:checked~label.sk-toggleable__label {background-color: #d4ebff;}#sk-container-id-18 input.sk-hidden--visually {border: 0;clip: rect(1px 1px 1px 1px);clip: rect(1px, 1px, 1px, 1px);height: 1px;margin: -1px;overflow: hidden;padding: 0;position: absolute;width: 1px;}#sk-container-id-18 div.sk-estimator {font-family: monospace;background-color: #f0f8ff;border: 1px dotted black;border-radius: 0.25em;box-sizing: border-box;margin-bottom: 0.5em;}#sk-container-id-18 div.sk-estimator:hover {background-color: #d4ebff;}#sk-container-id-18 div.sk-parallel-item::after {content: \"\";width: 100%;border-bottom: 1px solid gray;flex-grow: 1;}#sk-container-id-18 div.sk-label:hover label.sk-toggleable__label {background-color: #d4ebff;}#sk-container-id-18 div.sk-serial::before {content: \"\";position: absolute;border-left: 1px solid gray;box-sizing: border-box;top: 0;bottom: 0;left: 50%;z-index: 0;}#sk-container-id-18 div.sk-serial {display: flex;flex-direction: column;align-items: center;background-color: white;padding-right: 0.2em;padding-left: 0.2em;position: relative;}#sk-container-id-18 div.sk-item {position: relative;z-index: 1;}#sk-container-id-18 div.sk-parallel {display: flex;align-items: stretch;justify-content: center;background-color: white;position: relative;}#sk-container-id-18 div.sk-item::before, #sk-container-id-18 div.sk-parallel-item::before {content: \"\";position: absolute;border-left: 1px solid gray;box-sizing: border-box;top: 0;bottom: 0;left: 50%;z-index: -1;}#sk-container-id-18 div.sk-parallel-item {display: flex;flex-direction: column;z-index: 1;position: relative;background-color: white;}#sk-container-id-18 div.sk-parallel-item:first-child::after {align-self: flex-end;width: 50%;}#sk-container-id-18 div.sk-parallel-item:last-child::after {align-self: flex-start;width: 50%;}#sk-container-id-18 div.sk-parallel-item:only-child::after {width: 0;}#sk-container-id-18 div.sk-dashed-wrapped {border: 1px dashed gray;margin: 0 0.4em 0.5em 0.4em;box-sizing: border-box;padding-bottom: 0.4em;background-color: white;}#sk-container-id-18 div.sk-label label {font-family: monospace;font-weight: bold;display: inline-block;line-height: 1.2em;}#sk-container-id-18 div.sk-label-container {text-align: center;}#sk-container-id-18 div.sk-container {/* jupyter's `normalize.less` sets `[hidden] { display: none; }` but bootstrap.min.css set `[hidden] { display: none !important; }` so we also need the `!important` here to be able to override the default hidden behavior on the sphinx rendered scikit-learn.org. See: https://github.com/scikit-learn/scikit-learn/issues/21755 */display: inline-block !important;position: relative;}#sk-container-id-18 div.sk-text-repr-fallback {display: none;}</style><div id=\"sk-container-id-18\" class=\"sk-top-container\"><div class=\"sk-text-repr-fallback\"><pre>Pipeline(steps=[(&#x27;preprocessor&#x27;, TextPreprocessor()),\n",
       "                (&#x27;vectorizer&#x27;, VectorizerSelector_ok(maxdf=1.0)),\n",
       "                (&#x27;classifier&#x27;,\n",
       "                 KNeighborsClassifier(leaf_size=10, n_neighbors=7,\n",
       "                                      weights=&#x27;distance&#x27;))])</pre><b>In a Jupyter environment, please rerun this cell to show the HTML representation or trust the notebook. <br />On GitHub, the HTML representation is unable to render, please try loading this page with nbviewer.org.</b></div><div class=\"sk-container\" hidden><div class=\"sk-item sk-dashed-wrapped\"><div class=\"sk-label-container\"><div class=\"sk-label sk-toggleable\"><input class=\"sk-toggleable__control sk-hidden--visually\" id=\"sk-estimator-id-65\" type=\"checkbox\" ><label for=\"sk-estimator-id-65\" class=\"sk-toggleable__label sk-toggleable__label-arrow\">Pipeline</label><div class=\"sk-toggleable__content\"><pre>Pipeline(steps=[(&#x27;preprocessor&#x27;, TextPreprocessor()),\n",
       "                (&#x27;vectorizer&#x27;, VectorizerSelector_ok(maxdf=1.0)),\n",
       "                (&#x27;classifier&#x27;,\n",
       "                 KNeighborsClassifier(leaf_size=10, n_neighbors=7,\n",
       "                                      weights=&#x27;distance&#x27;))])</pre></div></div></div><div class=\"sk-serial\"><div class=\"sk-item\"><div class=\"sk-estimator sk-toggleable\"><input class=\"sk-toggleable__control sk-hidden--visually\" id=\"sk-estimator-id-66\" type=\"checkbox\" ><label for=\"sk-estimator-id-66\" class=\"sk-toggleable__label sk-toggleable__label-arrow\">TextPreprocessor</label><div class=\"sk-toggleable__content\"><pre>TextPreprocessor()</pre></div></div></div><div class=\"sk-item\"><div class=\"sk-estimator sk-toggleable\"><input class=\"sk-toggleable__control sk-hidden--visually\" id=\"sk-estimator-id-67\" type=\"checkbox\" ><label for=\"sk-estimator-id-67\" class=\"sk-toggleable__label sk-toggleable__label-arrow\">VectorizerSelector_ok</label><div class=\"sk-toggleable__content\"><pre>VectorizerSelector_ok(maxdf=1.0)</pre></div></div></div><div class=\"sk-item\"><div class=\"sk-estimator sk-toggleable\"><input class=\"sk-toggleable__control sk-hidden--visually\" id=\"sk-estimator-id-68\" type=\"checkbox\" ><label for=\"sk-estimator-id-68\" class=\"sk-toggleable__label sk-toggleable__label-arrow\">KNeighborsClassifier</label><div class=\"sk-toggleable__content\"><pre>KNeighborsClassifier(leaf_size=10, n_neighbors=7, weights=&#x27;distance&#x27;)</pre></div></div></div></div></div></div></div>"
      ],
      "text/plain": [
       "Pipeline(steps=[('preprocessor', TextPreprocessor()),\n",
       "                ('vectorizer', VectorizerSelector_ok(maxdf=1.0)),\n",
       "                ('classifier',\n",
       "                 KNeighborsClassifier(leaf_size=10, n_neighbors=7,\n",
       "                                      weights='distance'))])"
      ]
     },
     "execution_count": 81,
     "metadata": {},
     "output_type": "execute_result"
    }
   ],
   "source": [
    "best_KNN_predicted = Pipeline([\n",
    "    # Preprocessing\n",
    "    ('preprocessor', TextPreprocessor()),\n",
    "    # Vectorisation\n",
    "    ('vectorizer', VectorizerSelector_ok(\n",
    "        maxdf=best_params.get(\"vectorizer__maxdf\"),\n",
    "        mindf=best_params.get(\"vectorizer__mindf\"),\n",
    "        ngram_range=best_params.get(\"vectorizer__ngram_range\"),\n",
    "        stopwords=best_params.get(\"vectorizer__stopwords\") \n",
    "    )),\n",
    "    # Le modèle de classification\n",
    "    ('classifier', KNeighborsClassifier(\n",
    "                                         n_neighbors=best_params.get(\"classifier__n_neighbors\"),\n",
    "                                         weights = best_params.get(\"classifier__weights\"),\n",
    "                                         p = best_params.get(\"classifier__p\"),\n",
    "                                         leaf_size = best_params.get(\"classifier__leaf_size\")\n",
    "                                )),\n",
    "    ])\n",
    "best_KNN_predicted"
   ]
  },
  {
   "cell_type": "markdown",
   "id": "d89b7595-a712-48a8-9111-04ff83233235",
   "metadata": {},
   "source": [
    "### Reentrainement du modèle"
   ]
  },
  {
   "cell_type": "code",
   "execution_count": 82,
   "id": "55c49409-64af-4c00-8596-8619ba85b434",
   "metadata": {
    "colab": {
     "base_uri": "https://localhost:8080/"
    },
    "id": "J898c6TeQSeS",
    "outputId": "4d215788-d67a-4861-c381-3b81dbd98331"
   },
   "outputs": [],
   "source": [
    "# train prediction\n",
    "y_train_pred = best_KNN_predicted.fit(X_train, y_train).predict(X_train)"
   ]
  },
  {
   "cell_type": "markdown",
   "id": "26e06b89-f6a0-443e-8ea7-dec2d0d14c6c",
   "metadata": {
    "id": "d66AoTK2RCmp"
   },
   "source": [
    "**Evaluation d'apprentissage**"
   ]
  },
  {
   "cell_type": "code",
   "execution_count": 83,
   "id": "0497423a-d86e-442b-b5c3-d0fc65c25abf",
   "metadata": {},
   "outputs": [
    {
     "name": "stdout",
     "output_type": "stream",
     "text": [
      "              precision    recall  f1-score   support\n",
      "\n",
      "           0       0.96      0.94      0.95      3431\n",
      "           1       0.93      0.94      0.94      2571\n",
      "\n",
      "    accuracy                           0.94      6002\n",
      "   macro avg       0.94      0.94      0.94      6002\n",
      "weighted avg       0.94      0.94      0.94      6002\n",
      "\n",
      "F-beta score (beta=1.75): 0.940149046566627\n"
     ]
    }
   ],
   "source": [
    "# train report\n",
    "print(classification_report(y_train, y_train_pred))\n",
    "# f_beta score\n",
    "fbeta = fbeta_score(y_train, y_train_pred, beta=1.75)\n",
    "print(f\"F-beta score (beta=1.75): {fbeta}\")"
   ]
  },
  {
   "cell_type": "markdown",
   "id": "6db756c3-2a4a-41fe-83d0-1348d2f67b0e",
   "metadata": {
    "id": "RT36u3v_RKat"
   },
   "source": [
    "**Evaluation de prédiction**"
   ]
  },
  {
   "cell_type": "code",
   "execution_count": 84,
   "id": "c9081062-0dd8-48bb-a051-a4911aa0b524",
   "metadata": {
    "colab": {
     "base_uri": "https://localhost:8080/"
    },
    "id": "IUS1SMWMQVju",
    "outputId": "41f9e552-38f8-4936-dd47-52711945aa54"
   },
   "outputs": [
    {
     "name": "stdout",
     "output_type": "stream",
     "text": [
      "              precision    recall  f1-score   support\n",
      "\n",
      "           0       0.74      0.70      0.72       874\n",
      "           1       0.61      0.66      0.64       627\n",
      "\n",
      "    accuracy                           0.68      1501\n",
      "   macro avg       0.68      0.68      0.68      1501\n",
      "weighted avg       0.69      0.68      0.69      1501\n",
      "\n",
      "F-beta score (beta=1.75): 0.6480745610866266\n"
     ]
    }
   ],
   "source": [
    "# test set\n",
    "print(classification_report(y_test, best_KNN_predicted.predict(X_test)))\n",
    "\n",
    "fbeta = fbeta_score(y_test, best_KNN_predicted.predict(X_test), beta=1.75)\n",
    "print(f\"F-beta score (beta=1.75): {fbeta}\")"
   ]
  },
  {
   "cell_type": "code",
   "execution_count": 85,
   "id": "5265b43a-58d7-45c9-a339-0c72c5462678",
   "metadata": {},
   "outputs": [
    {
     "data": {
      "text/plain": [
       "['KNN.pkl']"
      ]
     },
     "execution_count": 85,
     "metadata": {},
     "output_type": "execute_result"
    }
   ],
   "source": [
    "dump(best_KNN_predicted, 'KNN.pkl')"
   ]
  },
  {
   "cell_type": "markdown",
   "id": "673634df-88bb-462b-bca7-c8ba14482ee1",
   "metadata": {},
   "source": [
    "# Perceptron classifier"
   ]
  },
  {
   "cell_type": "markdown",
   "id": "5d4d5d02-2177-4b1a-b083-8685f611dbb7",
   "metadata": {
    "id": "OYCaL_GkK075"
   },
   "source": [
    "**Définition du pipeline avec prétraitement**"
   ]
  },
  {
   "cell_type": "markdown",
   "id": "01f2040c-1720-4191-bf89-535a87abe001",
   "metadata": {},
   "source": [
    "### Construction du pipeline pour Perceptron classifier"
   ]
  },
  {
   "cell_type": "code",
   "execution_count": 86,
   "id": "98443ab5-fc1b-43b9-9742-94859997cf1e",
   "metadata": {
    "colab": {
     "base_uri": "https://localhost:8080/",
     "height": 158
    },
    "id": "lWCsCrl2_VGO",
    "outputId": "6aa5ba63-4f2e-4a73-f928-e98362baedde"
   },
   "outputs": [
    {
     "data": {
      "text/html": [
       "<style>#sk-container-id-19 {color: black;}#sk-container-id-19 pre{padding: 0;}#sk-container-id-19 div.sk-toggleable {background-color: white;}#sk-container-id-19 label.sk-toggleable__label {cursor: pointer;display: block;width: 100%;margin-bottom: 0;padding: 0.3em;box-sizing: border-box;text-align: center;}#sk-container-id-19 label.sk-toggleable__label-arrow:before {content: \"▸\";float: left;margin-right: 0.25em;color: #696969;}#sk-container-id-19 label.sk-toggleable__label-arrow:hover:before {color: black;}#sk-container-id-19 div.sk-estimator:hover label.sk-toggleable__label-arrow:before {color: black;}#sk-container-id-19 div.sk-toggleable__content {max-height: 0;max-width: 0;overflow: hidden;text-align: left;background-color: #f0f8ff;}#sk-container-id-19 div.sk-toggleable__content pre {margin: 0.2em;color: black;border-radius: 0.25em;background-color: #f0f8ff;}#sk-container-id-19 input.sk-toggleable__control:checked~div.sk-toggleable__content {max-height: 200px;max-width: 100%;overflow: auto;}#sk-container-id-19 input.sk-toggleable__control:checked~label.sk-toggleable__label-arrow:before {content: \"▾\";}#sk-container-id-19 div.sk-estimator input.sk-toggleable__control:checked~label.sk-toggleable__label {background-color: #d4ebff;}#sk-container-id-19 div.sk-label input.sk-toggleable__control:checked~label.sk-toggleable__label {background-color: #d4ebff;}#sk-container-id-19 input.sk-hidden--visually {border: 0;clip: rect(1px 1px 1px 1px);clip: rect(1px, 1px, 1px, 1px);height: 1px;margin: -1px;overflow: hidden;padding: 0;position: absolute;width: 1px;}#sk-container-id-19 div.sk-estimator {font-family: monospace;background-color: #f0f8ff;border: 1px dotted black;border-radius: 0.25em;box-sizing: border-box;margin-bottom: 0.5em;}#sk-container-id-19 div.sk-estimator:hover {background-color: #d4ebff;}#sk-container-id-19 div.sk-parallel-item::after {content: \"\";width: 100%;border-bottom: 1px solid gray;flex-grow: 1;}#sk-container-id-19 div.sk-label:hover label.sk-toggleable__label {background-color: #d4ebff;}#sk-container-id-19 div.sk-serial::before {content: \"\";position: absolute;border-left: 1px solid gray;box-sizing: border-box;top: 0;bottom: 0;left: 50%;z-index: 0;}#sk-container-id-19 div.sk-serial {display: flex;flex-direction: column;align-items: center;background-color: white;padding-right: 0.2em;padding-left: 0.2em;position: relative;}#sk-container-id-19 div.sk-item {position: relative;z-index: 1;}#sk-container-id-19 div.sk-parallel {display: flex;align-items: stretch;justify-content: center;background-color: white;position: relative;}#sk-container-id-19 div.sk-item::before, #sk-container-id-19 div.sk-parallel-item::before {content: \"\";position: absolute;border-left: 1px solid gray;box-sizing: border-box;top: 0;bottom: 0;left: 50%;z-index: -1;}#sk-container-id-19 div.sk-parallel-item {display: flex;flex-direction: column;z-index: 1;position: relative;background-color: white;}#sk-container-id-19 div.sk-parallel-item:first-child::after {align-self: flex-end;width: 50%;}#sk-container-id-19 div.sk-parallel-item:last-child::after {align-self: flex-start;width: 50%;}#sk-container-id-19 div.sk-parallel-item:only-child::after {width: 0;}#sk-container-id-19 div.sk-dashed-wrapped {border: 1px dashed gray;margin: 0 0.4em 0.5em 0.4em;box-sizing: border-box;padding-bottom: 0.4em;background-color: white;}#sk-container-id-19 div.sk-label label {font-family: monospace;font-weight: bold;display: inline-block;line-height: 1.2em;}#sk-container-id-19 div.sk-label-container {text-align: center;}#sk-container-id-19 div.sk-container {/* jupyter's `normalize.less` sets `[hidden] { display: none; }` but bootstrap.min.css set `[hidden] { display: none !important; }` so we also need the `!important` here to be able to override the default hidden behavior on the sphinx rendered scikit-learn.org. See: https://github.com/scikit-learn/scikit-learn/issues/21755 */display: inline-block !important;position: relative;}#sk-container-id-19 div.sk-text-repr-fallback {display: none;}</style><div id=\"sk-container-id-19\" class=\"sk-top-container\"><div class=\"sk-text-repr-fallback\"><pre>Pipeline(steps=[(&#x27;preprocessor&#x27;, TextPreprocessor()),\n",
       "                (&#x27;vectorizer&#x27;, VectorizerSelector_ok()),\n",
       "                (&#x27;classifier&#x27;, Perceptron())])</pre><b>In a Jupyter environment, please rerun this cell to show the HTML representation or trust the notebook. <br />On GitHub, the HTML representation is unable to render, please try loading this page with nbviewer.org.</b></div><div class=\"sk-container\" hidden><div class=\"sk-item sk-dashed-wrapped\"><div class=\"sk-label-container\"><div class=\"sk-label sk-toggleable\"><input class=\"sk-toggleable__control sk-hidden--visually\" id=\"sk-estimator-id-69\" type=\"checkbox\" ><label for=\"sk-estimator-id-69\" class=\"sk-toggleable__label sk-toggleable__label-arrow\">Pipeline</label><div class=\"sk-toggleable__content\"><pre>Pipeline(steps=[(&#x27;preprocessor&#x27;, TextPreprocessor()),\n",
       "                (&#x27;vectorizer&#x27;, VectorizerSelector_ok()),\n",
       "                (&#x27;classifier&#x27;, Perceptron())])</pre></div></div></div><div class=\"sk-serial\"><div class=\"sk-item\"><div class=\"sk-estimator sk-toggleable\"><input class=\"sk-toggleable__control sk-hidden--visually\" id=\"sk-estimator-id-70\" type=\"checkbox\" ><label for=\"sk-estimator-id-70\" class=\"sk-toggleable__label sk-toggleable__label-arrow\">TextPreprocessor</label><div class=\"sk-toggleable__content\"><pre>TextPreprocessor()</pre></div></div></div><div class=\"sk-item\"><div class=\"sk-estimator sk-toggleable\"><input class=\"sk-toggleable__control sk-hidden--visually\" id=\"sk-estimator-id-71\" type=\"checkbox\" ><label for=\"sk-estimator-id-71\" class=\"sk-toggleable__label sk-toggleable__label-arrow\">VectorizerSelector_ok</label><div class=\"sk-toggleable__content\"><pre>VectorizerSelector_ok()</pre></div></div></div><div class=\"sk-item\"><div class=\"sk-estimator sk-toggleable\"><input class=\"sk-toggleable__control sk-hidden--visually\" id=\"sk-estimator-id-72\" type=\"checkbox\" ><label for=\"sk-estimator-id-72\" class=\"sk-toggleable__label sk-toggleable__label-arrow\">Perceptron</label><div class=\"sk-toggleable__content\"><pre>Perceptron()</pre></div></div></div></div></div></div></div>"
      ],
      "text/plain": [
       "Pipeline(steps=[('preprocessor', TextPreprocessor()),\n",
       "                ('vectorizer', VectorizerSelector_ok()),\n",
       "                ('classifier', Perceptron())])"
      ]
     },
     "execution_count": 86,
     "metadata": {},
     "output_type": "execute_result"
    }
   ],
   "source": [
    "PC_pipe = Pipeline([\n",
    "        # Preprocessing\n",
    "        ('preprocessor', TextPreprocessor()),\n",
    "        # Vectorisation\n",
    "        ('vectorizer', VectorizerSelector_ok()),\n",
    "        # Le modèle de classification\n",
    "        ('classifier', Perceptron()),  # DecisionTreeClassifier\n",
    "\n",
    "    ])\n",
    "\n",
    "PC_pipe"
   ]
  },
  {
   "cell_type": "markdown",
   "id": "bcae0045-3967-4ed8-9209-7dfdd8ff60e3",
   "metadata": {
    "id": "nc8ld2QYHYIj"
   },
   "source": [
    "### **Fiting & Performances**"
   ]
  },
  {
   "cell_type": "markdown",
   "id": "3f5b5f18-41e3-4338-8289-cd3e821884f2",
   "metadata": {},
   "source": [
    "### Entrainement du modèle"
   ]
  },
  {
   "cell_type": "code",
   "execution_count": 87,
   "id": "8f0246b3-5ae4-4271-b8f8-c97451136068",
   "metadata": {
    "id": "p2jn3-iiHePv"
   },
   "outputs": [
    {
     "data": {
      "text/html": [
       "<style>#sk-container-id-20 {color: black;}#sk-container-id-20 pre{padding: 0;}#sk-container-id-20 div.sk-toggleable {background-color: white;}#sk-container-id-20 label.sk-toggleable__label {cursor: pointer;display: block;width: 100%;margin-bottom: 0;padding: 0.3em;box-sizing: border-box;text-align: center;}#sk-container-id-20 label.sk-toggleable__label-arrow:before {content: \"▸\";float: left;margin-right: 0.25em;color: #696969;}#sk-container-id-20 label.sk-toggleable__label-arrow:hover:before {color: black;}#sk-container-id-20 div.sk-estimator:hover label.sk-toggleable__label-arrow:before {color: black;}#sk-container-id-20 div.sk-toggleable__content {max-height: 0;max-width: 0;overflow: hidden;text-align: left;background-color: #f0f8ff;}#sk-container-id-20 div.sk-toggleable__content pre {margin: 0.2em;color: black;border-radius: 0.25em;background-color: #f0f8ff;}#sk-container-id-20 input.sk-toggleable__control:checked~div.sk-toggleable__content {max-height: 200px;max-width: 100%;overflow: auto;}#sk-container-id-20 input.sk-toggleable__control:checked~label.sk-toggleable__label-arrow:before {content: \"▾\";}#sk-container-id-20 div.sk-estimator input.sk-toggleable__control:checked~label.sk-toggleable__label {background-color: #d4ebff;}#sk-container-id-20 div.sk-label input.sk-toggleable__control:checked~label.sk-toggleable__label {background-color: #d4ebff;}#sk-container-id-20 input.sk-hidden--visually {border: 0;clip: rect(1px 1px 1px 1px);clip: rect(1px, 1px, 1px, 1px);height: 1px;margin: -1px;overflow: hidden;padding: 0;position: absolute;width: 1px;}#sk-container-id-20 div.sk-estimator {font-family: monospace;background-color: #f0f8ff;border: 1px dotted black;border-radius: 0.25em;box-sizing: border-box;margin-bottom: 0.5em;}#sk-container-id-20 div.sk-estimator:hover {background-color: #d4ebff;}#sk-container-id-20 div.sk-parallel-item::after {content: \"\";width: 100%;border-bottom: 1px solid gray;flex-grow: 1;}#sk-container-id-20 div.sk-label:hover label.sk-toggleable__label {background-color: #d4ebff;}#sk-container-id-20 div.sk-serial::before {content: \"\";position: absolute;border-left: 1px solid gray;box-sizing: border-box;top: 0;bottom: 0;left: 50%;z-index: 0;}#sk-container-id-20 div.sk-serial {display: flex;flex-direction: column;align-items: center;background-color: white;padding-right: 0.2em;padding-left: 0.2em;position: relative;}#sk-container-id-20 div.sk-item {position: relative;z-index: 1;}#sk-container-id-20 div.sk-parallel {display: flex;align-items: stretch;justify-content: center;background-color: white;position: relative;}#sk-container-id-20 div.sk-item::before, #sk-container-id-20 div.sk-parallel-item::before {content: \"\";position: absolute;border-left: 1px solid gray;box-sizing: border-box;top: 0;bottom: 0;left: 50%;z-index: -1;}#sk-container-id-20 div.sk-parallel-item {display: flex;flex-direction: column;z-index: 1;position: relative;background-color: white;}#sk-container-id-20 div.sk-parallel-item:first-child::after {align-self: flex-end;width: 50%;}#sk-container-id-20 div.sk-parallel-item:last-child::after {align-self: flex-start;width: 50%;}#sk-container-id-20 div.sk-parallel-item:only-child::after {width: 0;}#sk-container-id-20 div.sk-dashed-wrapped {border: 1px dashed gray;margin: 0 0.4em 0.5em 0.4em;box-sizing: border-box;padding-bottom: 0.4em;background-color: white;}#sk-container-id-20 div.sk-label label {font-family: monospace;font-weight: bold;display: inline-block;line-height: 1.2em;}#sk-container-id-20 div.sk-label-container {text-align: center;}#sk-container-id-20 div.sk-container {/* jupyter's `normalize.less` sets `[hidden] { display: none; }` but bootstrap.min.css set `[hidden] { display: none !important; }` so we also need the `!important` here to be able to override the default hidden behavior on the sphinx rendered scikit-learn.org. See: https://github.com/scikit-learn/scikit-learn/issues/21755 */display: inline-block !important;position: relative;}#sk-container-id-20 div.sk-text-repr-fallback {display: none;}</style><div id=\"sk-container-id-20\" class=\"sk-top-container\"><div class=\"sk-text-repr-fallback\"><pre>Pipeline(steps=[(&#x27;preprocessor&#x27;, TextPreprocessor()),\n",
       "                (&#x27;vectorizer&#x27;, VectorizerSelector_ok()),\n",
       "                (&#x27;classifier&#x27;, Perceptron())])</pre><b>In a Jupyter environment, please rerun this cell to show the HTML representation or trust the notebook. <br />On GitHub, the HTML representation is unable to render, please try loading this page with nbviewer.org.</b></div><div class=\"sk-container\" hidden><div class=\"sk-item sk-dashed-wrapped\"><div class=\"sk-label-container\"><div class=\"sk-label sk-toggleable\"><input class=\"sk-toggleable__control sk-hidden--visually\" id=\"sk-estimator-id-73\" type=\"checkbox\" ><label for=\"sk-estimator-id-73\" class=\"sk-toggleable__label sk-toggleable__label-arrow\">Pipeline</label><div class=\"sk-toggleable__content\"><pre>Pipeline(steps=[(&#x27;preprocessor&#x27;, TextPreprocessor()),\n",
       "                (&#x27;vectorizer&#x27;, VectorizerSelector_ok()),\n",
       "                (&#x27;classifier&#x27;, Perceptron())])</pre></div></div></div><div class=\"sk-serial\"><div class=\"sk-item\"><div class=\"sk-estimator sk-toggleable\"><input class=\"sk-toggleable__control sk-hidden--visually\" id=\"sk-estimator-id-74\" type=\"checkbox\" ><label for=\"sk-estimator-id-74\" class=\"sk-toggleable__label sk-toggleable__label-arrow\">TextPreprocessor</label><div class=\"sk-toggleable__content\"><pre>TextPreprocessor()</pre></div></div></div><div class=\"sk-item\"><div class=\"sk-estimator sk-toggleable\"><input class=\"sk-toggleable__control sk-hidden--visually\" id=\"sk-estimator-id-75\" type=\"checkbox\" ><label for=\"sk-estimator-id-75\" class=\"sk-toggleable__label sk-toggleable__label-arrow\">VectorizerSelector_ok</label><div class=\"sk-toggleable__content\"><pre>VectorizerSelector_ok()</pre></div></div></div><div class=\"sk-item\"><div class=\"sk-estimator sk-toggleable\"><input class=\"sk-toggleable__control sk-hidden--visually\" id=\"sk-estimator-id-76\" type=\"checkbox\" ><label for=\"sk-estimator-id-76\" class=\"sk-toggleable__label sk-toggleable__label-arrow\">Perceptron</label><div class=\"sk-toggleable__content\"><pre>Perceptron()</pre></div></div></div></div></div></div></div>"
      ],
      "text/plain": [
       "Pipeline(steps=[('preprocessor', TextPreprocessor()),\n",
       "                ('vectorizer', VectorizerSelector_ok()),\n",
       "                ('classifier', Perceptron())])"
      ]
     },
     "execution_count": 87,
     "metadata": {},
     "output_type": "execute_result"
    }
   ],
   "source": [
    "PC_pipe.fit(X_train, y_train)"
   ]
  },
  {
   "cell_type": "markdown",
   "id": "179fae6f-932a-4a60-af08-17b79a3f430a",
   "metadata": {},
   "source": [
    "Prédiction"
   ]
  },
  {
   "cell_type": "code",
   "execution_count": 88,
   "id": "cf2b1a8c-3db7-41de-9027-0762f8f2a153",
   "metadata": {},
   "outputs": [],
   "source": [
    "PC_predicted = PC_pipe.predict(X_test)"
   ]
  },
  {
   "cell_type": "code",
   "execution_count": 89,
   "id": "9262c110-f754-45b9-acbb-3f74bc29a35e",
   "metadata": {
    "colab": {
     "base_uri": "https://localhost:8080/",
     "height": 430
    },
    "id": "4m4Jx2qxIF7o",
    "outputId": "7bd8f310-93f7-474e-bd27-142a55c1c32a"
   },
   "outputs": [
    {
     "data": {
      "image/png": "[encoded data removed]",
      "text/plain": [
       "<Figure size 640x480 with 2 Axes>"
      ]
     },
     "metadata": {},
     "output_type": "display_data"
    }
   ],
   "source": [
    "# Matrice de confusion\n",
    "sns.heatmap(confusion_matrix(y_test, PC_predicted, normalize=\"true\"),\n",
    "            annot=True, fmt='.2g', cmap=\"Greens\");"
   ]
  },
  {
   "cell_type": "code",
   "execution_count": 90,
   "id": "302f200c-b48c-4f64-bbbf-421c55d9210e",
   "metadata": {
    "colab": {
     "base_uri": "https://localhost:8080/"
    },
    "id": "D8nHY6VfIRKV",
    "outputId": "a4e6a4f4-02a3-4da2-c616-e14322d6eae7"
   },
   "outputs": [
    {
     "name": "stdout",
     "output_type": "stream",
     "text": [
      "              precision    recall  f1-score   support\n",
      "\n",
      "  nodisaster       0.70      0.68      0.69       874\n",
      "    disaster       0.57      0.59      0.58       627\n",
      "\n",
      "    accuracy                           0.64      1501\n",
      "   macro avg       0.63      0.63      0.63      1501\n",
      "weighted avg       0.64      0.64      0.64      1501\n",
      "\n",
      "F-beta score (beta=1.75): 0.5818960274405819\n"
     ]
    }
   ],
   "source": [
    "# Rapport de classification\n",
    "print(classification_report(y_test, PC_predicted,\n",
    "                            target_names={\"nodisaster\" : 0, \"disaster\" : 1}))\n",
    "\n",
    "fbeta = fbeta_score(y_test, PC_predicted, beta=1.75)\n",
    "print(f\"F-beta score (beta=1.75): {fbeta}\")"
   ]
  },
  {
   "cell_type": "markdown",
   "id": "7993d8d5-56fe-4ff8-95df-6f455ff36cbe",
   "metadata": {
    "id": "UO1tzxKtIzqV"
   },
   "source": [
    "### **Optimisation du modèle**"
   ]
  },
  {
   "cell_type": "markdown",
   "id": "cee05d49-a531-401e-9449-49cb9d1f1619",
   "metadata": {
    "id": "c0TCnws5Y-3g"
   },
   "source": [
    "**Définition du pipeline sans prétraitement**"
   ]
  },
  {
   "cell_type": "code",
   "execution_count": 91,
   "id": "41d4dea6-a091-420e-9da5-c28b396c956e",
   "metadata": {
    "colab": {
     "base_uri": "https://localhost:8080/",
     "height": 124
    },
    "id": "cOjcLzSwZJbz",
    "outputId": "7c890196-b96a-473a-a8b2-2c7c08802665"
   },
   "outputs": [
    {
     "data": {
      "text/html": [
       "<style>#sk-container-id-21 {color: black;}#sk-container-id-21 pre{padding: 0;}#sk-container-id-21 div.sk-toggleable {background-color: white;}#sk-container-id-21 label.sk-toggleable__label {cursor: pointer;display: block;width: 100%;margin-bottom: 0;padding: 0.3em;box-sizing: border-box;text-align: center;}#sk-container-id-21 label.sk-toggleable__label-arrow:before {content: \"▸\";float: left;margin-right: 0.25em;color: #696969;}#sk-container-id-21 label.sk-toggleable__label-arrow:hover:before {color: black;}#sk-container-id-21 div.sk-estimator:hover label.sk-toggleable__label-arrow:before {color: black;}#sk-container-id-21 div.sk-toggleable__content {max-height: 0;max-width: 0;overflow: hidden;text-align: left;background-color: #f0f8ff;}#sk-container-id-21 div.sk-toggleable__content pre {margin: 0.2em;color: black;border-radius: 0.25em;background-color: #f0f8ff;}#sk-container-id-21 input.sk-toggleable__control:checked~div.sk-toggleable__content {max-height: 200px;max-width: 100%;overflow: auto;}#sk-container-id-21 input.sk-toggleable__control:checked~label.sk-toggleable__label-arrow:before {content: \"▾\";}#sk-container-id-21 div.sk-estimator input.sk-toggleable__control:checked~label.sk-toggleable__label {background-color: #d4ebff;}#sk-container-id-21 div.sk-label input.sk-toggleable__control:checked~label.sk-toggleable__label {background-color: #d4ebff;}#sk-container-id-21 input.sk-hidden--visually {border: 0;clip: rect(1px 1px 1px 1px);clip: rect(1px, 1px, 1px, 1px);height: 1px;margin: -1px;overflow: hidden;padding: 0;position: absolute;width: 1px;}#sk-container-id-21 div.sk-estimator {font-family: monospace;background-color: #f0f8ff;border: 1px dotted black;border-radius: 0.25em;box-sizing: border-box;margin-bottom: 0.5em;}#sk-container-id-21 div.sk-estimator:hover {background-color: #d4ebff;}#sk-container-id-21 div.sk-parallel-item::after {content: \"\";width: 100%;border-bottom: 1px solid gray;flex-grow: 1;}#sk-container-id-21 div.sk-label:hover label.sk-toggleable__label {background-color: #d4ebff;}#sk-container-id-21 div.sk-serial::before {content: \"\";position: absolute;border-left: 1px solid gray;box-sizing: border-box;top: 0;bottom: 0;left: 50%;z-index: 0;}#sk-container-id-21 div.sk-serial {display: flex;flex-direction: column;align-items: center;background-color: white;padding-right: 0.2em;padding-left: 0.2em;position: relative;}#sk-container-id-21 div.sk-item {position: relative;z-index: 1;}#sk-container-id-21 div.sk-parallel {display: flex;align-items: stretch;justify-content: center;background-color: white;position: relative;}#sk-container-id-21 div.sk-item::before, #sk-container-id-21 div.sk-parallel-item::before {content: \"\";position: absolute;border-left: 1px solid gray;box-sizing: border-box;top: 0;bottom: 0;left: 50%;z-index: -1;}#sk-container-id-21 div.sk-parallel-item {display: flex;flex-direction: column;z-index: 1;position: relative;background-color: white;}#sk-container-id-21 div.sk-parallel-item:first-child::after {align-self: flex-end;width: 50%;}#sk-container-id-21 div.sk-parallel-item:last-child::after {align-self: flex-start;width: 50%;}#sk-container-id-21 div.sk-parallel-item:only-child::after {width: 0;}#sk-container-id-21 div.sk-dashed-wrapped {border: 1px dashed gray;margin: 0 0.4em 0.5em 0.4em;box-sizing: border-box;padding-bottom: 0.4em;background-color: white;}#sk-container-id-21 div.sk-label label {font-family: monospace;font-weight: bold;display: inline-block;line-height: 1.2em;}#sk-container-id-21 div.sk-label-container {text-align: center;}#sk-container-id-21 div.sk-container {/* jupyter's `normalize.less` sets `[hidden] { display: none; }` but bootstrap.min.css set `[hidden] { display: none !important; }` so we also need the `!important` here to be able to override the default hidden behavior on the sphinx rendered scikit-learn.org. See: https://github.com/scikit-learn/scikit-learn/issues/21755 */display: inline-block !important;position: relative;}#sk-container-id-21 div.sk-text-repr-fallback {display: none;}</style><div id=\"sk-container-id-21\" class=\"sk-top-container\"><div class=\"sk-text-repr-fallback\"><pre>Pipeline(steps=[(&#x27;vectorizer&#x27;, VectorizerSelector_ok()),\n",
       "                (&#x27;classifier&#x27;, Perceptron())])</pre><b>In a Jupyter environment, please rerun this cell to show the HTML representation or trust the notebook. <br />On GitHub, the HTML representation is unable to render, please try loading this page with nbviewer.org.</b></div><div class=\"sk-container\" hidden><div class=\"sk-item sk-dashed-wrapped\"><div class=\"sk-label-container\"><div class=\"sk-label sk-toggleable\"><input class=\"sk-toggleable__control sk-hidden--visually\" id=\"sk-estimator-id-77\" type=\"checkbox\" ><label for=\"sk-estimator-id-77\" class=\"sk-toggleable__label sk-toggleable__label-arrow\">Pipeline</label><div class=\"sk-toggleable__content\"><pre>Pipeline(steps=[(&#x27;vectorizer&#x27;, VectorizerSelector_ok()),\n",
       "                (&#x27;classifier&#x27;, Perceptron())])</pre></div></div></div><div class=\"sk-serial\"><div class=\"sk-item\"><div class=\"sk-estimator sk-toggleable\"><input class=\"sk-toggleable__control sk-hidden--visually\" id=\"sk-estimator-id-78\" type=\"checkbox\" ><label for=\"sk-estimator-id-78\" class=\"sk-toggleable__label sk-toggleable__label-arrow\">VectorizerSelector_ok</label><div class=\"sk-toggleable__content\"><pre>VectorizerSelector_ok()</pre></div></div></div><div class=\"sk-item\"><div class=\"sk-estimator sk-toggleable\"><input class=\"sk-toggleable__control sk-hidden--visually\" id=\"sk-estimator-id-79\" type=\"checkbox\" ><label for=\"sk-estimator-id-79\" class=\"sk-toggleable__label sk-toggleable__label-arrow\">Perceptron</label><div class=\"sk-toggleable__content\"><pre>Perceptron()</pre></div></div></div></div></div></div></div>"
      ],
      "text/plain": [
       "Pipeline(steps=[('vectorizer', VectorizerSelector_ok()),\n",
       "                ('classifier', Perceptron())])"
      ]
     },
     "execution_count": 91,
     "metadata": {},
     "output_type": "execute_result"
    }
   ],
   "source": [
    "# Restricted Pipeline\n",
    "RPipeline_PC = Pipeline([\n",
    "        ('vectorizer', VectorizerSelector_ok()),\n",
    "        ('classifier', Perceptron()),\n",
    "    ])\n",
    "\n",
    "RPipeline_PC"
   ]
  },
  {
   "cell_type": "markdown",
   "id": "a6882b4d-5c95-4166-a501-71c50f9e3f96",
   "metadata": {
    "id": "4I9jGyAnLCEA"
   },
   "source": [
    "**Hyperparamètres**"
   ]
  },
  {
   "cell_type": "code",
   "execution_count": 92,
   "id": "65dfee20-dbdd-4cf3-848e-51c6bedb50ee",
   "metadata": {
    "id": "BNMR8G07I7My"
   },
   "outputs": [],
   "source": [
    "grid_params = {\n",
    "    # vectorizer hyperparmeters\n",
    "    \"vectorizer__maxdf\": (1.0, 0.75, 0.8),\n",
    "    \"vectorizer__mindf\": (1.0, 0.01, 0.05),\n",
    "    'vectorizer__ngram_range': [(1, 1), (1, 2)],\n",
    "    # classifier hyperparameters\n",
    "    'classifier__penalty' : ('l1','l2'),\n",
    "    'classifier__max_iter': (50, 100, 500), \n",
    "    'classifier__validation_fraction' : (0.01, 0.05, 0.1),\n",
    "    'classifier__n_iter_no_change' : (5, 7, 10),\n",
    "   \n",
    "}\n",
    "\n",
    "# Créons un scorer personnalisé pour F-beta avec beta=1.75\n",
    "fbeta_scorer = make_scorer(fbeta_score, beta=1.75, average='weighted')\n",
    "\n",
    "# Créons un StratifiedKFold\n",
    "skf = StratifiedKFold(n_splits=4, random_state=42, shuffle=True)\n",
    "\n",
    "# Effectuons la recherche par grille\n",
    "gs_PC = GridSearchCV(RPipeline_PC, grid_params, cv=skf, n_jobs=-1, verbose=1, scoring=fbeta_scorer)"
   ]
  },
  {
   "cell_type": "markdown",
   "id": "cd95b975-b7c0-45eb-a4be-083f9599bf9d",
   "metadata": {
    "id": "qj9W49vpQ3Kj"
   },
   "source": [
    "**Optimisation**"
   ]
  },
  {
   "cell_type": "code",
   "execution_count": 93,
   "id": "632a622e-a428-4109-a39d-ea5eec166ef3",
   "metadata": {
    "colab": {
     "base_uri": "https://localhost:8080/"
    },
    "id": "svzskFuTM_Ki",
    "outputId": "d12375f5-fdd1-4952-ddb8-1317ea9e701c"
   },
   "outputs": [
    {
     "name": "stdout",
     "output_type": "stream",
     "text": [
      "Fitting 4 folds for each of 972 candidates, totalling 3888 fits\n",
      "CPU times: total: 52 s\n",
      "Wall time: 11min 10s\n"
     ]
    }
   ],
   "source": [
    "%%time\n",
    "gs_PC = gs_PC.fit(X_train, y_train)"
   ]
  },
  {
   "cell_type": "code",
   "execution_count": 94,
   "id": "5c6517ed-2cc5-4c15-b361-42ecd7e18ce9",
   "metadata": {},
   "outputs": [
    {
     "name": "stdout",
     "output_type": "stream",
     "text": [
      "Best f_1.75 score: 0.669923967612384\n",
      "\n",
      "Best parameters: \n",
      "{'classifier__max_iter': 50, 'classifier__n_iter_no_change': 7, 'classifier__penalty': 'l1', 'classifier__validation_fraction': 0.01, 'vectorizer__maxdf': 1.0, 'vectorizer__mindf': 0.01, 'vectorizer__ngram_range': (1, 2)}\n"
     ]
    }
   ],
   "source": [
    "print(f\"Best f_1.75 score: {gs_PC.best_score_}\")\n",
    "best_params = gs_PC.best_params_\n",
    "print(f\"\\nBest parameters: \\n{best_params}\")"
   ]
  },
  {
   "cell_type": "markdown",
   "id": "ece4f310-7ece-454e-8019-b631b73cacdc",
   "metadata": {
    "id": "SQxrCefEQ7dQ"
   },
   "source": [
    "**Meilleur prédicteur**"
   ]
  },
  {
   "cell_type": "code",
   "execution_count": 95,
   "id": "f544277e-4d08-4569-a6bc-cd929718768e",
   "metadata": {
    "colab": {
     "base_uri": "https://localhost:8080/",
     "height": 124
    },
    "id": "xqv8zai5NC0r",
    "outputId": "2fd6d153-3feb-486c-dbd6-0bf66bafa5c5"
   },
   "outputs": [
    {
     "data": {
      "text/html": [
       "<style>#sk-container-id-22 {color: black;}#sk-container-id-22 pre{padding: 0;}#sk-container-id-22 div.sk-toggleable {background-color: white;}#sk-container-id-22 label.sk-toggleable__label {cursor: pointer;display: block;width: 100%;margin-bottom: 0;padding: 0.3em;box-sizing: border-box;text-align: center;}#sk-container-id-22 label.sk-toggleable__label-arrow:before {content: \"▸\";float: left;margin-right: 0.25em;color: #696969;}#sk-container-id-22 label.sk-toggleable__label-arrow:hover:before {color: black;}#sk-container-id-22 div.sk-estimator:hover label.sk-toggleable__label-arrow:before {color: black;}#sk-container-id-22 div.sk-toggleable__content {max-height: 0;max-width: 0;overflow: hidden;text-align: left;background-color: #f0f8ff;}#sk-container-id-22 div.sk-toggleable__content pre {margin: 0.2em;color: black;border-radius: 0.25em;background-color: #f0f8ff;}#sk-container-id-22 input.sk-toggleable__control:checked~div.sk-toggleable__content {max-height: 200px;max-width: 100%;overflow: auto;}#sk-container-id-22 input.sk-toggleable__control:checked~label.sk-toggleable__label-arrow:before {content: \"▾\";}#sk-container-id-22 div.sk-estimator input.sk-toggleable__control:checked~label.sk-toggleable__label {background-color: #d4ebff;}#sk-container-id-22 div.sk-label input.sk-toggleable__control:checked~label.sk-toggleable__label {background-color: #d4ebff;}#sk-container-id-22 input.sk-hidden--visually {border: 0;clip: rect(1px 1px 1px 1px);clip: rect(1px, 1px, 1px, 1px);height: 1px;margin: -1px;overflow: hidden;padding: 0;position: absolute;width: 1px;}#sk-container-id-22 div.sk-estimator {font-family: monospace;background-color: #f0f8ff;border: 1px dotted black;border-radius: 0.25em;box-sizing: border-box;margin-bottom: 0.5em;}#sk-container-id-22 div.sk-estimator:hover {background-color: #d4ebff;}#sk-container-id-22 div.sk-parallel-item::after {content: \"\";width: 100%;border-bottom: 1px solid gray;flex-grow: 1;}#sk-container-id-22 div.sk-label:hover label.sk-toggleable__label {background-color: #d4ebff;}#sk-container-id-22 div.sk-serial::before {content: \"\";position: absolute;border-left: 1px solid gray;box-sizing: border-box;top: 0;bottom: 0;left: 50%;z-index: 0;}#sk-container-id-22 div.sk-serial {display: flex;flex-direction: column;align-items: center;background-color: white;padding-right: 0.2em;padding-left: 0.2em;position: relative;}#sk-container-id-22 div.sk-item {position: relative;z-index: 1;}#sk-container-id-22 div.sk-parallel {display: flex;align-items: stretch;justify-content: center;background-color: white;position: relative;}#sk-container-id-22 div.sk-item::before, #sk-container-id-22 div.sk-parallel-item::before {content: \"\";position: absolute;border-left: 1px solid gray;box-sizing: border-box;top: 0;bottom: 0;left: 50%;z-index: -1;}#sk-container-id-22 div.sk-parallel-item {display: flex;flex-direction: column;z-index: 1;position: relative;background-color: white;}#sk-container-id-22 div.sk-parallel-item:first-child::after {align-self: flex-end;width: 50%;}#sk-container-id-22 div.sk-parallel-item:last-child::after {align-self: flex-start;width: 50%;}#sk-container-id-22 div.sk-parallel-item:only-child::after {width: 0;}#sk-container-id-22 div.sk-dashed-wrapped {border: 1px dashed gray;margin: 0 0.4em 0.5em 0.4em;box-sizing: border-box;padding-bottom: 0.4em;background-color: white;}#sk-container-id-22 div.sk-label label {font-family: monospace;font-weight: bold;display: inline-block;line-height: 1.2em;}#sk-container-id-22 div.sk-label-container {text-align: center;}#sk-container-id-22 div.sk-container {/* jupyter's `normalize.less` sets `[hidden] { display: none; }` but bootstrap.min.css set `[hidden] { display: none !important; }` so we also need the `!important` here to be able to override the default hidden behavior on the sphinx rendered scikit-learn.org. See: https://github.com/scikit-learn/scikit-learn/issues/21755 */display: inline-block !important;position: relative;}#sk-container-id-22 div.sk-text-repr-fallback {display: none;}</style><div id=\"sk-container-id-22\" class=\"sk-top-container\"><div class=\"sk-text-repr-fallback\"><pre>Pipeline(steps=[(&#x27;preprocessor&#x27;, TextPreprocessor()),\n",
       "                (&#x27;vectorizer&#x27;,\n",
       "                 VectorizerSelector_ok(maxdf=1.0, ngram_range=(1, 2))),\n",
       "                (&#x27;classifier&#x27;,\n",
       "                 Perceptron(max_iter=50, n_iter_no_change=7, penalty=&#x27;l1&#x27;,\n",
       "                            validation_fraction=0.01))])</pre><b>In a Jupyter environment, please rerun this cell to show the HTML representation or trust the notebook. <br />On GitHub, the HTML representation is unable to render, please try loading this page with nbviewer.org.</b></div><div class=\"sk-container\" hidden><div class=\"sk-item sk-dashed-wrapped\"><div class=\"sk-label-container\"><div class=\"sk-label sk-toggleable\"><input class=\"sk-toggleable__control sk-hidden--visually\" id=\"sk-estimator-id-80\" type=\"checkbox\" ><label for=\"sk-estimator-id-80\" class=\"sk-toggleable__label sk-toggleable__label-arrow\">Pipeline</label><div class=\"sk-toggleable__content\"><pre>Pipeline(steps=[(&#x27;preprocessor&#x27;, TextPreprocessor()),\n",
       "                (&#x27;vectorizer&#x27;,\n",
       "                 VectorizerSelector_ok(maxdf=1.0, ngram_range=(1, 2))),\n",
       "                (&#x27;classifier&#x27;,\n",
       "                 Perceptron(max_iter=50, n_iter_no_change=7, penalty=&#x27;l1&#x27;,\n",
       "                            validation_fraction=0.01))])</pre></div></div></div><div class=\"sk-serial\"><div class=\"sk-item\"><div class=\"sk-estimator sk-toggleable\"><input class=\"sk-toggleable__control sk-hidden--visually\" id=\"sk-estimator-id-81\" type=\"checkbox\" ><label for=\"sk-estimator-id-81\" class=\"sk-toggleable__label sk-toggleable__label-arrow\">TextPreprocessor</label><div class=\"sk-toggleable__content\"><pre>TextPreprocessor()</pre></div></div></div><div class=\"sk-item\"><div class=\"sk-estimator sk-toggleable\"><input class=\"sk-toggleable__control sk-hidden--visually\" id=\"sk-estimator-id-82\" type=\"checkbox\" ><label for=\"sk-estimator-id-82\" class=\"sk-toggleable__label sk-toggleable__label-arrow\">VectorizerSelector_ok</label><div class=\"sk-toggleable__content\"><pre>VectorizerSelector_ok(maxdf=1.0, ngram_range=(1, 2))</pre></div></div></div><div class=\"sk-item\"><div class=\"sk-estimator sk-toggleable\"><input class=\"sk-toggleable__control sk-hidden--visually\" id=\"sk-estimator-id-83\" type=\"checkbox\" ><label for=\"sk-estimator-id-83\" class=\"sk-toggleable__label sk-toggleable__label-arrow\">Perceptron</label><div class=\"sk-toggleable__content\"><pre>Perceptron(max_iter=50, n_iter_no_change=7, penalty=&#x27;l1&#x27;,\n",
       "           validation_fraction=0.01)</pre></div></div></div></div></div></div></div>"
      ],
      "text/plain": [
       "Pipeline(steps=[('preprocessor', TextPreprocessor()),\n",
       "                ('vectorizer',\n",
       "                 VectorizerSelector_ok(maxdf=1.0, ngram_range=(1, 2))),\n",
       "                ('classifier',\n",
       "                 Perceptron(max_iter=50, n_iter_no_change=7, penalty='l1',\n",
       "                            validation_fraction=0.01))])"
      ]
     },
     "execution_count": 95,
     "metadata": {},
     "output_type": "execute_result"
    }
   ],
   "source": [
    "best_PC_predicted = Pipeline([\n",
    "    # Preprocessing\n",
    "    ('preprocessor', TextPreprocessor()),\n",
    "    # Vectorisation\n",
    "    ('vectorizer', VectorizerSelector_ok(\n",
    "        maxdf=best_params.get(\"vectorizer__maxdf\"),\n",
    "        mindf=best_params.get(\"vectorizer__mindf\"),\n",
    "        ngram_range=best_params.get(\"vectorizer__ngram_range\"),\n",
    "        stopwords=best_params.get(\"vectorizer__stopwords\") \n",
    "    )),\n",
    "    # Le modèle de classification\n",
    "    ('classifier', Perceptron(\n",
    "        penalty= best_params.get(\"classifier__penalty\"),\n",
    "        max_iter = best_params.get(\"classifier__max_iter\"),\n",
    "        validation_fraction = best_params.get(\"classifier__validation_fraction\"),\n",
    "        n_iter_no_change= best_params.get(\"classifier__n_iter_no_change\")\n",
    "    )),  \n",
    "\n",
    "    ])\n",
    "best_PC_predicted"
   ]
  },
  {
   "cell_type": "markdown",
   "id": "a77691c0-6221-4ce4-85c0-dbc78569b895",
   "metadata": {},
   "source": [
    "### Reentrainement du modèle"
   ]
  },
  {
   "cell_type": "code",
   "execution_count": 96,
   "id": "b438f448-387f-4fb8-b984-6c94e163e113",
   "metadata": {
    "colab": {
     "base_uri": "https://localhost:8080/"
    },
    "id": "J898c6TeQSeS",
    "outputId": "4d215788-d67a-4861-c381-3b81dbd98331"
   },
   "outputs": [],
   "source": [
    "# train prediction\n",
    "y_train_pred = best_PC_predicted.fit(X_train, y_train).predict(X_train)"
   ]
  },
  {
   "cell_type": "markdown",
   "id": "9dec77bb-fa19-4341-b881-477b71fae7b9",
   "metadata": {
    "id": "d66AoTK2RCmp"
   },
   "source": [
    "**Evaluation d'apprentissage**"
   ]
  },
  {
   "cell_type": "code",
   "execution_count": 97,
   "id": "a27081b0-6a69-494c-86df-2e2df7916b48",
   "metadata": {},
   "outputs": [
    {
     "name": "stdout",
     "output_type": "stream",
     "text": [
      "              precision    recall  f1-score   support\n",
      "\n",
      "           0       0.68      0.84      0.75      3431\n",
      "           1       0.69      0.47      0.56      2571\n",
      "\n",
      "    accuracy                           0.68      6002\n",
      "   macro avg       0.68      0.66      0.66      6002\n",
      "weighted avg       0.68      0.68      0.67      6002\n",
      "\n",
      "F-beta score (beta=1.75): 0.5107814700175852\n"
     ]
    }
   ],
   "source": [
    "# train report\n",
    "print(classification_report(y_train, y_train_pred))\n",
    "# f_beta score\n",
    "fbeta = fbeta_score(y_train, y_train_pred, beta=1.75)\n",
    "print(f\"F-beta score (beta=1.75): {fbeta}\")"
   ]
  },
  {
   "cell_type": "markdown",
   "id": "a6ed2716-6d23-4065-b65e-d7c7d11527c4",
   "metadata": {
    "id": "RT36u3v_RKat"
   },
   "source": [
    "**Evaluation de prédiction**"
   ]
  },
  {
   "cell_type": "code",
   "execution_count": 98,
   "id": "68155324-d366-4f03-988d-a7039696abd2",
   "metadata": {
    "colab": {
     "base_uri": "https://localhost:8080/"
    },
    "id": "IUS1SMWMQVju",
    "outputId": "41f9e552-38f8-4936-dd47-52711945aa54"
   },
   "outputs": [
    {
     "name": "stdout",
     "output_type": "stream",
     "text": [
      "              precision    recall  f1-score   support\n",
      "\n",
      "           0       0.68      0.82      0.75       874\n",
      "           1       0.66      0.47      0.55       627\n",
      "\n",
      "    accuracy                           0.68      1501\n",
      "   macro avg       0.67      0.65      0.65      1501\n",
      "weighted avg       0.67      0.68      0.66      1501\n",
      "\n",
      "F-beta score (beta=1.75): 0.5060568472724394\n"
     ]
    }
   ],
   "source": [
    "# test set\n",
    "print(classification_report(y_test, best_PC_predicted.predict(X_test)))\n",
    "\n",
    "fbeta = fbeta_score(y_test, best_PC_predicted.predict(X_test), beta=1.75)\n",
    "print(f\"F-beta score (beta=1.75): {fbeta}\")"
   ]
  },
  {
   "cell_type": "code",
   "execution_count": 99,
   "id": "e2347816-de48-48b1-995b-ceba2e920af1",
   "metadata": {},
   "outputs": [
    {
     "data": {
      "text/plain": [
       "['PC.pkl']"
      ]
     },
     "execution_count": 99,
     "metadata": {},
     "output_type": "execute_result"
    }
   ],
   "source": [
    "dump(best_PC_predicted, 'PC.pkl')"
   ]
  },
  {
   "cell_type": "markdown",
   "id": "e6962748-4e40-4098-8068-caf225097dc5",
   "metadata": {},
   "source": [
    "# Perceptron multicouche"
   ]
  },
  {
   "cell_type": "markdown",
   "id": "a09232c7-81bf-426a-8cfb-f370c6fdc7d0",
   "metadata": {
    "id": "OYCaL_GkK075"
   },
   "source": [
    "**Définition du pipeline avec prétraitement**"
   ]
  },
  {
   "cell_type": "markdown",
   "id": "2ecd8fd3-f1b9-4f94-bf44-cee18a1e77c5",
   "metadata": {},
   "source": [
    "### Construction du pipeline pour MLPClassifier"
   ]
  },
  {
   "cell_type": "code",
   "execution_count": 100,
   "id": "bfdbc509-d2cb-4820-b981-5c542467d13b",
   "metadata": {
    "colab": {
     "base_uri": "https://localhost:8080/",
     "height": 158
    },
    "id": "lWCsCrl2_VGO",
    "outputId": "6aa5ba63-4f2e-4a73-f928-e98362baedde"
   },
   "outputs": [
    {
     "data": {
      "text/html": [
       "<style>#sk-container-id-23 {color: black;}#sk-container-id-23 pre{padding: 0;}#sk-container-id-23 div.sk-toggleable {background-color: white;}#sk-container-id-23 label.sk-toggleable__label {cursor: pointer;display: block;width: 100%;margin-bottom: 0;padding: 0.3em;box-sizing: border-box;text-align: center;}#sk-container-id-23 label.sk-toggleable__label-arrow:before {content: \"▸\";float: left;margin-right: 0.25em;color: #696969;}#sk-container-id-23 label.sk-toggleable__label-arrow:hover:before {color: black;}#sk-container-id-23 div.sk-estimator:hover label.sk-toggleable__label-arrow:before {color: black;}#sk-container-id-23 div.sk-toggleable__content {max-height: 0;max-width: 0;overflow: hidden;text-align: left;background-color: #f0f8ff;}#sk-container-id-23 div.sk-toggleable__content pre {margin: 0.2em;color: black;border-radius: 0.25em;background-color: #f0f8ff;}#sk-container-id-23 input.sk-toggleable__control:checked~div.sk-toggleable__content {max-height: 200px;max-width: 100%;overflow: auto;}#sk-container-id-23 input.sk-toggleable__control:checked~label.sk-toggleable__label-arrow:before {content: \"▾\";}#sk-container-id-23 div.sk-estimator input.sk-toggleable__control:checked~label.sk-toggleable__label {background-color: #d4ebff;}#sk-container-id-23 div.sk-label input.sk-toggleable__control:checked~label.sk-toggleable__label {background-color: #d4ebff;}#sk-container-id-23 input.sk-hidden--visually {border: 0;clip: rect(1px 1px 1px 1px);clip: rect(1px, 1px, 1px, 1px);height: 1px;margin: -1px;overflow: hidden;padding: 0;position: absolute;width: 1px;}#sk-container-id-23 div.sk-estimator {font-family: monospace;background-color: #f0f8ff;border: 1px dotted black;border-radius: 0.25em;box-sizing: border-box;margin-bottom: 0.5em;}#sk-container-id-23 div.sk-estimator:hover {background-color: #d4ebff;}#sk-container-id-23 div.sk-parallel-item::after {content: \"\";width: 100%;border-bottom: 1px solid gray;flex-grow: 1;}#sk-container-id-23 div.sk-label:hover label.sk-toggleable__label {background-color: #d4ebff;}#sk-container-id-23 div.sk-serial::before {content: \"\";position: absolute;border-left: 1px solid gray;box-sizing: border-box;top: 0;bottom: 0;left: 50%;z-index: 0;}#sk-container-id-23 div.sk-serial {display: flex;flex-direction: column;align-items: center;background-color: white;padding-right: 0.2em;padding-left: 0.2em;position: relative;}#sk-container-id-23 div.sk-item {position: relative;z-index: 1;}#sk-container-id-23 div.sk-parallel {display: flex;align-items: stretch;justify-content: center;background-color: white;position: relative;}#sk-container-id-23 div.sk-item::before, #sk-container-id-23 div.sk-parallel-item::before {content: \"\";position: absolute;border-left: 1px solid gray;box-sizing: border-box;top: 0;bottom: 0;left: 50%;z-index: -1;}#sk-container-id-23 div.sk-parallel-item {display: flex;flex-direction: column;z-index: 1;position: relative;background-color: white;}#sk-container-id-23 div.sk-parallel-item:first-child::after {align-self: flex-end;width: 50%;}#sk-container-id-23 div.sk-parallel-item:last-child::after {align-self: flex-start;width: 50%;}#sk-container-id-23 div.sk-parallel-item:only-child::after {width: 0;}#sk-container-id-23 div.sk-dashed-wrapped {border: 1px dashed gray;margin: 0 0.4em 0.5em 0.4em;box-sizing: border-box;padding-bottom: 0.4em;background-color: white;}#sk-container-id-23 div.sk-label label {font-family: monospace;font-weight: bold;display: inline-block;line-height: 1.2em;}#sk-container-id-23 div.sk-label-container {text-align: center;}#sk-container-id-23 div.sk-container {/* jupyter's `normalize.less` sets `[hidden] { display: none; }` but bootstrap.min.css set `[hidden] { display: none !important; }` so we also need the `!important` here to be able to override the default hidden behavior on the sphinx rendered scikit-learn.org. See: https://github.com/scikit-learn/scikit-learn/issues/21755 */display: inline-block !important;position: relative;}#sk-container-id-23 div.sk-text-repr-fallback {display: none;}</style><div id=\"sk-container-id-23\" class=\"sk-top-container\"><div class=\"sk-text-repr-fallback\"><pre>Pipeline(steps=[(&#x27;preprocessor&#x27;, TextPreprocessor()),\n",
       "                (&#x27;vectorizer&#x27;, VectorizerSelector_ok()),\n",
       "                (&#x27;classifier&#x27;, MLPClassifier())])</pre><b>In a Jupyter environment, please rerun this cell to show the HTML representation or trust the notebook. <br />On GitHub, the HTML representation is unable to render, please try loading this page with nbviewer.org.</b></div><div class=\"sk-container\" hidden><div class=\"sk-item sk-dashed-wrapped\"><div class=\"sk-label-container\"><div class=\"sk-label sk-toggleable\"><input class=\"sk-toggleable__control sk-hidden--visually\" id=\"sk-estimator-id-84\" type=\"checkbox\" ><label for=\"sk-estimator-id-84\" class=\"sk-toggleable__label sk-toggleable__label-arrow\">Pipeline</label><div class=\"sk-toggleable__content\"><pre>Pipeline(steps=[(&#x27;preprocessor&#x27;, TextPreprocessor()),\n",
       "                (&#x27;vectorizer&#x27;, VectorizerSelector_ok()),\n",
       "                (&#x27;classifier&#x27;, MLPClassifier())])</pre></div></div></div><div class=\"sk-serial\"><div class=\"sk-item\"><div class=\"sk-estimator sk-toggleable\"><input class=\"sk-toggleable__control sk-hidden--visually\" id=\"sk-estimator-id-85\" type=\"checkbox\" ><label for=\"sk-estimator-id-85\" class=\"sk-toggleable__label sk-toggleable__label-arrow\">TextPreprocessor</label><div class=\"sk-toggleable__content\"><pre>TextPreprocessor()</pre></div></div></div><div class=\"sk-item\"><div class=\"sk-estimator sk-toggleable\"><input class=\"sk-toggleable__control sk-hidden--visually\" id=\"sk-estimator-id-86\" type=\"checkbox\" ><label for=\"sk-estimator-id-86\" class=\"sk-toggleable__label sk-toggleable__label-arrow\">VectorizerSelector_ok</label><div class=\"sk-toggleable__content\"><pre>VectorizerSelector_ok()</pre></div></div></div><div class=\"sk-item\"><div class=\"sk-estimator sk-toggleable\"><input class=\"sk-toggleable__control sk-hidden--visually\" id=\"sk-estimator-id-87\" type=\"checkbox\" ><label for=\"sk-estimator-id-87\" class=\"sk-toggleable__label sk-toggleable__label-arrow\">MLPClassifier</label><div class=\"sk-toggleable__content\"><pre>MLPClassifier()</pre></div></div></div></div></div></div></div>"
      ],
      "text/plain": [
       "Pipeline(steps=[('preprocessor', TextPreprocessor()),\n",
       "                ('vectorizer', VectorizerSelector_ok()),\n",
       "                ('classifier', MLPClassifier())])"
      ]
     },
     "execution_count": 100,
     "metadata": {},
     "output_type": "execute_result"
    }
   ],
   "source": [
    "MLP_pipe = Pipeline([\n",
    "        # Preprocessing\n",
    "        ('preprocessor', TextPreprocessor()),\n",
    "        # Vectorisation\n",
    "        ('vectorizer', VectorizerSelector_ok()),\n",
    "        # Le modèle de classification\n",
    "        ('classifier',  MLPClassifier()),  # DecisionTreeClassifier\n",
    "\n",
    "    ])\n",
    "\n",
    "MLP_pipe"
   ]
  },
  {
   "cell_type": "markdown",
   "id": "7d321839-80b2-4451-aaa1-13965fa03a94",
   "metadata": {
    "id": "nc8ld2QYHYIj"
   },
   "source": [
    "### **Fiting & Performances**"
   ]
  },
  {
   "cell_type": "markdown",
   "id": "3918fdcb-ee75-4fea-ad29-06460c67f86c",
   "metadata": {},
   "source": [
    "### Entrainement du modèle"
   ]
  },
  {
   "cell_type": "code",
   "execution_count": 101,
   "id": "1a762aa7-331f-49d0-b474-9c32aaaa9fdc",
   "metadata": {
    "id": "p2jn3-iiHePv"
   },
   "outputs": [
    {
     "data": {
      "text/html": [
       "<style>#sk-container-id-24 {color: black;}#sk-container-id-24 pre{padding: 0;}#sk-container-id-24 div.sk-toggleable {background-color: white;}#sk-container-id-24 label.sk-toggleable__label {cursor: pointer;display: block;width: 100%;margin-bottom: 0;padding: 0.3em;box-sizing: border-box;text-align: center;}#sk-container-id-24 label.sk-toggleable__label-arrow:before {content: \"▸\";float: left;margin-right: 0.25em;color: #696969;}#sk-container-id-24 label.sk-toggleable__label-arrow:hover:before {color: black;}#sk-container-id-24 div.sk-estimator:hover label.sk-toggleable__label-arrow:before {color: black;}#sk-container-id-24 div.sk-toggleable__content {max-height: 0;max-width: 0;overflow: hidden;text-align: left;background-color: #f0f8ff;}#sk-container-id-24 div.sk-toggleable__content pre {margin: 0.2em;color: black;border-radius: 0.25em;background-color: #f0f8ff;}#sk-container-id-24 input.sk-toggleable__control:checked~div.sk-toggleable__content {max-height: 200px;max-width: 100%;overflow: auto;}#sk-container-id-24 input.sk-toggleable__control:checked~label.sk-toggleable__label-arrow:before {content: \"▾\";}#sk-container-id-24 div.sk-estimator input.sk-toggleable__control:checked~label.sk-toggleable__label {background-color: #d4ebff;}#sk-container-id-24 div.sk-label input.sk-toggleable__control:checked~label.sk-toggleable__label {background-color: #d4ebff;}#sk-container-id-24 input.sk-hidden--visually {border: 0;clip: rect(1px 1px 1px 1px);clip: rect(1px, 1px, 1px, 1px);height: 1px;margin: -1px;overflow: hidden;padding: 0;position: absolute;width: 1px;}#sk-container-id-24 div.sk-estimator {font-family: monospace;background-color: #f0f8ff;border: 1px dotted black;border-radius: 0.25em;box-sizing: border-box;margin-bottom: 0.5em;}#sk-container-id-24 div.sk-estimator:hover {background-color: #d4ebff;}#sk-container-id-24 div.sk-parallel-item::after {content: \"\";width: 100%;border-bottom: 1px solid gray;flex-grow: 1;}#sk-container-id-24 div.sk-label:hover label.sk-toggleable__label {background-color: #d4ebff;}#sk-container-id-24 div.sk-serial::before {content: \"\";position: absolute;border-left: 1px solid gray;box-sizing: border-box;top: 0;bottom: 0;left: 50%;z-index: 0;}#sk-container-id-24 div.sk-serial {display: flex;flex-direction: column;align-items: center;background-color: white;padding-right: 0.2em;padding-left: 0.2em;position: relative;}#sk-container-id-24 div.sk-item {position: relative;z-index: 1;}#sk-container-id-24 div.sk-parallel {display: flex;align-items: stretch;justify-content: center;background-color: white;position: relative;}#sk-container-id-24 div.sk-item::before, #sk-container-id-24 div.sk-parallel-item::before {content: \"\";position: absolute;border-left: 1px solid gray;box-sizing: border-box;top: 0;bottom: 0;left: 50%;z-index: -1;}#sk-container-id-24 div.sk-parallel-item {display: flex;flex-direction: column;z-index: 1;position: relative;background-color: white;}#sk-container-id-24 div.sk-parallel-item:first-child::after {align-self: flex-end;width: 50%;}#sk-container-id-24 div.sk-parallel-item:last-child::after {align-self: flex-start;width: 50%;}#sk-container-id-24 div.sk-parallel-item:only-child::after {width: 0;}#sk-container-id-24 div.sk-dashed-wrapped {border: 1px dashed gray;margin: 0 0.4em 0.5em 0.4em;box-sizing: border-box;padding-bottom: 0.4em;background-color: white;}#sk-container-id-24 div.sk-label label {font-family: monospace;font-weight: bold;display: inline-block;line-height: 1.2em;}#sk-container-id-24 div.sk-label-container {text-align: center;}#sk-container-id-24 div.sk-container {/* jupyter's `normalize.less` sets `[hidden] { display: none; }` but bootstrap.min.css set `[hidden] { display: none !important; }` so we also need the `!important` here to be able to override the default hidden behavior on the sphinx rendered scikit-learn.org. See: https://github.com/scikit-learn/scikit-learn/issues/21755 */display: inline-block !important;position: relative;}#sk-container-id-24 div.sk-text-repr-fallback {display: none;}</style><div id=\"sk-container-id-24\" class=\"sk-top-container\"><div class=\"sk-text-repr-fallback\"><pre>Pipeline(steps=[(&#x27;preprocessor&#x27;, TextPreprocessor()),\n",
       "                (&#x27;vectorizer&#x27;, VectorizerSelector_ok()),\n",
       "                (&#x27;classifier&#x27;, MLPClassifier())])</pre><b>In a Jupyter environment, please rerun this cell to show the HTML representation or trust the notebook. <br />On GitHub, the HTML representation is unable to render, please try loading this page with nbviewer.org.</b></div><div class=\"sk-container\" hidden><div class=\"sk-item sk-dashed-wrapped\"><div class=\"sk-label-container\"><div class=\"sk-label sk-toggleable\"><input class=\"sk-toggleable__control sk-hidden--visually\" id=\"sk-estimator-id-88\" type=\"checkbox\" ><label for=\"sk-estimator-id-88\" class=\"sk-toggleable__label sk-toggleable__label-arrow\">Pipeline</label><div class=\"sk-toggleable__content\"><pre>Pipeline(steps=[(&#x27;preprocessor&#x27;, TextPreprocessor()),\n",
       "                (&#x27;vectorizer&#x27;, VectorizerSelector_ok()),\n",
       "                (&#x27;classifier&#x27;, MLPClassifier())])</pre></div></div></div><div class=\"sk-serial\"><div class=\"sk-item\"><div class=\"sk-estimator sk-toggleable\"><input class=\"sk-toggleable__control sk-hidden--visually\" id=\"sk-estimator-id-89\" type=\"checkbox\" ><label for=\"sk-estimator-id-89\" class=\"sk-toggleable__label sk-toggleable__label-arrow\">TextPreprocessor</label><div class=\"sk-toggleable__content\"><pre>TextPreprocessor()</pre></div></div></div><div class=\"sk-item\"><div class=\"sk-estimator sk-toggleable\"><input class=\"sk-toggleable__control sk-hidden--visually\" id=\"sk-estimator-id-90\" type=\"checkbox\" ><label for=\"sk-estimator-id-90\" class=\"sk-toggleable__label sk-toggleable__label-arrow\">VectorizerSelector_ok</label><div class=\"sk-toggleable__content\"><pre>VectorizerSelector_ok()</pre></div></div></div><div class=\"sk-item\"><div class=\"sk-estimator sk-toggleable\"><input class=\"sk-toggleable__control sk-hidden--visually\" id=\"sk-estimator-id-91\" type=\"checkbox\" ><label for=\"sk-estimator-id-91\" class=\"sk-toggleable__label sk-toggleable__label-arrow\">MLPClassifier</label><div class=\"sk-toggleable__content\"><pre>MLPClassifier()</pre></div></div></div></div></div></div></div>"
      ],
      "text/plain": [
       "Pipeline(steps=[('preprocessor', TextPreprocessor()),\n",
       "                ('vectorizer', VectorizerSelector_ok()),\n",
       "                ('classifier', MLPClassifier())])"
      ]
     },
     "execution_count": 101,
     "metadata": {},
     "output_type": "execute_result"
    }
   ],
   "source": [
    "MLP_pipe.fit(X_train, y_train)"
   ]
  },
  {
   "cell_type": "markdown",
   "id": "d4c3455c-abfe-44b8-87eb-889474c69626",
   "metadata": {},
   "source": [
    "Prédiction"
   ]
  },
  {
   "cell_type": "code",
   "execution_count": 102,
   "id": "eba80c45-ab5e-4884-ad0f-aedfee8ef82e",
   "metadata": {},
   "outputs": [],
   "source": [
    "MLP_predicted = MLP_pipe.predict(X_test)"
   ]
  },
  {
   "cell_type": "code",
   "execution_count": 103,
   "id": "3b3c02ec-e979-478c-ad83-f641c65b2759",
   "metadata": {
    "colab": {
     "base_uri": "https://localhost:8080/",
     "height": 430
    },
    "id": "4m4Jx2qxIF7o",
    "outputId": "7bd8f310-93f7-474e-bd27-142a55c1c32a"
   },
   "outputs": [
    {
     "data": {
      "image/png": "[encoded data removed]",
      "text/plain": [
       "<Figure size 640x480 with 2 Axes>"
      ]
     },
     "metadata": {},
     "output_type": "display_data"
    }
   ],
   "source": [
    "# Matrice de confusion\n",
    "sns.heatmap(confusion_matrix(y_test, MLP_predicted, normalize=\"true\"),\n",
    "            annot=True, fmt='.2g', cmap=\"Greens\");"
   ]
  },
  {
   "cell_type": "code",
   "execution_count": 104,
   "id": "70f4e357-d1e4-42e0-9623-7890c9868ddb",
   "metadata": {
    "colab": {
     "base_uri": "https://localhost:8080/"
    },
    "id": "D8nHY6VfIRKV",
    "outputId": "a4e6a4f4-02a3-4da2-c616-e14322d6eae7"
   },
   "outputs": [
    {
     "name": "stdout",
     "output_type": "stream",
     "text": [
      "              precision    recall  f1-score   support\n",
      "\n",
      "  nodisaster       0.75      0.80      0.77       874\n",
      "    disaster       0.69      0.63      0.66       627\n",
      "\n",
      "    accuracy                           0.73      1501\n",
      "   macro avg       0.72      0.71      0.72      1501\n",
      "weighted avg       0.72      0.73      0.72      1501\n",
      "\n",
      "F-beta score (beta=1.75): 0.6436288887217669\n"
     ]
    }
   ],
   "source": [
    "# Rapport de classification\n",
    "print(classification_report(y_test, MLP_predicted,\n",
    "                            target_names={\"nodisaster\" : 0, \"disaster\" : 1}))\n",
    "\n",
    "fbeta = fbeta_score(y_test, MLP_predicted, beta=1.75)\n",
    "print(f\"F-beta score (beta=1.75): {fbeta}\")"
   ]
  },
  {
   "cell_type": "markdown",
   "id": "8feb3482-8d48-4231-bebf-4efdeb0b8931",
   "metadata": {
    "id": "UO1tzxKtIzqV"
   },
   "source": [
    "### **Optimisation du modèle**"
   ]
  },
  {
   "cell_type": "markdown",
   "id": "41f65911-3c68-48e9-8350-b783ea79428d",
   "metadata": {
    "id": "c0TCnws5Y-3g"
   },
   "source": [
    "**Définition du pipeline sans prétraitement**"
   ]
  },
  {
   "cell_type": "code",
   "execution_count": 105,
   "id": "672091af-e2ed-4460-8d83-73495b1f71dd",
   "metadata": {
    "colab": {
     "base_uri": "https://localhost:8080/",
     "height": 124
    },
    "id": "cOjcLzSwZJbz",
    "outputId": "7c890196-b96a-473a-a8b2-2c7c08802665"
   },
   "outputs": [
    {
     "data": {
      "text/html": [
       "<style>#sk-container-id-25 {color: black;}#sk-container-id-25 pre{padding: 0;}#sk-container-id-25 div.sk-toggleable {background-color: white;}#sk-container-id-25 label.sk-toggleable__label {cursor: pointer;display: block;width: 100%;margin-bottom: 0;padding: 0.3em;box-sizing: border-box;text-align: center;}#sk-container-id-25 label.sk-toggleable__label-arrow:before {content: \"▸\";float: left;margin-right: 0.25em;color: #696969;}#sk-container-id-25 label.sk-toggleable__label-arrow:hover:before {color: black;}#sk-container-id-25 div.sk-estimator:hover label.sk-toggleable__label-arrow:before {color: black;}#sk-container-id-25 div.sk-toggleable__content {max-height: 0;max-width: 0;overflow: hidden;text-align: left;background-color: #f0f8ff;}#sk-container-id-25 div.sk-toggleable__content pre {margin: 0.2em;color: black;border-radius: 0.25em;background-color: #f0f8ff;}#sk-container-id-25 input.sk-toggleable__control:checked~div.sk-toggleable__content {max-height: 200px;max-width: 100%;overflow: auto;}#sk-container-id-25 input.sk-toggleable__control:checked~label.sk-toggleable__label-arrow:before {content: \"▾\";}#sk-container-id-25 div.sk-estimator input.sk-toggleable__control:checked~label.sk-toggleable__label {background-color: #d4ebff;}#sk-container-id-25 div.sk-label input.sk-toggleable__control:checked~label.sk-toggleable__label {background-color: #d4ebff;}#sk-container-id-25 input.sk-hidden--visually {border: 0;clip: rect(1px 1px 1px 1px);clip: rect(1px, 1px, 1px, 1px);height: 1px;margin: -1px;overflow: hidden;padding: 0;position: absolute;width: 1px;}#sk-container-id-25 div.sk-estimator {font-family: monospace;background-color: #f0f8ff;border: 1px dotted black;border-radius: 0.25em;box-sizing: border-box;margin-bottom: 0.5em;}#sk-container-id-25 div.sk-estimator:hover {background-color: #d4ebff;}#sk-container-id-25 div.sk-parallel-item::after {content: \"\";width: 100%;border-bottom: 1px solid gray;flex-grow: 1;}#sk-container-id-25 div.sk-label:hover label.sk-toggleable__label {background-color: #d4ebff;}#sk-container-id-25 div.sk-serial::before {content: \"\";position: absolute;border-left: 1px solid gray;box-sizing: border-box;top: 0;bottom: 0;left: 50%;z-index: 0;}#sk-container-id-25 div.sk-serial {display: flex;flex-direction: column;align-items: center;background-color: white;padding-right: 0.2em;padding-left: 0.2em;position: relative;}#sk-container-id-25 div.sk-item {position: relative;z-index: 1;}#sk-container-id-25 div.sk-parallel {display: flex;align-items: stretch;justify-content: center;background-color: white;position: relative;}#sk-container-id-25 div.sk-item::before, #sk-container-id-25 div.sk-parallel-item::before {content: \"\";position: absolute;border-left: 1px solid gray;box-sizing: border-box;top: 0;bottom: 0;left: 50%;z-index: -1;}#sk-container-id-25 div.sk-parallel-item {display: flex;flex-direction: column;z-index: 1;position: relative;background-color: white;}#sk-container-id-25 div.sk-parallel-item:first-child::after {align-self: flex-end;width: 50%;}#sk-container-id-25 div.sk-parallel-item:last-child::after {align-self: flex-start;width: 50%;}#sk-container-id-25 div.sk-parallel-item:only-child::after {width: 0;}#sk-container-id-25 div.sk-dashed-wrapped {border: 1px dashed gray;margin: 0 0.4em 0.5em 0.4em;box-sizing: border-box;padding-bottom: 0.4em;background-color: white;}#sk-container-id-25 div.sk-label label {font-family: monospace;font-weight: bold;display: inline-block;line-height: 1.2em;}#sk-container-id-25 div.sk-label-container {text-align: center;}#sk-container-id-25 div.sk-container {/* jupyter's `normalize.less` sets `[hidden] { display: none; }` but bootstrap.min.css set `[hidden] { display: none !important; }` so we also need the `!important` here to be able to override the default hidden behavior on the sphinx rendered scikit-learn.org. See: https://github.com/scikit-learn/scikit-learn/issues/21755 */display: inline-block !important;position: relative;}#sk-container-id-25 div.sk-text-repr-fallback {display: none;}</style><div id=\"sk-container-id-25\" class=\"sk-top-container\"><div class=\"sk-text-repr-fallback\"><pre>Pipeline(steps=[(&#x27;vectorizer&#x27;, VectorizerSelector_ok()),\n",
       "                (&#x27;classifier&#x27;, MLPClassifier(random_state=42))])</pre><b>In a Jupyter environment, please rerun this cell to show the HTML representation or trust the notebook. <br />On GitHub, the HTML representation is unable to render, please try loading this page with nbviewer.org.</b></div><div class=\"sk-container\" hidden><div class=\"sk-item sk-dashed-wrapped\"><div class=\"sk-label-container\"><div class=\"sk-label sk-toggleable\"><input class=\"sk-toggleable__control sk-hidden--visually\" id=\"sk-estimator-id-92\" type=\"checkbox\" ><label for=\"sk-estimator-id-92\" class=\"sk-toggleable__label sk-toggleable__label-arrow\">Pipeline</label><div class=\"sk-toggleable__content\"><pre>Pipeline(steps=[(&#x27;vectorizer&#x27;, VectorizerSelector_ok()),\n",
       "                (&#x27;classifier&#x27;, MLPClassifier(random_state=42))])</pre></div></div></div><div class=\"sk-serial\"><div class=\"sk-item\"><div class=\"sk-estimator sk-toggleable\"><input class=\"sk-toggleable__control sk-hidden--visually\" id=\"sk-estimator-id-93\" type=\"checkbox\" ><label for=\"sk-estimator-id-93\" class=\"sk-toggleable__label sk-toggleable__label-arrow\">VectorizerSelector_ok</label><div class=\"sk-toggleable__content\"><pre>VectorizerSelector_ok()</pre></div></div></div><div class=\"sk-item\"><div class=\"sk-estimator sk-toggleable\"><input class=\"sk-toggleable__control sk-hidden--visually\" id=\"sk-estimator-id-94\" type=\"checkbox\" ><label for=\"sk-estimator-id-94\" class=\"sk-toggleable__label sk-toggleable__label-arrow\">MLPClassifier</label><div class=\"sk-toggleable__content\"><pre>MLPClassifier(random_state=42)</pre></div></div></div></div></div></div></div>"
      ],
      "text/plain": [
       "Pipeline(steps=[('vectorizer', VectorizerSelector_ok()),\n",
       "                ('classifier', MLPClassifier(random_state=42))])"
      ]
     },
     "execution_count": 105,
     "metadata": {},
     "output_type": "execute_result"
    }
   ],
   "source": [
    "# Restricted Pipeline\n",
    "RPipeline_MLP = Pipeline([\n",
    "        ('vectorizer', VectorizerSelector_ok()),\n",
    "        ('classifier', MLPClassifier(solver='adam', random_state = 42))\n",
    "    ])\n",
    "\n",
    "RPipeline_MLP"
   ]
  },
  {
   "cell_type": "markdown",
   "id": "ca085402-bdc4-42b9-a491-b2873e34cbdb",
   "metadata": {
    "id": "4I9jGyAnLCEA"
   },
   "source": [
    "**Hyperparamètres**"
   ]
  },
  {
   "cell_type": "code",
   "execution_count": 106,
   "id": "637dab71-6441-4c78-b280-9ec55b58010a",
   "metadata": {
    "id": "BNMR8G07I7My"
   },
   "outputs": [],
   "source": [
    "grid_params = {\n",
    "    \"vectorizer__mindf\": (0.05, 0.1),\n",
    "    'vectorizer__ngram_range': [(1, 1), (1, 2)],\n",
    "    'classifier__alpha': [0.0001,0.001,0.01],\n",
    "    'classifier__learning_rate_init': [0.005, 0.01, 0.05],\n",
    "    'classifier__learning_rate': ['constant', 'invscaling', 'adaptive'],\n",
    "}\n",
    "\n",
    "# Créons un scorer personnalisé pour F-beta avec beta=1.75\n",
    "fbeta_scorer = make_scorer(fbeta_score, beta=1.75, average='weighted')\n",
    "\n",
    "# Créons un StratifiedKFold\n",
    "skf = StratifiedKFold(n_splits=4, random_state=42, shuffle=True)\n",
    "\n",
    "# Effectuons la recherche par grille\n",
    "gs_MLP = GridSearchCV(RPipeline_MLP, grid_params, cv=skf, n_jobs=-1, verbose=1, scoring=fbeta_scorer)"
   ]
  },
  {
   "cell_type": "markdown",
   "id": "d9f1e1f3-7fe2-4e9c-ac9f-b4ba07863374",
   "metadata": {
    "id": "qj9W49vpQ3Kj"
   },
   "source": [
    "**Optimisation**"
   ]
  },
  {
   "cell_type": "code",
   "execution_count": 107,
   "id": "fb1721c4-c211-4b2e-bce9-065073854d50",
   "metadata": {
    "colab": {
     "base_uri": "https://localhost:8080/"
    },
    "id": "svzskFuTM_Ki",
    "outputId": "d12375f5-fdd1-4952-ddb8-1317ea9e701c"
   },
   "outputs": [
    {
     "name": "stdout",
     "output_type": "stream",
     "text": [
      "Fitting 4 folds for each of 108 candidates, totalling 432 fits\n",
      "CPU times: total: 17.2 s\n",
      "Wall time: 15min 9s\n"
     ]
    }
   ],
   "source": [
    "%%time\n",
    "gs_MLP = gs_MLP.fit(X_train, y_train)"
   ]
  },
  {
   "cell_type": "code",
   "execution_count": 108,
   "id": "c0919796-7a45-433d-850d-b3341b68fcfd",
   "metadata": {},
   "outputs": [
    {
     "name": "stdout",
     "output_type": "stream",
     "text": [
      "Best f_1.75 score: 0.6579680830150407\n",
      "\n",
      "Best parameters: \n",
      "{'classifier__alpha': 0.01, 'classifier__learning_rate': 'constant', 'classifier__learning_rate_init': 0.05, 'vectorizer__mindf': 0.05, 'vectorizer__ngram_range': (1, 2)}\n"
     ]
    }
   ],
   "source": [
    "print(f\"Best f_1.75 score: {gs_MLP.best_score_}\")\n",
    "best_params = gs_MLP.best_params_\n",
    "print(f\"\\nBest parameters: \\n{best_params}\")"
   ]
  },
  {
   "cell_type": "markdown",
   "id": "7df7c680-2d20-418f-a83f-4e20bae3b41c",
   "metadata": {
    "id": "SQxrCefEQ7dQ"
   },
   "source": [
    "**Meilleur prédicteur**"
   ]
  },
  {
   "cell_type": "code",
   "execution_count": 109,
   "id": "2ca534b2-d6b7-40f7-897f-217d304c1df0",
   "metadata": {
    "colab": {
     "base_uri": "https://localhost:8080/",
     "height": 124
    },
    "id": "xqv8zai5NC0r",
    "outputId": "2fd6d153-3feb-486c-dbd6-0bf66bafa5c5"
   },
   "outputs": [
    {
     "data": {
      "text/html": [
       "<style>#sk-container-id-26 {color: black;}#sk-container-id-26 pre{padding: 0;}#sk-container-id-26 div.sk-toggleable {background-color: white;}#sk-container-id-26 label.sk-toggleable__label {cursor: pointer;display: block;width: 100%;margin-bottom: 0;padding: 0.3em;box-sizing: border-box;text-align: center;}#sk-container-id-26 label.sk-toggleable__label-arrow:before {content: \"▸\";float: left;margin-right: 0.25em;color: #696969;}#sk-container-id-26 label.sk-toggleable__label-arrow:hover:before {color: black;}#sk-container-id-26 div.sk-estimator:hover label.sk-toggleable__label-arrow:before {color: black;}#sk-container-id-26 div.sk-toggleable__content {max-height: 0;max-width: 0;overflow: hidden;text-align: left;background-color: #f0f8ff;}#sk-container-id-26 div.sk-toggleable__content pre {margin: 0.2em;color: black;border-radius: 0.25em;background-color: #f0f8ff;}#sk-container-id-26 input.sk-toggleable__control:checked~div.sk-toggleable__content {max-height: 200px;max-width: 100%;overflow: auto;}#sk-container-id-26 input.sk-toggleable__control:checked~label.sk-toggleable__label-arrow:before {content: \"▾\";}#sk-container-id-26 div.sk-estimator input.sk-toggleable__control:checked~label.sk-toggleable__label {background-color: #d4ebff;}#sk-container-id-26 div.sk-label input.sk-toggleable__control:checked~label.sk-toggleable__label {background-color: #d4ebff;}#sk-container-id-26 input.sk-hidden--visually {border: 0;clip: rect(1px 1px 1px 1px);clip: rect(1px, 1px, 1px, 1px);height: 1px;margin: -1px;overflow: hidden;padding: 0;position: absolute;width: 1px;}#sk-container-id-26 div.sk-estimator {font-family: monospace;background-color: #f0f8ff;border: 1px dotted black;border-radius: 0.25em;box-sizing: border-box;margin-bottom: 0.5em;}#sk-container-id-26 div.sk-estimator:hover {background-color: #d4ebff;}#sk-container-id-26 div.sk-parallel-item::after {content: \"\";width: 100%;border-bottom: 1px solid gray;flex-grow: 1;}#sk-container-id-26 div.sk-label:hover label.sk-toggleable__label {background-color: #d4ebff;}#sk-container-id-26 div.sk-serial::before {content: \"\";position: absolute;border-left: 1px solid gray;box-sizing: border-box;top: 0;bottom: 0;left: 50%;z-index: 0;}#sk-container-id-26 div.sk-serial {display: flex;flex-direction: column;align-items: center;background-color: white;padding-right: 0.2em;padding-left: 0.2em;position: relative;}#sk-container-id-26 div.sk-item {position: relative;z-index: 1;}#sk-container-id-26 div.sk-parallel {display: flex;align-items: stretch;justify-content: center;background-color: white;position: relative;}#sk-container-id-26 div.sk-item::before, #sk-container-id-26 div.sk-parallel-item::before {content: \"\";position: absolute;border-left: 1px solid gray;box-sizing: border-box;top: 0;bottom: 0;left: 50%;z-index: -1;}#sk-container-id-26 div.sk-parallel-item {display: flex;flex-direction: column;z-index: 1;position: relative;background-color: white;}#sk-container-id-26 div.sk-parallel-item:first-child::after {align-self: flex-end;width: 50%;}#sk-container-id-26 div.sk-parallel-item:last-child::after {align-self: flex-start;width: 50%;}#sk-container-id-26 div.sk-parallel-item:only-child::after {width: 0;}#sk-container-id-26 div.sk-dashed-wrapped {border: 1px dashed gray;margin: 0 0.4em 0.5em 0.4em;box-sizing: border-box;padding-bottom: 0.4em;background-color: white;}#sk-container-id-26 div.sk-label label {font-family: monospace;font-weight: bold;display: inline-block;line-height: 1.2em;}#sk-container-id-26 div.sk-label-container {text-align: center;}#sk-container-id-26 div.sk-container {/* jupyter's `normalize.less` sets `[hidden] { display: none; }` but bootstrap.min.css set `[hidden] { display: none !important; }` so we also need the `!important` here to be able to override the default hidden behavior on the sphinx rendered scikit-learn.org. See: https://github.com/scikit-learn/scikit-learn/issues/21755 */display: inline-block !important;position: relative;}#sk-container-id-26 div.sk-text-repr-fallback {display: none;}</style><div id=\"sk-container-id-26\" class=\"sk-top-container\"><div class=\"sk-text-repr-fallback\"><pre>Pipeline(steps=[(&#x27;preprocessor&#x27;, TextPreprocessor()),\n",
       "                (&#x27;vectorizer&#x27;, VectorizerSelector_ok(maxdf=0.75)),\n",
       "                (&#x27;classifier&#x27;,\n",
       "                 MLPClassifier(alpha=0.01, learning_rate_init=0.05,\n",
       "                               random_state=42))])</pre><b>In a Jupyter environment, please rerun this cell to show the HTML representation or trust the notebook. <br />On GitHub, the HTML representation is unable to render, please try loading this page with nbviewer.org.</b></div><div class=\"sk-container\" hidden><div class=\"sk-item sk-dashed-wrapped\"><div class=\"sk-label-container\"><div class=\"sk-label sk-toggleable\"><input class=\"sk-toggleable__control sk-hidden--visually\" id=\"sk-estimator-id-95\" type=\"checkbox\" ><label for=\"sk-estimator-id-95\" class=\"sk-toggleable__label sk-toggleable__label-arrow\">Pipeline</label><div class=\"sk-toggleable__content\"><pre>Pipeline(steps=[(&#x27;preprocessor&#x27;, TextPreprocessor()),\n",
       "                (&#x27;vectorizer&#x27;, VectorizerSelector_ok(maxdf=0.75)),\n",
       "                (&#x27;classifier&#x27;,\n",
       "                 MLPClassifier(alpha=0.01, learning_rate_init=0.05,\n",
       "                               random_state=42))])</pre></div></div></div><div class=\"sk-serial\"><div class=\"sk-item\"><div class=\"sk-estimator sk-toggleable\"><input class=\"sk-toggleable__control sk-hidden--visually\" id=\"sk-estimator-id-96\" type=\"checkbox\" ><label for=\"sk-estimator-id-96\" class=\"sk-toggleable__label sk-toggleable__label-arrow\">TextPreprocessor</label><div class=\"sk-toggleable__content\"><pre>TextPreprocessor()</pre></div></div></div><div class=\"sk-item\"><div class=\"sk-estimator sk-toggleable\"><input class=\"sk-toggleable__control sk-hidden--visually\" id=\"sk-estimator-id-97\" type=\"checkbox\" ><label for=\"sk-estimator-id-97\" class=\"sk-toggleable__label sk-toggleable__label-arrow\">VectorizerSelector_ok</label><div class=\"sk-toggleable__content\"><pre>VectorizerSelector_ok(maxdf=0.75)</pre></div></div></div><div class=\"sk-item\"><div class=\"sk-estimator sk-toggleable\"><input class=\"sk-toggleable__control sk-hidden--visually\" id=\"sk-estimator-id-98\" type=\"checkbox\" ><label for=\"sk-estimator-id-98\" class=\"sk-toggleable__label sk-toggleable__label-arrow\">MLPClassifier</label><div class=\"sk-toggleable__content\"><pre>MLPClassifier(alpha=0.01, learning_rate_init=0.05, random_state=42)</pre></div></div></div></div></div></div></div>"
      ],
      "text/plain": [
       "Pipeline(steps=[('preprocessor', TextPreprocessor()),\n",
       "                ('vectorizer', VectorizerSelector_ok(maxdf=0.75)),\n",
       "                ('classifier',\n",
       "                 MLPClassifier(alpha=0.01, learning_rate_init=0.05,\n",
       "                               random_state=42))])"
      ]
     },
     "execution_count": 109,
     "metadata": {},
     "output_type": "execute_result"
    }
   ],
   "source": [
    "best_MLP_predicted = Pipeline([\n",
    "    # Preprocessing\n",
    "    ('preprocessor', TextPreprocessor()),\n",
    "    # Vectorisation\n",
    "    ('vectorizer', VectorizerSelector_ok(\n",
    "        maxdf= 0.75)),\n",
    "    # Le modèle de classification\n",
    "    ('classifier', MLPClassifier(\n",
    "        solver = 'adam',\n",
    "        #activation =  best_param.get(\"classifier__activation\"),\n",
    "        learning_rate =  best_params.get(\"classifier__learning_rate\"), \n",
    "        alpha = best_params.get(\"classifier__alpha\"),\n",
    "        learning_rate_init = best_params.get(\"classifier__learning_rate_init\"),\n",
    "         random_state = 42\n",
    "    ))\n",
    "\n",
    "            ])\n",
    "best_MLP_predicted"
   ]
  },
  {
   "cell_type": "markdown",
   "id": "a39fe806-107b-4af7-b59e-488f9a335983",
   "metadata": {},
   "source": [
    "### Reentrainement du modèle"
   ]
  },
  {
   "cell_type": "code",
   "execution_count": 110,
   "id": "a7f635d1-4617-4136-af62-ec55d2eef9d2",
   "metadata": {
    "colab": {
     "base_uri": "https://localhost:8080/"
    },
    "id": "J898c6TeQSeS",
    "outputId": "4d215788-d67a-4861-c381-3b81dbd98331"
   },
   "outputs": [],
   "source": [
    "# train prediction\n",
    "y_train_pred = best_MLP_predicted.fit(X_train, y_train).predict(X_train)"
   ]
  },
  {
   "cell_type": "markdown",
   "id": "67cdc7a6-54c7-49c0-9982-0daed23df952",
   "metadata": {
    "id": "d66AoTK2RCmp"
   },
   "source": [
    "**Evaluation d'apprentissage**"
   ]
  },
  {
   "cell_type": "code",
   "execution_count": 111,
   "id": "a594138c-31a2-4677-8115-6b37b86c3136",
   "metadata": {},
   "outputs": [
    {
     "name": "stdout",
     "output_type": "stream",
     "text": [
      "              precision    recall  f1-score   support\n",
      "\n",
      "           0       0.85      0.94      0.89      3431\n",
      "           1       0.91      0.77      0.83      2571\n",
      "\n",
      "    accuracy                           0.87      6002\n",
      "   macro avg       0.88      0.86      0.86      6002\n",
      "weighted avg       0.87      0.87      0.87      6002\n",
      "\n",
      "F-beta score (beta=1.75): 0.8027629692610361\n"
     ]
    }
   ],
   "source": [
    "# train report\n",
    "print(classification_report(y_train, y_train_pred))\n",
    "# f_beta score\n",
    "fbeta = fbeta_score(y_train, y_train_pred, beta=1.75)\n",
    "print(f\"F-beta score (beta=1.75): {fbeta}\")"
   ]
  },
  {
   "cell_type": "markdown",
   "id": "d90dcbb4-a66a-4146-98ab-6f0a4a897508",
   "metadata": {
    "id": "RT36u3v_RKat"
   },
   "source": [
    "**Evaluation de prédiction**"
   ]
  },
  {
   "cell_type": "code",
   "execution_count": 112,
   "id": "2a25a0a2-e965-41ed-8e46-1c7e53ed8e87",
   "metadata": {
    "colab": {
     "base_uri": "https://localhost:8080/"
    },
    "id": "IUS1SMWMQVju",
    "outputId": "41f9e552-38f8-4936-dd47-52711945aa54"
   },
   "outputs": [
    {
     "name": "stdout",
     "output_type": "stream",
     "text": [
      "              precision    recall  f1-score   support\n",
      "\n",
      "           0       0.74      0.80      0.77       874\n",
      "           1       0.68      0.60      0.64       627\n",
      "\n",
      "    accuracy                           0.72      1501\n",
      "   macro avg       0.71      0.70      0.70      1501\n",
      "weighted avg       0.71      0.72      0.71      1501\n",
      "\n",
      "F-beta score (beta=1.75): 0.6204075448829635\n"
     ]
    }
   ],
   "source": [
    "# test set\n",
    "print(classification_report(y_test, best_MLP_predicted.predict(X_test)))\n",
    "\n",
    "fbeta = fbeta_score(y_test, best_MLP_predicted.predict(X_test), beta=1.75)\n",
    "print(f\"F-beta score (beta=1.75): {fbeta}\")"
   ]
  },
  {
   "cell_type": "code",
   "execution_count": 113,
   "id": "312151fc-9e4e-4925-bf83-56b34e0343be",
   "metadata": {},
   "outputs": [
    {
     "data": {
      "text/plain": [
       "['MLP.pkl']"
      ]
     },
     "execution_count": 113,
     "metadata": {},
     "output_type": "execute_result"
    }
   ],
   "source": [
    "dump(best_MLP_predicted, 'MLP.pkl')"
   ]
  },
  {
   "cell_type": "code",
   "execution_count": 127,
   "id": "bf7427b5-e763-45ad-8dec-e23210767f73",
   "metadata": {},
   "outputs": [],
   "source": [
    "# Noms des fichiers contenant les modèles exportés\n",
    "model_files = ['LR.pkl', 'BernoulliNB.pkl', 'DecisionTree.pkl', 'KNN.pkl', 'PC.pkl', 'MLP.pkl']  # Remplacez par vos fichiers\n",
    "model_names = ['Logistic Regression', 'Bernoulli Naives Bayes', 'Decision Tree', 'KNN Classifier', 'Perceptron Classifier', 'Perceptron multicouche']  # Noms des modèles correspondants"
   ]
  },
  {
   "cell_type": "code",
   "execution_count": 119,
   "id": "95493bf2-c2ec-4515-b139-7d3f3f4b3984",
   "metadata": {},
   "outputs": [],
   "source": [
    "# Charger les modèles dans une liste\n",
    "import joblib\n",
    "models = [joblib.load(file) for file in model_files]\n"
   ]
  },
  {
   "cell_type": "code",
   "execution_count": 120,
   "id": "b4b6f8f6-4a5f-4572-859b-b71d18fbb7c7",
   "metadata": {},
   "outputs": [],
   "source": [
    "# Initialiser les listes pour stocker les scores\n",
    "fbeta_scores_train = []\n",
    "fbeta_scores_test = []\n",
    "\n",
    "# Définissons la valeur de beta pour le F-beta score\n",
    "beta = 1.75\n"
   ]
  },
  {
   "cell_type": "code",
   "execution_count": 121,
   "id": "fadb86f8-c3c7-4934-acc3-64cd3c104710",
   "metadata": {},
   "outputs": [
    {
     "name": "stdout",
     "output_type": "stream",
     "text": [
      "Model: Logistic Regression\n",
      "Train F-beta score: 0.6756122148684778\n",
      "Test F-beta score: 0.6469719726090165\n",
      "------------------------------\n",
      "Model: Bernoulli Naives Bayes\n",
      "Train F-beta score: 0.8549953022236142\n",
      "Test F-beta score: 0.6944763949594868\n",
      "------------------------------\n",
      "Model: Decision Tree\n",
      "Train F-beta score: 0.6606420356022573\n",
      "Test F-beta score: 0.5227000399414192\n",
      "------------------------------\n",
      "Model: KNN Classifier\n",
      "Train F-beta score: 0.940149046566627\n",
      "Test F-beta score: 0.6480745610866266\n",
      "------------------------------\n",
      "Model: Preceptron Classifier\n",
      "Train F-beta score: 0.5107814700175852\n",
      "Test F-beta score: 0.5060568472724394\n",
      "------------------------------\n",
      "Model: Perceptron multicouche\n",
      "Train F-beta score: 0.8027629692610361\n",
      "Test F-beta score: 0.6204075448829635\n",
      "------------------------------\n"
     ]
    }
   ],
   "source": [
    "# Calculer les F-beta scores pour chaque modèle\n",
    "for model, name in zip(models, model_names):\n",
    "    y_train_pred = model.fit(X_train, y_train).predict(X_train)\n",
    "    y_test_pred = model.predict(X_test)\n",
    "    \n",
    "    fbeta_train = fbeta_score(y_train, y_train_pred, beta=beta)\n",
    "    fbeta_test = fbeta_score(y_test, y_test_pred, beta=beta)\n",
    "    \n",
    "    fbeta_scores_train.append(fbeta_train)\n",
    "    fbeta_scores_test.append(fbeta_test)\n",
    "    \n",
    "    print(f\"Model: {name}\")\n",
    "    print(f\"Train F-beta score: {fbeta_train}\")\n",
    "    print(f\"Test F-beta score: {fbeta_test}\")\n",
    "    print(\"-\" * 30)"
   ]
  },
  {
   "cell_type": "code",
   "execution_count": 132,
   "id": "77ee13b1-9e1a-4695-ac4d-8ccd4efcf9b6",
   "metadata": {},
   "outputs": [
    {
     "data": {
      "image/png": "[encoded data removed]",
      "text/plain": [
       "<Figure size 1200x600 with 1 Axes>"
      ]
     },
     "metadata": {},
     "output_type": "display_data"
    }
   ],
   "source": [
    "import numpy as np\n",
    "# Visualisons les résultats\n",
    "x = np.arange(len(models)) \n",
    "width = 0.35  \n",
    "\n",
    "fig, ax = plt.subplots(figsize=(12, 6))\n",
    "rects1 = ax.bar(x - width/2, fbeta_scores_train, width, label='Train')\n",
    "rects2 = ax.bar(x + width/2, fbeta_scores_test, width, label='Test')\n",
    "\n",
    "# Ajout de quelques textes pour les labels, titres...\n",
    "ax.set_xlabel('Modèles')\n",
    "ax.set_ylabel('F-beta Scores')\n",
    "ax.set_title(f'F-beta Scores par modèle (beta={beta})')\n",
    "ax.set_xticks(x)\n",
    "ax.set_xticklabels(model_names)\n",
    "ax.legend()\n",
    "\n",
    "# Fonction pour ajouter les labels\n",
    "def add_labels(rects):\n",
    "    for rect in rects:\n",
    "        height = rect.get_height()\n",
    "        ax.annotate(f'{height:.2f}',\n",
    "                    xy=(rect.get_x() + rect.get_width() / 2, height),\n",
    "                    xytext=(0, 3),  \n",
    "                    textcoords=\"offset points\",\n",
    "                    ha='center', va='bottom')\n",
    "\n",
    "add_labels(rects1)\n",
    "add_labels(rects2)\n",
    "\n",
    "fig.tight_layout()\n",
    "\n",
    "plt.show()"
   ]
  },
  {
   "cell_type": "code",
   "execution_count": 129,
   "id": "6f3321a5-4c87-4584-904f-0e30077245cb",
   "metadata": {},
   "outputs": [
    {
     "name": "stdout",
     "output_type": "stream",
     "text": [
      "Le meilleur modèle est Bernoulli Naives Bayes avec un F-1.75 score de 0.69 sur le jeu de test.\n"
     ]
    }
   ],
   "source": [
    "# Sélection du meilleur modèle\n",
    "best_model_index = np.argmax(fbeta_scores_test)\n",
    "best_model = models[best_model_index]\n",
    "print(f\"Le meilleur modèle est {model_names[best_model_index]} avec un F-{beta} score de {fbeta_scores_test[best_model_index]:.2f} sur le jeu de test.\")"
   ]
  },
  {
   "cell_type": "markdown",
   "id": "ad18d1a0-b518-48b9-82b4-72c94680c64c",
   "metadata": {},
   "source": [
    "# Prédiction et submission"
   ]
  },
  {
   "cell_type": "code",
   "execution_count": 133,
   "id": "cefb964e-6ca3-4d3b-a2e0-51b45268a7bf",
   "metadata": {},
   "outputs": [],
   "source": [
    "predictions = best_NB_predicted.predict(test_data['text'])"
   ]
  },
  {
   "cell_type": "code",
   "execution_count": 137,
   "id": "a0d13abf-8db1-4663-8c7b-4217145772fb",
   "metadata": {},
   "outputs": [],
   "source": [
    "import pandas as pd\n",
    "\n",
    "# Fichier submission.csv existant pour obtenir les valeurs des id\n",
    "submission_existante = pd.read_csv(Path(DATA_DIR, 'sample_submission.csv'), sep=\",\")\n",
    "\n",
    "# DataFrame pour les nouvelles prédictions avec les valeurs correspondantes des id\n",
    "# En supposant que test_data['id'] contient les valeurs des id et predictions est votre nouveau tableau de prédictions\n",
    "nouvelles_predictions = pd.DataFrame({'id': test_data['id'], 'target': predictions})\n",
    "\n",
    "# Fusionn des nouvelles prédictions avec le DataFrame de soumission existant sur 'id'\n",
    "submission_mise_a_jour = pd.merge(submission_existante[['id']], nouvelles_predictions, on='id', how='left')\n",
    "\n",
    "# Étape 4 : Enregistrer le DataFrame mis à jour dans submission.csv\n",
    "chemin_vers_fichier = Path(DATA_DIR, \"sample_submission.csv\")\n",
    "submission_mise_a_jour.to_csv(chemin_vers_fichier)"
   ]
  }
 ],
 "metadata": {
  "kernelspec": {
   "display_name": "Python 3 (ipykernel)",
   "language": "python",
   "name": "python3"
  },
  "language_info": {
   "codemirror_mode": {
    "name": "ipython",
    "version": 3
   },
   "file_extension": ".py",
   "mimetype": "text/x-python",
   "name": "python",
   "nbconvert_exporter": "python",
   "pygments_lexer": "ipython3",
   "version": "3.11.6"
  }
 },
 "nbformat": 4,
 "nbformat_minor": 5
}
